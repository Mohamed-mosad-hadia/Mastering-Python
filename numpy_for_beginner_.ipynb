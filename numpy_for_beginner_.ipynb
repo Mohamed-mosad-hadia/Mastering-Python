{
  "cells": [
    {
      "cell_type": "markdown",
      "id": "476dcf7c",
      "metadata": {
        "id": "476dcf7c"
      },
      "source": [
        "# Numpy\n",
        "\n",
        "  `**NumPy** (Numerical Python)` is an open source Python library that’s widely used in science and engineering. The NumPy library contains multidimensional array data structures, such as the homogeneous, N-dimensional ndarray, and a large library of functions that operate efficiently on these data structures.\n",
        "\n",
        "  **Arrays** are a fundamental data structure, and an important part of most programming languages. In Python, they are containers which are able to store more than one item at the same time. Specifically, they are an ordered collection of elements with every value being of the same data type."
      ]
    },
    {
      "cell_type": "markdown",
      "id": "8013b9bc",
      "metadata": {
        "id": "8013b9bc"
      },
      "source": [
        "# Notes\n",
        " 0-D (zero-dimensional) array referred to as a `“scalar”`\n",
        "\n",
        " 1-D array as a `“vector”`  \n",
        "\n",
        " 2-D (two-dimensional) array as a “**`matrix`**”\n",
        "\n",
        " N-dimensional, where “N” is typically an integer greater than 2) array as a **`“tensor”`**  "
      ]
    },
    {
      "cell_type": "code",
      "execution_count": 1,
      "id": "c826dde4",
      "metadata": {
        "code_folding": [],
        "colab": {
          "base_uri": "https://localhost:8080/"
        },
        "id": "c826dde4",
        "outputId": "7e321fcd-8a85-49b1-bd9e-52ad77fb6f2c"
      },
      "outputs": [
        {
          "output_type": "stream",
          "name": "stdout",
          "text": [
            "[1, 2, 3, 4, 5, 6, 7, 8, 9, 10]\n",
            "[ 1  2  3  4  5  6  7  8  9 10]\n"
          ]
        }
      ],
      "source": [
        "#import library\n",
        "import numpy as np\n",
        "# create List and Array using numpy\n",
        "#list\n",
        "List= [1,2,3,4,5,6,7,8,9,10]\n",
        "# Array\n",
        "Array=np.array(List)\n",
        "print(List)\n",
        "print(Array)"
      ]
    },
    {
      "cell_type": "markdown",
      "id": "8ad601c8",
      "metadata": {
        "id": "8ad601c8"
      },
      "source": [
        "# Indexing and slicing"
      ]
    },
    {
      "cell_type": "code",
      "execution_count": null,
      "id": "6751875b",
      "metadata": {
        "id": "6751875b",
        "outputId": "1e64ab74-0c45-4640-86df-388e6694c843"
      },
      "outputs": [
        {
          "name": "stdout",
          "output_type": "stream",
          "text": [
            "[1 2 3 4 5]\n",
            "1\n",
            "2\n",
            "3\n",
            "[1 2 3 4]\n",
            "[1 2 3]\n",
            "5\n",
            "[3 4]\n",
            "[1 2 3 4 5]\n"
          ]
        }
      ],
      "source": [
        "# 1D dimension (vector)\n",
        "a = np.array([1, 2, 3, 4, 5])\n",
        "\n",
        "# Accessing elements, same as happens with lists\n",
        "print(a)        # Prints the entire array\n",
        "print(a[0])     # Prints the first element\n",
        "print(a[1])     # Prints the second element\n",
        "print(a[2])     # Prints the third element\n",
        "print(a[0:4])   # Prints elements from index 0 to 3 (slicing)\n",
        "print(a[:3])\n",
        "print(a[-1])    # Prints the last element\n",
        "print(a[-3:-1]) # Prints elements from the third last to the second last\n",
        "print(a[:])     #Print all element array"
      ]
    },
    {
      "cell_type": "code",
      "source": [
        "# another method for slicing and indexing\n",
        "a = np.array([[1 , 2, 3, 4], [5, 6, 7, 8], [9, 10, 11, 12]])\n",
        "print(a)\n",
        "print(\"#\"*50)\n",
        "print(a[0])\n",
        "print(\"#\"*50)\n",
        "print(a[a < 5])\n",
        "print(a[a %2 == 0 ])\n",
        "print(\"#\"*50)\n",
        "print(a[(a > 2) & (a < 11)])\n",
        "print(\"#\"*50)\n",
        "c = a[(a > 2) & (a < 11)]\n",
        "print(c)"
      ],
      "metadata": {
        "colab": {
          "base_uri": "https://localhost:8080/"
        },
        "id": "NB6hxXYt0hye",
        "outputId": "c73015c7-c2e7-4720-f479-e5689585a32f"
      },
      "id": "NB6hxXYt0hye",
      "execution_count": 10,
      "outputs": [
        {
          "output_type": "stream",
          "name": "stdout",
          "text": [
            "[[ 1  2  3  4]\n",
            " [ 5  6  7  8]\n",
            " [ 9 10 11 12]]\n",
            "##################################################\n",
            "[1 2 3 4]\n",
            "##################################################\n",
            "[1 2 3 4]\n",
            "[ 2  4  6  8 10 12]\n",
            "##################################################\n",
            "[ 3  4  5  6  7  8  9 10]\n",
            "##################################################\n",
            "[ 3  4  5  6  7  8  9 10]\n"
          ]
        }
      ]
    },
    {
      "cell_type": "code",
      "execution_count": null,
      "id": "124112a2",
      "metadata": {
        "id": "124112a2",
        "outputId": "798967be-fe5e-4559-e1c8-d9f7ad3f5960"
      },
      "outputs": [
        {
          "name": "stdout",
          "output_type": "stream",
          "text": [
            "[111 222 333   4   5]\n"
          ]
        }
      ],
      "source": [
        "# 1D dimension (vector)\n",
        "a = np.array([1, 2, 3, 4, 5])\n",
        "\n",
        "# Update elements of the array\n",
        "a[0] = 111  # Update the first element\n",
        "a[0:3] = [111, 222, 333]  # Update the first three elements\n",
        "\n",
        "# Print the updated array\n",
        "print(a)\n"
      ]
    },
    {
      "cell_type": "code",
      "execution_count": null,
      "id": "e43ef6a9",
      "metadata": {
        "code_folding": [],
        "id": "e43ef6a9",
        "outputId": "b06a513d-e1fd-4971-b0c4-b44c3ba123ab"
      },
      "outputs": [
        {
          "name": "stdout",
          "output_type": "stream",
          "text": [
            "[[ 1  2  3  4]\n",
            " [ 5  6  7  8]\n",
            " [ 9 10 11 12]]\n",
            "##################################################\n",
            "11\n"
          ]
        }
      ],
      "source": [
        "#Two- and higher-dimensional arrays can be initialized from nested Python sequences:\n",
        "a = np.array([[1, 2, 3, 4], [5, 6, 7, 8], [9, 10, 11, 12]])\n",
        "#display array\n",
        "print(a)\n",
        "#access elements on multi dimention array\n",
        "print(\"#\"*50)\n",
        "print(a[2][2])\n"
      ]
    },
    {
      "cell_type": "markdown",
      "id": "100e4715",
      "metadata": {
        "id": "100e4715"
      },
      "source": [
        "# Array attributes\n",
        "This section covers the\n",
        "\n",
        "       1- ndim ==> will tell you the number of axes, or dimensions, of the array.\n",
        "\n",
        "       2- size ==> will tell you the total number of elements of the array.\n",
        "\n",
        "       3- shape ==> will display (n-dimention, num Rows , num columns)\n",
        "            \n",
        "       4-dtype\n",
        "            \n",
        "                    "
      ]
    },
    {
      "cell_type": "code",
      "execution_count": null,
      "id": "df9961e7",
      "metadata": {
        "code_folding": [],
        "id": "df9961e7",
        "outputId": "9fd817e7-eb92-4ebb-a161-6f062f19d0d1"
      },
      "outputs": [
        {
          "name": "stdout",
          "output_type": "stream",
          "text": [
            "1\n",
            "2\n",
            "3\n",
            "5\n",
            "8\n",
            "12\n",
            "(5,)\n",
            "(2, 4)\n",
            "(1, 3, 4)\n"
          ]
        }
      ],
      "source": [
        "#The number of dimensions ==> ndim\n",
        "\n",
        "# 1D array\n",
        "a = np.array([1, 2, 3, 4, 5])\n",
        "\n",
        "# 2D array\n",
        "b = np.array([[1, 2, 3, 4], [5, 6, 7, 8]])\n",
        "\n",
        "# 3D array\n",
        "c = np.array([[[1, 2, 3, 4],\n",
        "               [5, 6, 7, 8],\n",
        "               [9, 10, 11, 12]]])\n",
        "\n",
        "# Print the number of dimensions for each array\n",
        "print(a.ndim)  # Output: 1\n",
        "print(b.ndim)  # Output: 2\n",
        "print(c.ndim)  # Output: 3\n",
        "\n",
        "\n",
        "\n",
        "# The fixed, total number of elements in array is contained in the size attribute.\n",
        "print(a.size)\n",
        "print(b.size)\n",
        "print(c.size)\n",
        "\n",
        "\n",
        "# The shape of an array\n",
        "print (a.shape)\n",
        "print (b.shape)\n",
        "print (c.shape)\n",
        "\n"
      ]
    },
    {
      "cell_type": "code",
      "execution_count": null,
      "id": "c6d1dae2",
      "metadata": {
        "id": "c6d1dae2",
        "outputId": "7758c9fd-b25f-4e14-d1f1-037a7ccf3f49"
      },
      "outputs": [
        {
          "name": "stdout",
          "output_type": "stream",
          "text": [
            "3\n",
            "24\n",
            "(3, 2, 4)\n"
          ]
        }
      ],
      "source": [
        "array_example = np.array([[[0, 1, 2, 3],\n",
        "                           [4, 5, 6, 7]],\n",
        "\n",
        "                          [[0, 1, 2, 3],\n",
        "                           [4, 5, 6, 7]],\n",
        "\n",
        "                          [[0 ,1 ,2, 3],\n",
        "                           [4, 5, 6, 7]]])\n",
        "\n",
        "print(array_example.ndim)\n",
        "print(array_example.size)\n",
        "print(array_example.shape)"
      ]
    },
    {
      "cell_type": "markdown",
      "id": "48d4811a",
      "metadata": {
        "id": "48d4811a"
      },
      "source": [
        "# How to create a basic array 1-D\n",
        "np.zeros()\n",
        "\n",
        "np.ones()\n",
        "\n",
        "np.empty()\n",
        "\n",
        "np.arange()\n",
        "\n",
        "np.linspace()\n",
        "\n",
        "Specifying your data type     (size of array ,dtype=np.datatype)"
      ]
    },
    {
      "cell_type": "code",
      "execution_count": null,
      "id": "2db97ad5",
      "metadata": {
        "id": "2db97ad5",
        "outputId": "99d64213-d43f-456e-ce18-58cfad659912"
      },
      "outputs": [
        {
          "name": "stdout",
          "output_type": "stream",
          "text": [
            "[0. 0. 0. 0. 0. 0. 0. 0. 0. 0.]\n"
          ]
        }
      ],
      "source": [
        "# build array of zeros\n",
        "Array_zeros= np.zeros(10) # the parameter take the number of elements\n",
        "print(Array_zeros)"
      ]
    },
    {
      "cell_type": "code",
      "execution_count": null,
      "id": "3328ea26",
      "metadata": {
        "id": "3328ea26",
        "outputId": "55d2a0b0-ca13-4484-8c19-07db2267b6dd"
      },
      "outputs": [
        {
          "name": "stdout",
          "output_type": "stream",
          "text": [
            "[1. 1. 1. 1. 1. 1. 1. 1. 1. 1.]\n",
            "[1 1 1 1 1 1 1 1 1 1]\n",
            "[1. 1. 1. 1. 1. 1. 1. 1. 1. 1.]\n"
          ]
        }
      ],
      "source": [
        "# build array of ones\n",
        "Array_ones = np.ones(10)\n",
        "#Specifying your data type\n",
        "Array_int=np.ones(10,dtype=np.int64)\n",
        "Array_one=np.ones(10,dtype=np.int64)\n",
        "Array_float =np.ones(10,dtype=np.float64)\n",
        "print(Array_ones)\n",
        "print(Array_int)\n",
        "print(Array_float)"
      ]
    },
    {
      "cell_type": "code",
      "execution_count": null,
      "id": "8905d345",
      "metadata": {
        "id": "8905d345",
        "outputId": "bfe23406-9cd0-4a3c-e5f3-92c120319f17"
      },
      "outputs": [
        {
          "name": "stdout",
          "output_type": "stream",
          "text": [
            "[0. 0. 0. 0. 0. 0. 0. 0. 0. 0.]\n",
            "[4607182418800017408 4607182418800017408 4607182418800017408\n",
            " 4607182418800017408 4607182418800017408 4607182418800017408\n",
            " 4607182418800017408 4607182418800017408 4607182418800017408\n",
            " 4607182418800017408]\n"
          ]
        }
      ],
      "source": [
        "# build array of empty\n",
        "#The function empty creates an array whose initial content is random and depends on the state of the memory\n",
        "# The reason to use empty over zeros (or something similar) is speed\n",
        "\n",
        "Array_empty=np.empty(10)\n",
        "#Specifying your data type\n",
        "Array=np.empty(10,dtype=np.int64)\n",
        "\n",
        "print(Array_empty)\n",
        "print(Array)"
      ]
    },
    {
      "cell_type": "code",
      "execution_count": null,
      "id": "4ec114b6",
      "metadata": {
        "id": "4ec114b6",
        "outputId": "a9e8ee63-b49f-459f-839a-f05f8fdd02e7"
      },
      "outputs": [
        {
          "name": "stdout",
          "output_type": "stream",
          "text": [
            "[0 2 4 6 8]\n"
          ]
        }
      ],
      "source": [
        "# create an array with a range of elements:\n",
        "#(the first number, last number,  the step size)\n",
        "array_arrange = np.arange(0,10,2)\n",
        "print(array_arrange)"
      ]
    },
    {
      "cell_type": "code",
      "execution_count": null,
      "id": "ce9e52c7",
      "metadata": {
        "id": "ce9e52c7",
        "outputId": "4646a5b6-7777-4ce9-9434-a6e4f1fa074a"
      },
      "outputs": [
        {
          "name": "stdout",
          "output_type": "stream",
          "text": [
            "[ 1.  4.  7. 10.]\n"
          ]
        }
      ],
      "source": [
        "#You can also use np.linspace() to create an array with values that are spaced linearly in a specified interval:\n",
        "array_linspace=np.linspace(1,10,num=4)\n",
        "print(array_linspace)"
      ]
    },
    {
      "cell_type": "markdown",
      "id": "7ffa58e4",
      "metadata": {
        "id": "7ffa58e4"
      },
      "source": [
        "# Adding, removing,concatenate and sorting elements\n",
        "ndarray.sort\n",
        "\n",
        "Method to sort an array in-place.\n",
        "\n",
        "\n",
        "\n",
        "\n",
        "\n",
        "  *   argsort\n",
        "\n",
        "\n",
        "  *  Indirect sort.\n",
        "\n",
        "  * lexsort\n",
        "\n",
        "       Indirect stable sort on multiple keys.\n",
        "\n",
        "  * searchsorted\n",
        "\n",
        "       Find elements in a sorted array.\n",
        "\n",
        "  *   partition\n",
        "  \n",
        "       Partial sort.\n",
        "\n",
        "  *   np.concatenate()\n",
        "\n"
      ]
    },
    {
      "cell_type": "code",
      "execution_count": null,
      "id": "c0421c87",
      "metadata": {
        "id": "c0421c87",
        "outputId": "29524303-38da-4c2f-b953-52a5eb9b85a3"
      },
      "outputs": [
        {
          "name": "stdout",
          "output_type": "stream",
          "text": [
            "[1 2 3 4 5 6 7 8]\n"
          ]
        }
      ],
      "source": [
        "#Sort ASC\n",
        "arr = np.array([2, 1, 5, 3, 7, 4, 6, 8])\n",
        "arr=np.sort(arr)\n",
        "print(arr)"
      ]
    },
    {
      "cell_type": "code",
      "execution_count": null,
      "id": "f8736e92",
      "metadata": {
        "id": "f8736e92",
        "outputId": "87f1de62-049e-4233-c8c1-084feb4b91c9"
      },
      "outputs": [
        {
          "name": "stdout",
          "output_type": "stream",
          "text": [
            "[1 2 3 4 5 6 7 8]\n"
          ]
        }
      ],
      "source": [
        "#np.concatenate()\n",
        "\n",
        "a = np.array([1, 2, 3, 4])\n",
        "b = np.array([5, 6, 7, 8])\n",
        "c = np.concatenate((a, b))\n",
        "print(c)\n"
      ]
    },
    {
      "cell_type": "code",
      "source": [
        "#create an array from existing data\n",
        "\n",
        "a1=np.array([1,2,3,4,5,6,7,8,9])\n",
        "a2=a1[3:8]\n",
        "print(a2)\n"
      ],
      "metadata": {
        "colab": {
          "base_uri": "https://localhost:8080/"
        },
        "id": "BK51A66M2o7e",
        "outputId": "59c0cb97-f227-4c54-f81b-2375d50d3e53"
      },
      "id": "BK51A66M2o7e",
      "execution_count": 11,
      "outputs": [
        {
          "output_type": "stream",
          "name": "stdout",
          "text": [
            "[4 5 6 7 8]\n"
          ]
        }
      ]
    },
    {
      "cell_type": "code",
      "source": [
        "#np.vstack() ==> vertically\n",
        "#np.hstack () ==> horizontally\n",
        "\n",
        "\n",
        "a1 = np.array([[1, 1],\n",
        "               [2, 2]])\n",
        "\n",
        "a2 = np.array([[3, 3],\n",
        "               [4, 4]])\n",
        "\n",
        "print(np.vstack((a1, a2)))\n",
        "print(\"#\"*50)\n",
        "print(np.hstack((a1, a2)))"
      ],
      "metadata": {
        "colab": {
          "base_uri": "https://localhost:8080/"
        },
        "id": "VrtmviKY230A",
        "outputId": "e16e9c74-2ba1-4938-f47c-f942e96042d2"
      },
      "id": "VrtmviKY230A",
      "execution_count": 17,
      "outputs": [
        {
          "output_type": "stream",
          "name": "stdout",
          "text": [
            "[[1 1]\n",
            " [2 2]\n",
            " [3 3]\n",
            " [4 4]]\n",
            "##################################################\n",
            "[[1 1 3 3]\n",
            " [2 2 4 4]]\n"
          ]
        }
      ]
    },
    {
      "cell_type": "markdown",
      "id": "7036fb8d",
      "metadata": {
        "id": "7036fb8d"
      },
      "source": [
        "# Can you reshape an array?\n",
        "       arr.reshape() ==> we can conver array from 1d into multiple shapes   And vice versa"
      ]
    },
    {
      "cell_type": "code",
      "execution_count": null,
      "id": "d7c904e2",
      "metadata": {
        "id": "d7c904e2",
        "outputId": "08fc9f62-8380-4959-976f-e5877a822893"
      },
      "outputs": [
        {
          "name": "stdout",
          "output_type": "stream",
          "text": [
            "[0 1 2 3 4 5]\n",
            "[[0 1]\n",
            " [2 3]\n",
            " [4 5]]\n"
          ]
        }
      ],
      "source": [
        "a = np.arange(6)\n",
        "print(a)\n",
        "b = a.reshape(3, 2) #array.reshape()\n",
        "print(b)"
      ]
    },
    {
      "cell_type": "markdown",
      "id": "24d00c5f",
      "metadata": {
        "id": "24d00c5f"
      },
      "source": [
        "# How to convert a 1D array into a 2D array (how to add a new axis to an array)\n",
        "\n",
        "        1-np.newaxis : np.newaxis is used to increase the dimension of an array by one.  It's primarily used to convert a 1D array into a 2D array (row vector or column vector) or higher-dimensional arrays.\n",
        "        \n",
        "        2-np.expan_dims :  np.expand_dims is used to insert a new axis (dimension) into an array. It's similar to np.newaxis, but provides more explicit control.\n",
        "        "
      ]
    },
    {
      "cell_type": "code",
      "source": [
        "# Example:\n",
        "a = np.array([1, 2, 3])\n",
        "print(a.shape)  # Output: (3,) - 1D array\n",
        "\n",
        "# Adding a new axis to make it a row vector:\n",
        "row_vector = a[np.newaxis, :]\n",
        "print(row_vector.shape)  # Output: (1, 3) - 2D array\n",
        "\n",
        "# Adding a new axis to make it a column vector:\n",
        "col_vector = a[:, np.newaxis]\n",
        "print(col_vector.shape)  # Output: (3, 1) - 2D array\n",
        "\n",
        "# Using None instead of np.newaxis (they are equivalent)\n",
        "row_vector_none = a[None, :]\n",
        "print(row_vector_none.shape) #Output: (1,3)\n",
        "col_vector_none = a[:, None]\n",
        "print(col_vector_none.shape) #Output: (3,1)\n",
        "\n"
      ],
      "metadata": {
        "colab": {
          "base_uri": "https://localhost:8080/"
        },
        "id": "ogg3kRevy7gY",
        "outputId": "ee3e38bb-6bbd-471a-d39c-ab7b3790513e"
      },
      "id": "ogg3kRevy7gY",
      "execution_count": 2,
      "outputs": [
        {
          "output_type": "stream",
          "name": "stdout",
          "text": [
            "(3,)\n",
            "(1, 3)\n",
            "(3, 1)\n",
            "(1, 3)\n",
            "(3, 1)\n"
          ]
        }
      ]
    },
    {
      "cell_type": "code",
      "execution_count": 3,
      "id": "4195842c",
      "metadata": {
        "colab": {
          "base_uri": "https://localhost:8080/"
        },
        "id": "4195842c",
        "outputId": "2fb97e5a-742b-4bef-f2f7-5ffd306accf9"
      },
      "outputs": [
        {
          "output_type": "stream",
          "name": "stdout",
          "text": [
            "(3,)\n",
            "(1, 3)\n",
            "(3, 1)\n",
            "(2, 2)\n",
            "(1, 2, 2)\n",
            "(2, 1, 2)\n"
          ]
        }
      ],
      "source": [
        "# Example np.expand_dims\n",
        "\n",
        "a = np.array([1, 2, 3])\n",
        "print(a.shape)  # Output: (3,)\n",
        "\n",
        "# Insert a new axis at position 0 (row vector)\n",
        "b = np.expand_dims(a, axis=0)\n",
        "print(b.shape)  # Output: (1, 3)\n",
        "\n",
        "# Insert a new axis at position 1 (column vector)\n",
        "c = np.expand_dims(a, axis=1)\n",
        "print(c.shape)  # Output: (3, 1)\n",
        "\n",
        "# Example with a 2D array\n",
        "d = np.array([[1, 2], [3, 4]])\n",
        "print(d.shape)  # (2, 2)\n",
        "\n",
        "# Insert new axis at position 0\n",
        "e = np.expand_dims(d, axis=0)\n",
        "print(e.shape)  # (1, 2, 2)\n",
        "\n",
        "# Insert new axis at position 1\n",
        "f = np.expand_dims(d, axis=1)\n",
        "print(f.shape)  # (2, 1, 2)"
      ]
    },
    {
      "cell_type": "markdown",
      "source": [
        "# Basic array operations\n",
        "\n",
        "\n",
        "> addition , subtraction  ,multiplication  , division\n",
        "\n",
        "\n",
        ">function sum()\n",
        "\n",
        "\n",
        "> Broadcasting\n",
        "\n",
        "\n",
        "  The axis parameter specifies the direction along which the operation is applied:\n",
        "\n",
        "\n",
        "\n",
        "1.    axis=0: Operates along columns.\n",
        "2.    axis=1: Operates along rows.\n",
        "\n",
        "\n",
        "\n",
        "\n",
        "\n",
        "\n",
        "\n",
        "\n"
      ],
      "metadata": {
        "id": "vTgdPXiM3r8S"
      },
      "id": "vTgdPXiM3r8S"
    },
    {
      "cell_type": "code",
      "source": [
        "#Basic array operations\n",
        "arr1 = np.arange(0,20,2)\n",
        "arr2 = np .arange(0,20,2)\n",
        "#addition\n",
        "print(arr1 + arr2)\n",
        "#multiplication\n",
        "print(arr1 * arr2)\n",
        "#subtraction\n",
        "print(arr1 - arr2)\n",
        "#division\n",
        "print(arr1 / arr2)"
      ],
      "metadata": {
        "colab": {
          "base_uri": "https://localhost:8080/"
        },
        "id": "OmR_-ZpD0Gr1",
        "outputId": "ee52b5e4-5aa2-429d-ce32-ba1839c2a66f"
      },
      "id": "OmR_-ZpD0Gr1",
      "execution_count": 23,
      "outputs": [
        {
          "output_type": "stream",
          "name": "stdout",
          "text": [
            "[ 0  4  8 12 16 20 24 28 32 36]\n",
            "[  0   4  16  36  64 100 144 196 256 324]\n",
            "[0 0 0 0 0 0 0 0 0 0]\n",
            "[nan  1.  1.  1.  1.  1.  1.  1.  1.  1.]\n"
          ]
        },
        {
          "output_type": "stream",
          "name": "stderr",
          "text": [
            "<ipython-input-23-d74f9636e1c4>:11: RuntimeWarning: invalid value encountered in divide\n",
            "  print(arr1 / arr2)\n"
          ]
        }
      ]
    },
    {
      "cell_type": "code",
      "source": [
        "#function sum()\n",
        "array1=np.array([[1,2,3],[4,5,6]])\n",
        "print(array1.sum())\n",
        "print(array1.sum(axis=0))\n",
        "#note sum(axis=1) ====> [(1+2,+3)    (4+5+6) ]\n",
        "print(array1.sum(axis=1))\n",
        "\n"
      ],
      "metadata": {
        "colab": {
          "base_uri": "https://localhost:8080/"
        },
        "id": "B64wlAC-3wWq",
        "outputId": "b818a1b3-bf97-4384-827a-228cb7115019"
      },
      "id": "B64wlAC-3wWq",
      "execution_count": 25,
      "outputs": [
        {
          "output_type": "stream",
          "name": "stdout",
          "text": [
            "21\n",
            "[5 7 9]\n",
            "[ 6 15]\n"
          ]
        }
      ]
    },
    {
      "cell_type": "markdown",
      "source": [
        "  **Broadcasting**\n",
        "\n",
        "\n",
        "> operation between a vector and a scalar\n",
        "\n",
        "\n",
        "\n",
        "> More useful array operations  \n",
        "\n",
        "\n",
        "\n",
        "* min()\n",
        "* max ()\n",
        "* sum()\n",
        "\n",
        "\n",
        "\n",
        "\n",
        "\n",
        "\n",
        "> get unique items and counts\n",
        "\n",
        "\n",
        "*   np.unique =  print the unique values in your array:\n",
        "\n",
        "\n",
        "\n",
        "\n",
        "\n",
        "\n",
        "\n",
        "\n",
        "\n",
        "\n"
      ],
      "metadata": {
        "id": "Jut6uyXV5gw_"
      },
      "id": "Jut6uyXV5gw_"
    },
    {
      "cell_type": "code",
      "source": [
        "data = np.array([1.0, 2.0])\n",
        "data * 1.6"
      ],
      "metadata": {
        "colab": {
          "base_uri": "https://localhost:8080/"
        },
        "id": "i8libI5M4vVc",
        "outputId": "1f89b7ed-2f44-450c-9eb5-a99674dfe7d5"
      },
      "id": "i8libI5M4vVc",
      "execution_count": 26,
      "outputs": [
        {
          "output_type": "execute_result",
          "data": {
            "text/plain": [
              "array([1.6, 3.2])"
            ]
          },
          "metadata": {},
          "execution_count": 26
        }
      ]
    },
    {
      "cell_type": "code",
      "source": [
        "#max\n",
        "print(data.max ())\n",
        "#min\n",
        "print(data.min ())\n",
        "#sum\n",
        "print(data.sum ())"
      ],
      "metadata": {
        "colab": {
          "base_uri": "https://localhost:8080/"
        },
        "id": "B_fCc-AK6aS4",
        "outputId": "16f3ce1c-3736-41fd-fdee-88fff8bee792"
      },
      "id": "B_fCc-AK6aS4",
      "execution_count": 28,
      "outputs": [
        {
          "output_type": "stream",
          "name": "stdout",
          "text": [
            "2.0\n",
            "1.0\n",
            "3.0\n"
          ]
        }
      ]
    },
    {
      "cell_type": "code",
      "source": [
        "#another Example\n",
        "a = np.array([[0.45053314, 0.17296777, 0.34376245, 0.5510652],\n",
        "              [0.54627315, 0.05093587, 0.40067661, 0.55645993],\n",
        "              [0.12697628, 0.82485143, 0.26590556, 0.56917101]])\n",
        "#summation all number\n",
        "print(a.sum())\n",
        "# The Minimum number in the Matrix\n",
        "print(a.min())\n",
        "# The Maximum number in the Matrix\n",
        "print(a.max())\n",
        "#The Minimum number at each column\n",
        "print(a.min(axis=0))\n",
        "#The Max number at each row\n",
        "print(a.max(axis=1))\n"
      ],
      "metadata": {
        "colab": {
          "base_uri": "https://localhost:8080/"
        },
        "id": "dJ1RO95v6uhJ",
        "outputId": "6d7891c7-b6a1-4127-f49f-d9758cb16a6a"
      },
      "id": "dJ1RO95v6uhJ",
      "execution_count": 29,
      "outputs": [
        {
          "output_type": "stream",
          "name": "stdout",
          "text": [
            "4.8595784\n",
            "0.05093587\n",
            "0.82485143\n",
            "[0.12697628 0.05093587 0.26590556 0.5510652 ]\n",
            "[0.5510652  0.55645993 0.82485143]\n"
          ]
        }
      ]
    },
    {
      "cell_type": "markdown",
      "source": [
        "#Generating random numbers"
      ],
      "metadata": {
        "id": "Aqga_1nLDmPc"
      },
      "id": "Aqga_1nLDmPc"
    },
    {
      "cell_type": "code",
      "source": [
        "# Generate random numbers from a uniform distribution\n",
        "uniform_random = np.random.rand(5)  # 5 random numbers between 0 and 1\n",
        "print(\"Uniform random numbers:\", uniform_random)\n",
        "\n",
        "\n",
        "\n",
        "# Generate random numbers from a normal distribution (Gaussian)\n",
        "normal_random = np.random.randn(5)  # 5 random numbers with mean 0 and standard deviation 1\n",
        "print(\"Normal random numbers:\", normal_random)\n",
        "\n",
        "# Generate random integers within a range (inclusive of the lower bound, exclusive of the upper bound)\n",
        "random_integers = np.random.randint(1, 10, size=5)  # 5 random integers between 1 and 9\n",
        "print(\"Random integers:\", random_integers)\n",
        "\n",
        "# Generate random numbers from a specific distribution (e.g., exponential)\n",
        "# exponential_random = np.random.exponential(scale=1.0, size=5) # 5 random numbers from an exponential distribution\n",
        "# print(\"Exponential random numbers:\", exponential_random)"
      ],
      "metadata": {
        "colab": {
          "base_uri": "https://localhost:8080/"
        },
        "id": "Wmn-socZDzqb",
        "outputId": "eab61f62-1d88-4baf-d8f5-75d1f86267f6"
      },
      "id": "Wmn-socZDzqb",
      "execution_count": 32,
      "outputs": [
        {
          "output_type": "stream",
          "name": "stdout",
          "text": [
            "Uniform random numbers: [0.95060618 0.99042085 0.57974488 0.80759779 0.14058951]\n",
            "Normal random numbers: [ 0.50815422 -0.53758599  0.46296825  1.19221467  1.47500408]\n",
            "Random integers: [1 5 1 3 2]\n"
          ]
        }
      ]
    },
    {
      "cell_type": "markdown",
      "source": [
        "# unique values in your array"
      ],
      "metadata": {
        "id": "8bObqPShGVVr"
      },
      "id": "8bObqPShGVVr"
    },
    {
      "cell_type": "code",
      "source": [
        "#To get the unique rows, index position, and occurrence count\n",
        "array=np.array([[1, 2, 3], [4, 5, 6], [1, 2, 3], [7, 8, 9], [1, 2, 3], [4, 5, 6]])\n",
        "unique_rows, indices, occurrence  = np.unique(array, axis=0, return_counts=True, return_index=True)\n",
        "\n",
        "print(unique_rows)\n",
        "print(\"#\"*50)\n",
        "\n",
        "print(indices)\n",
        "print(\"#\"*50)\n",
        "\n",
        "print(occurrence)"
      ],
      "metadata": {
        "colab": {
          "base_uri": "https://localhost:8080/"
        },
        "id": "aPeJszX9EXrl",
        "outputId": "fdf0bc37-d0ca-4a3e-cb41-46febbeac274"
      },
      "id": "aPeJszX9EXrl",
      "execution_count": 36,
      "outputs": [
        {
          "output_type": "stream",
          "name": "stdout",
          "text": [
            "[[1 2 3]\n",
            " [4 5 6]\n",
            " [7 8 9]]\n",
            "##################################################\n",
            "[0 1 3]\n",
            "##################################################\n",
            "[3 2 1]\n"
          ]
        }
      ]
    },
    {
      "cell_type": "code",
      "source": [
        "#to get unique values at the array\n",
        "array=np.array([[1, 2, 3], [4, 5, 6], [1, 2, 3], [7, 8, 9], [1, 2, 3], [4, 5, 6]])\n",
        "unique_vlaues=np.unique(array)\n",
        "print(unique_vlaues)"
      ],
      "metadata": {
        "colab": {
          "base_uri": "https://localhost:8080/"
        },
        "id": "09b0LTdKFZlh",
        "outputId": "03e60f1c-ceca-4b66-b870-afa4827b73a9"
      },
      "id": "09b0LTdKFZlh",
      "execution_count": 38,
      "outputs": [
        {
          "output_type": "stream",
          "name": "stdout",
          "text": [
            "[1 2 3 4 5 6 7 8 9]\n"
          ]
        }
      ]
    },
    {
      "cell_type": "code",
      "source": [
        "unique_values, indices = np.unique(array, return_index=True)\n",
        "print(unique_values)\n",
        "print(indices)"
      ],
      "metadata": {
        "colab": {
          "base_uri": "https://localhost:8080/"
        },
        "id": "c1KhGuXrF6Di",
        "outputId": "dc852afb-4229-4508-803e-aebd19dfb207"
      },
      "id": "c1KhGuXrF6Di",
      "execution_count": 39,
      "outputs": [
        {
          "output_type": "stream",
          "name": "stdout",
          "text": [
            "[1 2 3 4 5 6 7 8 9]\n",
            "[ 0  1  2  3  4  5  9 10 11]\n"
          ]
        }
      ]
    },
    {
      "cell_type": "markdown",
      "source": [
        "# Transposing and reshaping a matrix\n",
        "\n",
        "   {{ convert row into column  And vice versa }}\n",
        "\n",
        "  arr.reshape()\n",
        "  \n",
        "  arr.transpose()\n",
        "   \n",
        "  arr.T\n",
        "\n"
      ],
      "metadata": {
        "id": "pwt4c8t9GbW0"
      },
      "id": "pwt4c8t9GbW0"
    },
    {
      "cell_type": "code",
      "source": [
        "array_example = np.array([[0, 1, 2, 3],\n",
        "                           [4, 5, 6, 7]])\n",
        "print(array_example)\n",
        "print(\"--\"*50)\n",
        "print(array_example.shape)\n",
        "print(\"--\"*50)\n",
        "print(array_example.reshape(4,2))\n",
        "\n",
        "\n",
        "\n",
        "\n"
      ],
      "metadata": {
        "colab": {
          "base_uri": "https://localhost:8080/"
        },
        "id": "Mn6VLvGOGcww",
        "outputId": "28876bce-9717-4fde-97c5-87b54accb3fa"
      },
      "id": "Mn6VLvGOGcww",
      "execution_count": 51,
      "outputs": [
        {
          "output_type": "stream",
          "name": "stdout",
          "text": [
            "[[0 1 2 3]\n",
            " [4 5 6 7]]\n",
            "----------------------------------------------------------------------------------------------------\n",
            "(2, 4)\n",
            "----------------------------------------------------------------------------------------------------\n",
            "[[0 1]\n",
            " [2 3]\n",
            " [4 5]\n",
            " [6 7]]\n"
          ]
        }
      ]
    },
    {
      "cell_type": "code",
      "source": [
        "print(array_example.transpose())"
      ],
      "metadata": {
        "colab": {
          "base_uri": "https://localhost:8080/"
        },
        "id": "p3GgxwJSHHYl",
        "outputId": "699b1d22-260e-47f3-f482-4decb560fe5d"
      },
      "id": "p3GgxwJSHHYl",
      "execution_count": 46,
      "outputs": [
        {
          "output_type": "stream",
          "name": "stdout",
          "text": [
            "[[0 4]\n",
            " [1 5]\n",
            " [2 6]\n",
            " [3 7]]\n"
          ]
        }
      ]
    },
    {
      "cell_type": "code",
      "source": [
        "print(array_example.T)"
      ],
      "metadata": {
        "colab": {
          "base_uri": "https://localhost:8080/"
        },
        "id": "kz-x9bJCHcwj",
        "outputId": "22311896-2e07-4710-deae-d54f58794766"
      },
      "id": "kz-x9bJCHcwj",
      "execution_count": 48,
      "outputs": [
        {
          "output_type": "stream",
          "name": "stdout",
          "text": [
            "[[0 4]\n",
            " [1 5]\n",
            " [2 6]\n",
            " [3 7]]\n"
          ]
        }
      ]
    },
    {
      "cell_type": "markdown",
      "source": [
        "# How to reverse an array\n",
        "   \n",
        "**np.flip(arr)**\n"
      ],
      "metadata": {
        "id": "1oPsWvGnIxm5"
      },
      "id": "1oPsWvGnIxm5"
    },
    {
      "cell_type": "code",
      "source": [
        "# reverse 1-D array\n",
        "arr = np.array([1, 2, 3, 4, 5, 6, 7, 8])\n",
        "reversed_arr = np.flip(arr)\n",
        "print ( reversed_arr)"
      ],
      "metadata": {
        "colab": {
          "base_uri": "https://localhost:8080/"
        },
        "id": "JmIb8zG9He1W",
        "outputId": "a0e577e9-4c02-4d0c-d0cd-c6536efe58fc"
      },
      "id": "JmIb8zG9He1W",
      "execution_count": 52,
      "outputs": [
        {
          "output_type": "stream",
          "name": "stdout",
          "text": [
            "[8 7 6 5 4 3 2 1]\n"
          ]
        }
      ]
    },
    {
      "cell_type": "code",
      "source": [
        "# reverse 2-D or multiple dimensions  array\n",
        "arr = np.array([[1, 2, 3, 4, 5, 6, 7, 8],\n",
        "               [9, 10, 11, 12, 13, 14, 15, 16],\n",
        "                [17,18,19,20,30,40,50,60]])\n",
        "reversed_arr = np.flip(arr)\n",
        "print ( reversed_arr)"
      ],
      "metadata": {
        "colab": {
          "base_uri": "https://localhost:8080/"
        },
        "id": "jqrV2NSPJG6w",
        "outputId": "e7f1a76a-08e2-442d-ca20-1977555cf9b8"
      },
      "id": "jqrV2NSPJG6w",
      "execution_count": 57,
      "outputs": [
        {
          "output_type": "stream",
          "name": "stdout",
          "text": [
            "[[60 50 40 30 20 19 18 17]\n",
            " [16 15 14 13 12 11 10  9]\n",
            " [ 8  7  6  5  4  3  2  1]]\n"
          ]
        }
      ]
    },
    {
      "cell_type": "markdown",
      "source": [
        "# flattening multidimensional arrays\n",
        "\n",
        "\n",
        "1. arr.flatten() == > make multiple dimensions array as vector 1 column\n",
        "\n",
        "2.  ravel()\n",
        "\n",
        "\n"
      ],
      "metadata": {
        "id": "VCoMW632J8Ux"
      },
      "id": "VCoMW632J8Ux"
    },
    {
      "cell_type": "code",
      "source": [
        "x = np.array([[1 , 2, 3, 4], [5, 6, 7, 8], [9, 10, 11, 12]])\n",
        "y= x.flatten()\n",
        "print(\"old array :\\n  \",x,\"\\n\" )\n",
        "\n",
        "print(\"\\n new array :  \" ,  y )"
      ],
      "metadata": {
        "colab": {
          "base_uri": "https://localhost:8080/"
        },
        "id": "CjmL1Wc8JMGB",
        "outputId": "78687055-5359-4bf1-dfd5-c81adcb7734e"
      },
      "id": "CjmL1Wc8JMGB",
      "execution_count": 82,
      "outputs": [
        {
          "output_type": "stream",
          "name": "stdout",
          "text": [
            "old array :\n",
            "   [[ 1  2  3  4]\n",
            " [ 5  6  7  8]\n",
            " [ 9 10 11 12]] \n",
            "\n",
            "\n",
            "new array :   [ 1  2  3  4  5  6  7  8  9 10 11 12]\n"
          ]
        }
      ]
    },
    {
      "cell_type": "code",
      "source": [
        "# ravel () function\n",
        "x = np.array([[1, 2, 3, 4], [5, 6, 7, 8], [9, 10, 11, 12]])\n",
        "\n",
        "# Flatten the array (creates a copy)\n",
        "y = x.flatten()\n",
        "y[0] = 999  # Change the first element of the flattened array\n",
        "\n",
        "print(\"Original array (x):\\n\", x)  # Original array is unchanged\n",
        "print(\"\\nFlattened array (y):\\n\", y)\n",
        "\n",
        "# Ravel the array (creates a view if possible, otherwise a copy)\n",
        "z = x.ravel()\n",
        "z[0] = 999  # Change the first element of the raveled array\n",
        "\n",
        "print(\"\\nOriginal array (x):\\n\", x)  # Original array is modified (if a view was created)\n",
        "print(\"\\nRaveled array (z):\\n\", z)"
      ],
      "metadata": {
        "colab": {
          "base_uri": "https://localhost:8080/"
        },
        "id": "XNvdopCOKiFn",
        "outputId": "2482a87b-0210-4ce8-ec4d-f6a9762791d0"
      },
      "id": "XNvdopCOKiFn",
      "execution_count": 84,
      "outputs": [
        {
          "output_type": "stream",
          "name": "stdout",
          "text": [
            "Original array (x):\n",
            " [[ 1  2  3  4]\n",
            " [ 5  6  7  8]\n",
            " [ 9 10 11 12]]\n",
            "\n",
            "Flattened array (y):\n",
            " [999   2   3   4   5   6   7   8   9  10  11  12]\n",
            "\n",
            "Original array (x):\n",
            " [[999   2   3   4]\n",
            " [  5   6   7   8]\n",
            " [  9  10  11  12]]\n",
            "\n",
            "Raveled array (z):\n",
            " [999   2   3   4   5   6   7   8   9  10  11  12]\n"
          ]
        }
      ]
    },
    {
      "cell_type": "markdown",
      "source": [
        "# How to access the docstring for more information\n",
        "\n",
        "\n",
        "\n",
        "*      help ()\n",
        "*     ?\n",
        "*     ??\n",
        "\n",
        "\n",
        "\n"
      ],
      "metadata": {
        "id": "ghBGHHKWMUfa"
      },
      "id": "ghBGHHKWMUfa"
    },
    {
      "cell_type": "code",
      "source": [
        "# docstring help us what this function doing And  what are thire parameters\n",
        "\n",
        "\n",
        "help(max) # Use np.ravel instead of revel\n"
      ],
      "metadata": {
        "colab": {
          "base_uri": "https://localhost:8080/"
        },
        "id": "-5xYr0thL0XP",
        "outputId": "0dc0cdba-b8a4-4007-fe7c-ee6d0b108eb1"
      },
      "id": "-5xYr0thL0XP",
      "execution_count": 94,
      "outputs": [
        {
          "output_type": "stream",
          "name": "stdout",
          "text": [
            "Help on built-in function max in module builtins:\n",
            "\n",
            "max(...)\n",
            "    max(iterable, *[, default=obj, key=func]) -> value\n",
            "    max(arg1, arg2, *args, *[, key=func]) -> value\n",
            "    \n",
            "    With a single iterable argument, return its biggest item. The\n",
            "    default keyword-only argument specifies an object to return if\n",
            "    the provided iterable is empty.\n",
            "    With two or more arguments, return the largest argument.\n",
            "\n"
          ]
        }
      ]
    },
    {
      "cell_type": "markdown",
      "source": [
        "# Working with mathematical formulas\n",
        "  \n",
        "\n",
        "*   LINER Algebra\n",
        "*   Statistic\n",
        "* Math for machine learning\n",
        "\n",
        "\n"
      ],
      "metadata": {
        "id": "U5MAUaWCROLD"
      },
      "id": "U5MAUaWCROLD"
    },
    {
      "cell_type": "code",
      "source": [
        "# implementation mean square error (MSE)\n",
        "error= 1/n * np.sum(np.squared(predictions - labels))\n",
        "\n"
      ],
      "metadata": {
        "id": "me2coRpNNUvr"
      },
      "id": "me2coRpNNUvr",
      "execution_count": null,
      "outputs": []
    }
  ],
  "metadata": {
    "kernelspec": {
      "display_name": "Python 3 (ipykernel)",
      "language": "python",
      "name": "python3"
    },
    "language_info": {
      "codemirror_mode": {
        "name": "ipython",
        "version": 3
      },
      "file_extension": ".py",
      "mimetype": "text/x-python",
      "name": "python",
      "nbconvert_exporter": "python",
      "pygments_lexer": "ipython3",
      "version": "3.9.18"
    },
    "varInspector": {
      "cols": {
        "lenName": 16,
        "lenType": 16,
        "lenVar": 40
      },
      "kernels_config": {
        "python": {
          "delete_cmd_postfix": "",
          "delete_cmd_prefix": "del ",
          "library": "var_list.py",
          "varRefreshCmd": "print(var_dic_list())"
        },
        "r": {
          "delete_cmd_postfix": ") ",
          "delete_cmd_prefix": "rm(",
          "library": "var_list.r",
          "varRefreshCmd": "cat(var_dic_list()) "
        }
      },
      "types_to_exclude": [
        "module",
        "function",
        "builtin_function_or_method",
        "instance",
        "_Feature"
      ],
      "window_display": false
    },
    "colab": {
      "provenance": [],
      "toc_visible": true
    }
  },
  "nbformat": 4,
  "nbformat_minor": 5
}