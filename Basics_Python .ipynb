{
 "cells": [
  {
   "cell_type": "markdown",
   "id": "6b4c6342",
   "metadata": {},
   "source": [
    "# python"
   ]
  },
  {
   "cell_type": "markdown",
   "id": "e80b6cd2",
   "metadata": {},
   "source": [
    "creat new enviroment "
   ]
  },
  {
   "cell_type": "code",
   "execution_count": 1,
   "id": "f2fa87eb",
   "metadata": {},
   "outputs": [],
   "source": [
    "# conda create -n  (folder name or any name)  python= 3.8( any version python u want) \n"
   ]
  },
  {
   "cell_type": "code",
   "execution_count": 2,
   "id": "6ffe59de",
   "metadata": {},
   "outputs": [],
   "source": [
    "# conda activate (app.py  namy app )"
   ]
  },
  {
   "cell_type": "code",
   "execution_count": null,
   "id": "fa3a7b93",
   "metadata": {},
   "outputs": [],
   "source": []
  },
  {
   "cell_type": "code",
   "execution_count": 3,
   "id": "bc95456c",
   "metadata": {},
   "outputs": [],
   "source": [
    "# Error Handling \n",
    "# Debugging \n",
    "# OPP \n",
    "# integrated \n",
    "# sup module and packages \n",
    "# larg set of Libs and Plugins \n",
    "# Memory Management (Garbage Collection)\n",
    "# multi purpose \n",
    "# python useing (Indentation) : refers to the spaces at the beginning of a code line\n",
    "#case-sensitive Language"
   ]
  },
  {
   "cell_type": "markdown",
   "id": "6ee7a17f",
   "metadata": {},
   "source": [
    "# Print"
   ]
  },
  {
   "cell_type": "code",
   "execution_count": 4,
   "id": "1bfa2a45",
   "metadata": {},
   "outputs": [
    {
     "name": "stdout",
     "output_type": "stream",
     "text": [
      "Hello,World!\n",
      "10\n",
      "10H 10\n"
     ]
    }
   ],
   "source": [
    "print(\"Hello,World!\")\n",
    "print(10)\n",
    "print(\"10H\",10)\n"
   ]
  },
  {
   "cell_type": "code",
   "execution_count": 5,
   "id": "01d96426",
   "metadata": {},
   "outputs": [
    {
     "name": "stdout",
     "output_type": "stream",
     "text": [
      "<class 'int'>\n",
      "<class 'int'>\n",
      "<class 'str'>\n",
      "<class 'str'>\n",
      "<class 'float'>\n",
      "<class 'float'>\n",
      "<class 'list'>\n",
      "<class 'tuple'>\n",
      "<class 'dict'>\n",
      "<class 'bool'>\n"
     ]
    }
   ],
   "source": [
    "print(type(10))\n",
    "print(type(-1))\n",
    "\n",
    "print(type(\"mohamed\"))\n",
    "print(type(\"10\"))\n",
    "\n",
    "print(type(1.0))\n",
    "print(type(-1.0))\n",
    "\n",
    "print(type([1,2,34]))\n",
    "\n",
    "print(type((1,2,3,4)))\n",
    "\n",
    "print(type({\"one\":1,\"two\":2})) \n",
    "\n",
    "print(type(2==2))"
   ]
  },
  {
   "cell_type": "code",
   "execution_count": 6,
   "id": "6d0018c8",
   "metadata": {},
   "outputs": [
    {
     "name": "stdout",
     "output_type": "stream",
     "text": [
      "11\n",
      "22 11\n",
      "33 22 11\n"
     ]
    }
   ],
   "source": [
    "# variables \n",
    "# can start with (a-z A-Z) or Underscore(_)\n",
    "# can't start with Num or Special Characters \n",
    "# Can't include Special Characters \n",
    "#variable can't be Reserved Words -> keywords \n",
    "\n",
    "name=\"mohamed mosaad\"\n",
    "name_=\"mohamed mosaad\"\n",
    "\n",
    "_Name=\"MO\"\n",
    "name99=\"mosaad\"\n",
    "\n",
    "Person=\"mo\"\n",
    "person=\"ss\"\n",
    "\n",
    "num=22\n",
    "_num=33\n",
    "\n",
    "\n",
    "A,B,C=11,22,33\n",
    "print(A)\n",
    "print(B,A)\n",
    "print(C,B,A)"
   ]
  },
  {
   "cell_type": "code",
   "execution_count": 7,
   "id": "5f0f7547",
   "metadata": {},
   "outputs": [],
   "source": [
    "#Escape sequences characters \n",
    "#\" https://www.w3schools.com/python/gloss_python_escape_characters.asp \""
   ]
  },
  {
   "cell_type": "code",
   "execution_count": 8,
   "id": "542fbc26",
   "metadata": {},
   "outputs": [
    {
     "name": "stdout",
     "output_type": "stream",
     "text": [
      "mo salah 11\n",
      "My name is Mohamed, and I am a student at Mansoura MU, studying computer science.  \n",
      "earth is \n",
      " big\n"
     ]
    }
   ],
   "source": [
    "#strings\n",
    "My_string=\"mo salah 11\"\n",
    "print(My_string)\n",
    "\n",
    "my_s=\"\"\"My name is Mohamed, and I am a student at Mansoura MU, studying computer science.  \"\"\"\n",
    "print(my_s ) \n",
    "\n",
    "World='earth is \\n big'\n",
    "print(World)"
   ]
  },
  {
   "cell_type": "markdown",
   "id": "cb16df23",
   "metadata": {},
   "source": [
    "# Index "
   ]
  },
  {
   "cell_type": "code",
   "execution_count": 45,
   "id": "9109c6e8",
   "metadata": {},
   "outputs": [
    {
     "name": "stdout",
     "output_type": "stream",
     "text": [
      "m\n",
      "y\n",
      " \n",
      "g\n",
      "n\n",
      "my n\n",
      "ame i\n",
      "my name is\n",
      "my name is mohamed , iam student at MU , i love programming and coding.\n",
      "m aei\n",
      "m aei oae  a tdn tM   oepormigadcdn.\n",
      "71\n"
     ]
    }
   ],
   "source": [
    "\n",
    "\n",
    "sentence=\"my name is mohamed , iam student at MU , i love programming and coding.\"\n",
    "print(sentence[0])\n",
    "print(sentence[1])\n",
    "print(sentence[2])\n",
    "\n",
    "print(sentence[-2])\n",
    "print(sentence[-3])\n",
    "\n",
    "print(sentence[0:4])\n",
    "print(sentence[4:9])\n",
    "\n",
    "\n",
    "\n",
    "#It will start at the [0] index. \n",
    "print(sentence[:10])\n",
    "print(sentence[:])\n",
    "\n",
    "\n",
    "\n",
    "print(sentence[0:10:2])# 2= steps \n",
    "print(sentence[::2])\n",
    "\n",
    "\n",
    "print(len(sentence))"
   ]
  },
  {
   "cell_type": "code",
   "execution_count": 10,
   "id": "b712f435",
   "metadata": {},
   "outputs": [
    {
     "name": "stdout",
     "output_type": "stream",
     "text": [
      "I adore video games like Valorant, where I gained a high rank. It was immo 3\n",
      "     I adore video games like Valorant, where I gained a high rank. It was immo 3\n",
      "I adore video games like Valorant, where I gained a high rank. It was immo 3    \n",
      "I adore video games like Valorant, where I gained a high rank. It was immo 3 \n",
      "####I adore video games like Valorant, where I gained a high rank. It was immo 3 \n",
      "I adore video games like Valorant, where I gained a high rank. It was immo 3 ###\n"
     ]
    }
   ],
   "source": [
    "a=\"     I adore video games like Valorant, where I gained a high rank. It was immo 3    \"\n",
    "print(a.strip()) # remove space or any character u need , like suffix and prefix \n",
    "print(a.rstrip())# remove space from right \n",
    "print(a.lstrip())# remove space from left\n",
    "\n",
    "\n",
    "\n",
    "\n",
    "\n",
    "a=\"####I adore video games like Valorant, where I gained a high rank. It was immo 3 ###\"\n",
    "\n",
    "print(a.strip(\"#\"))  # remove space or any character u need , like suffix and prefix \n",
    "print(a.rstrip(\"#\")) # remove space from right \n",
    "print(a.lstrip(\"#\")) # remove space from left\n"
   ]
  },
  {
   "cell_type": "code",
   "execution_count": 11,
   "id": "3140850d",
   "metadata": {},
   "outputs": [
    {
     "name": "stdout",
     "output_type": "stream",
     "text": [
      "I Adore Video Games Like Valorant, Where I Gained A High Rank. It Was Immo 3\n",
      "I adore video games like valorant, where i gained a high rank. it was immo 3\n",
      "011\n",
      "000111\n",
      "MO SALAH EGYPTHION KING\n",
      "mo salah egypthion king\n",
      "Mo salah egypthion king\n",
      "mO SALAH eGYPTHION kINg\n"
     ]
    }
   ],
   "source": [
    "#Title \n",
    "a=\"I adore video games like Valorant, where I gained a high rank. It was immo 3\"\n",
    "print(a.title())\n",
    "\n",
    "#capitalize \n",
    "a=\"I adore video games like Valorant, where I gained a high rank. It was immo 3\"\n",
    "print(a.capitalize())\n",
    "\n",
    "\n",
    "#zfill= zero fill = zfill(width)\n",
    "B=\"11\"\n",
    "c=\"111\"\n",
    "print(B.zfill(3))\n",
    "print(c.zfill(6))\n",
    "\n",
    "\n",
    "#Upper,Lower,capitalize ,swapcase \n",
    "G=\"Mo salah Egypthion KinG\"\n",
    "print(G.upper())\n",
    "print(G.lower())\n",
    "print(G.capitalize())\n",
    "print(G.swapcase()) # lower to upper and vice versa\n"
   ]
  },
  {
   "cell_type": "code",
   "execution_count": 12,
   "id": "e9d61dc3",
   "metadata": {
    "scrolled": true
   },
   "outputs": [
    {
     "name": "stdout",
     "output_type": "stream",
     "text": [
      "['hello', ',', 'my', 'name', 'is', 'mohamed', ',', 'i', 'want', 'to', 'be', 'Machine', 'learning', 'engneering']\n",
      "['hello', 'my', 'name', 'is', 'mohamed', 'i', 'want', 'to', 'be', 'Machine', 'learning', 'engneering ']\n",
      "['hello', 'my', 'name-is-mohamed-i-want-to-be-Machine-learning-engneering ']\n",
      "['hello', 'my', 'name', 'is', 'mohamed', 'i-want-to-be-Machine-learning-engneering ']\n"
     ]
    }
   ],
   "source": [
    "#split () \n",
    "#rsplit ()  right split \n",
    "#spliting sentence by space then convert  to List \n",
    "\n",
    "A=\"hello , my name is mohamed , i want to be Machine learning engneering \"\n",
    "print(A.split())\n",
    "\n",
    "A=\"hello-my-name-is-mohamed-i-want-to-be-Machine-learning-engneering \"\n",
    "print(A.split(\"-\"))\n",
    "print(A.split(\"-\",2))\n",
    "print(A.split(\"-\",5))"
   ]
  },
  {
   "cell_type": "code",
   "execution_count": 13,
   "id": "2e497473",
   "metadata": {},
   "outputs": [
    {
     "name": "stdout",
     "output_type": "stream",
     "text": [
      "##mohamed##\n",
      "#mohamed##\n",
      "@mohamed@\n"
     ]
    }
   ],
   "source": [
    "#center(num,\"char\")\n",
    "E=\"mohamed\"\n",
    "print(E.center(11,\"#\"))\n",
    "print(E.center(10,\"#\"))\n",
    "print(E.center(9,\"@\"))"
   ]
  },
  {
   "cell_type": "code",
   "execution_count": 14,
   "id": "87c945b4",
   "metadata": {},
   "outputs": [
    {
     "name": "stdout",
     "output_type": "stream",
     "text": [
      "2\n",
      "1\n"
     ]
    }
   ],
   "source": [
    "#count(\"word\",start,end)\n",
    "F=\"jett is character or agent in valorant game play , jett has knife ,Jett can fly and dash \"\n",
    "print(F.count(\"jett\"))\n",
    "print(F.count(\"Jett\"))"
   ]
  },
  {
   "cell_type": "code",
   "execution_count": 15,
   "id": "f906eaea",
   "metadata": {},
   "outputs": [
    {
     "name": "stdout",
     "output_type": "stream",
     "text": [
      "True\n",
      "True\n",
      "False\n",
      "True\n",
      "False\n"
     ]
    }
   ],
   "source": [
    "#startswith(\"str\",start,end)\n",
    "#endswith(\"str\",start,end)\n",
    "K=\"I love padel \"\n",
    "print(K.startswith(\"I\"))\n",
    "print(K.startswith(\"o\",3,7))\n",
    "\n",
    "print(K.endswith(\"l\"))\n",
    "print(K.endswith(\"p\",2,8))\n",
    "print(K.endswith(\"a\",2,8))\n"
   ]
  },
  {
   "cell_type": "code",
   "execution_count": 16,
   "id": "60472ba7",
   "metadata": {},
   "outputs": [
    {
     "name": "stdout",
     "output_type": "stream",
     "text": [
      "0\n",
      "4\n"
     ]
    }
   ],
   "source": [
    "#index(\"substring\",start,end)\n",
    "K=\"I love padel \"\n",
    "print(K.index(\"I\"))\n",
    "\n",
    "\n",
    "#find(\"substring\",start,end)\n",
    "print(K.index(\"v\"))"
   ]
  },
  {
   "cell_type": "code",
   "execution_count": 17,
   "id": "6433c356",
   "metadata": {},
   "outputs": [
    {
     "name": "stdout",
     "output_type": "stream",
     "text": [
      "True\n",
      "True\n",
      "False\n"
     ]
    }
   ],
   "source": [
    "#is....() method \n",
    "\n",
    "\n",
    "f=\"i love coding , python \"\n",
    "print(f.islower())\n",
    "f=\"I LOVE CODING,PYTHON\"\n",
    "print(f.isupper())\n",
    "f=\"I LOVE CODING,pYTHON\"\n",
    "print(f.isupper())"
   ]
  },
  {
   "cell_type": "code",
   "execution_count": 18,
   "id": "cde3f0a9",
   "metadata": {},
   "outputs": [
    {
     "name": "stdout",
     "output_type": "stream",
     "text": [
      "Hello 1 two three 1 1 1 \n",
      "Hello 1 two three one one one \n",
      "Hello 1 two three 1 1 one \n",
      "mohamed mosaad hassan hadia\n",
      "mohamed-mosaad-hassan-hadia\n",
      "mohamed@mosaad@hassan@hadia\n"
     ]
    }
   ],
   "source": [
    "#replace(old value, New value ,count)\n",
    "a=\"Hello one two three one one one \"\n",
    "print(a.replace(\"one\",\"1\"))\n",
    "print(a.replace(\"one\",\"1\",1))\n",
    "print(a.replace(\"one\",\"1\",3))\n",
    "\n",
    "\n",
    "\n",
    "#join(itreable)\n",
    "mylist=['mohamed','mosaad','hassan','hadia']\n",
    "print(\" \".join(mylist))\n",
    "print(\"-\".join(mylist))\n",
    "print(\"@\".join(mylist))\n"
   ]
  },
  {
   "cell_type": "code",
   "execution_count": 19,
   "id": "517a286b",
   "metadata": {},
   "outputs": [
    {
     "name": "stdout",
     "output_type": "stream",
     "text": [
      "my name is: mosaad\n",
      "my name is: mos\n",
      "my name is: m\n",
      "my name is: mosaad and my age is 22 \n",
      "my name is: mosaad and my age is 22 \n",
      "my name is: mosaad and my age is 22.000000 \n",
      "my name is: mosaad and my age is 22.00 \n",
      "my name is: mosaad and my age is 22.0 \n"
     ]
    }
   ],
   "source": [
    "#string formatting \n",
    "\n",
    "#placeholder  (%s --> str )  (%d -->number) (%f ---> float)\n",
    "name=\"mosaad\" \n",
    "age=22\n",
    "rank=1\n",
    "\n",
    "print(\"my name is: %s\" % name)\n",
    "#truncate string\n",
    "print(\"my name is: %.3s\" % name)\n",
    "print(\"my name is: %.1s\" % name)\n",
    "\n",
    "print(\"my name is: %s and my age is %s \" % (name,age))\n",
    "print(\"my name is: %s and my age is %d \" % (name,age))\n",
    "print(\"my name is: %s and my age is %f \" % (name,age))\n",
    "\n",
    "#control floating point \n",
    "print(\"my name is: %s and my age is %.2f \" % (name,age))\n",
    "print(\"my name is: %s and my age is %.1f \" % (name,age))"
   ]
  },
  {
   "cell_type": "code",
   "execution_count": 20,
   "id": "a202519a",
   "metadata": {},
   "outputs": [
    {
     "name": "stdout",
     "output_type": "stream",
     "text": [
      "my name is mosaad\n",
      "my name is mosaad\n",
      "my name is mosaad\n",
      "my name is mosaad age22 and rank 10.000000\n",
      "my name is mosaad age22 and rank 10.0\n",
      "my money is 100,100,100,100,000,010,011,000\n",
      "my money is 100_100_100_100_000_010_011_000\n"
     ]
    }
   ],
   "source": [
    "#concatenate strings\n",
    "name=\"mosaad\" \n",
    "age=22\n",
    "rank=10\n",
    "\n",
    "print(\"my name is \"+name)\n",
    "print(\"my name is {}\".format(name))\n",
    "print(\"my name is {}\".format(\"mosaad\"))\n",
    "print(\"my name is {:s} age{:d} and rank {:f}\".format(name,age,rank))\n",
    "print(\"my name is {:s} age{:d} and rank {:.1f}\".format(name,age,rank))\n",
    "\n",
    "\n",
    "\n",
    "#formatting num\n",
    "mymoney= 100100100100000010011000\n",
    "print(\"my money is {:,}\".format(mymoney))\n",
    "print(\"my money is {:_}\".format(mymoney))\n"
   ]
  },
  {
   "cell_type": "code",
   "execution_count": 21,
   "id": "95d69c5c",
   "metadata": {},
   "outputs": [
    {
     "name": "stdout",
     "output_type": "stream",
     "text": [
      " My name is mohamed mosaad and my age is 22\n"
     ]
    }
   ],
   "source": [
    "name= \"mohamed mosaad\"\n",
    "age=22 \n",
    "\n",
    "print(f\" My name is {name} and my age is {age}\")"
   ]
  },
  {
   "cell_type": "code",
   "execution_count": 22,
   "id": "415e8441",
   "metadata": {},
   "outputs": [
    {
     "name": "stdout",
     "output_type": "stream",
     "text": [
      "<class 'int'>\n",
      "<class 'int'>\n",
      "<class 'int'>\n",
      "<class 'float'>\n",
      "<class 'float'>\n",
      "<class 'float'>\n",
      "<class 'complex'>\n",
      "real num 2.0\n",
      "imaginary num 6.0\n",
      "9\n",
      "99.0\n",
      "(999+0j)\n"
     ]
    }
   ],
   "source": [
    "#Number\n",
    "\n",
    "#integrs\n",
    "print(type(9))\n",
    "print(type(99))\n",
    "print(type(-999))\n",
    "\n",
    "#float\n",
    "print(type(1.0))\n",
    "print(type(0.1))\n",
    "print(type(-1.0))\n",
    "\n",
    "#complex\n",
    "my_complex_num=2+6j\n",
    "print(type(my_complex_num))\n",
    "print(\"real num {}\".format(my_complex_num.real))\n",
    "print(\"imaginary num {}\".format(my_complex_num.imag))\n",
    "\n",
    "\n",
    "#convert from int to float and vice versa\n",
    "#note we cant convert complex to any type \n",
    "print(9)\n",
    "print(float(99)) \n",
    "print(complex(999))"
   ]
  },
  {
   "cell_type": "code",
   "execution_count": 23,
   "id": "ae0a919a",
   "metadata": {},
   "outputs": [
    {
     "name": "stdout",
     "output_type": "stream",
     "text": [
      "39\n",
      "15\n",
      "269\n",
      "1.8333333333333333\n",
      "1\n",
      "4\n",
      "10\n",
      "248854\n"
     ]
    }
   ],
   "source": [
    "#Arithmetic Operators \n",
    "\n",
    "A=22\n",
    "B=12\n",
    "C=5\n",
    "\n",
    "#1-add\n",
    "print(A+B+C)\n",
    "\n",
    "#2-sub\n",
    "print(A-B+C)\n",
    "\n",
    "#3-multiplication \n",
    "print(A*B+C)\n",
    "\n",
    "#4-division\n",
    "print(A/B)\n",
    "\n",
    "#5-floor division\n",
    "print(A//B) #1.8\n",
    "print(A//C) #4.4\n",
    "\n",
    "\n",
    "#6-Modulus\n",
    "print(A%B)\n",
    "\n",
    "#7-Exponent \n",
    "print(A+(B**C))"
   ]
  },
  {
   "cell_type": "markdown",
   "id": "f6bf0025",
   "metadata": {},
   "source": [
    "append()\tAdds an element at the end of the list\n",
    "\n",
    "clear()\tRemoves all the elements from the list\n",
    "\n",
    "copy()\tReturns a copy of the list\n",
    "\n",
    "count()\tReturns the number of elements with the specified value\n",
    "\n",
    "extend()\tAdd the elements of a list (or any iterable), to the end of the current list\n",
    "\n",
    "index()\tReturns the index of the first element with the specified value\n",
    "\n",
    "insert()\tAdds an element at the specified position\n",
    "\n",
    "pop()\tRemoves the element at the specified position\n",
    "\n",
    "remove()\tRemoves the item with the specified value\n",
    "\n",
    "reverse()\tReverses the order of the list\n",
    "\n",
    "sort()\tSorts the list"
   ]
  },
  {
   "cell_type": "markdown",
   "id": "b7b55842",
   "metadata": {},
   "source": [
    "# ((((----List-----))))\n",
    "List items are ordered, changeable, and allow duplicate values,List items are indexed"
   ]
  },
  {
   "cell_type": "code",
   "execution_count": 24,
   "id": "062c0075",
   "metadata": {},
   "outputs": [],
   "source": [
    "#note\n",
    "#Tuple is a collection which is ordered and unchangeable. Allows duplicate members.\n",
    "#Set is a collection which is unordered, unchangeable*, and unindexed. No duplicate members.\n",
    "#Dictionary is a collection which is ordered** and changeable. No duplicate members."
   ]
  },
  {
   "cell_type": "code",
   "execution_count": 25,
   "id": "40f0dd05",
   "metadata": {},
   "outputs": [
    {
     "name": "stdout",
     "output_type": "stream",
     "text": [
      "<class 'list'>\n"
     ]
    }
   ],
   "source": [
    "#type()\n",
    "mylist = [\"apple\", \"banana\", \"cherry\"]\n",
    "print(type(mylist))"
   ]
  },
  {
   "cell_type": "code",
   "execution_count": 26,
   "id": "b455d54c",
   "metadata": {},
   "outputs": [
    {
     "name": "stdout",
     "output_type": "stream",
     "text": [
      "['osos', 'momo', 'soso', 'mohamed', True, 100, [1, 2, 3, 4, 5, 6]]\n"
     ]
    }
   ],
   "source": [
    "#append()\n",
    "#add in the end of the list \n",
    "mylist=['osos','momo','soso']\n",
    "seclist=[1,2,3,4,5,6]\n",
    "\n",
    "\n",
    "mylist.append('mohamed')\n",
    "mylist.append(True)\n",
    "mylist.append(100)\n",
    "mylist.append(seclist)\n",
    "print(mylist)"
   ]
  },
  {
   "cell_type": "code",
   "execution_count": 27,
   "id": "6c6f6c9e",
   "metadata": {},
   "outputs": [
    {
     "name": "stdout",
     "output_type": "stream",
     "text": [
      "[1, 'test', 2, 3, 5, 'mo', 55, 'oo']\n"
     ]
    }
   ],
   "source": [
    "#insert (index,obj)\n",
    "#inert object before index\n",
    "\n",
    "A=[1,2,3,5,'mo','oo']\n",
    "A.insert(1,'test')\n",
    "A.insert(-1,55)\n",
    "print(A)"
   ]
  },
  {
   "cell_type": "code",
   "execution_count": null,
   "id": "6cdca79e",
   "metadata": {},
   "outputs": [],
   "source": []
  },
  {
   "cell_type": "code",
   "execution_count": 28,
   "id": "261f273b",
   "metadata": {},
   "outputs": [
    {
     "name": "stdout",
     "output_type": "stream",
     "text": [
      "[1, 2, 3, 4, 5, 6, ['one', 'two'], 'a']\n"
     ]
    }
   ],
   "source": [
    "#remomve()\n",
    "a=[1,2,3,4,5,6,[\"one\",\"two\"],'a','a']\n",
    "a.remove('a')\n",
    "print(a)\n",
    "\n",
    "\n"
   ]
  },
  {
   "cell_type": "code",
   "execution_count": 29,
   "id": "dfad21a2",
   "metadata": {},
   "outputs": [
    {
     "name": "stdout",
     "output_type": "stream",
     "text": [
      "[-5, 2, 5, 10, 33, 66, 99, 100]\n"
     ]
    }
   ],
   "source": [
    "#sort()\n",
    "y=[100,99,5,66,2,10,33,-5]\n",
    "y.sort()\n",
    "print(y)"
   ]
  },
  {
   "cell_type": "code",
   "execution_count": 30,
   "id": "c2575bd2",
   "metadata": {},
   "outputs": [
    {
     "name": "stdout",
     "output_type": "stream",
     "text": [
      "[100, 99, 66, 33, 10, 5, 2, -5] ['A', 'C', 'Z']\n"
     ]
    }
   ],
   "source": [
    "#sort(reverse) ---> support only int numbers in the same list  \n",
    "#or str in the same list \n",
    "y=[100,99,5,66,2,10,33,-5]\n",
    "R=['A','Z','C']\n",
    "y.sort(reverse=True)\n",
    "R.sort()\n",
    "print(y,R)"
   ]
  },
  {
   "cell_type": "code",
   "execution_count": 31,
   "id": "c59142a0",
   "metadata": {},
   "outputs": [
    {
     "name": "stdout",
     "output_type": "stream",
     "text": [
      "['mohamed', 44, -22, 889, 57, 3, 29, 100, 'momo']\n"
     ]
    }
   ],
   "source": [
    "#reverse\n",
    "z=['momo',100,29,3,57,889,-22,44,'mohamed']\n",
    "z.reverse()\n",
    "print(z)"
   ]
  },
  {
   "cell_type": "code",
   "execution_count": 32,
   "id": "52fff674",
   "metadata": {},
   "outputs": [
    {
     "name": "stdout",
     "output_type": "stream",
     "text": [
      "[]\n"
     ]
    }
   ],
   "source": [
    "#clear()\n",
    "a=[11,2,3,6,5]\n",
    "a.clear()\n",
    "print(a)\n"
   ]
  },
  {
   "cell_type": "code",
   "execution_count": 33,
   "id": "02479385",
   "metadata": {},
   "outputs": [
    {
     "name": "stdout",
     "output_type": "stream",
     "text": [
      "8\n",
      "[1, 2, 3, 5, 6, 7]\n"
     ]
    }
   ],
   "source": [
    "#pop(index obj)\n",
    "A=[1,2,3,4,5,6,7,8]\n",
    "A.pop(3)\n",
    "print(A.pop(-1))\n",
    "print(A)"
   ]
  },
  {
   "cell_type": "code",
   "execution_count": 34,
   "id": "36849617",
   "metadata": {},
   "outputs": [
    {
     "name": "stdout",
     "output_type": "stream",
     "text": [
      "['banana', 'cherry']\n"
     ]
    }
   ],
   "source": [
    "#del\n",
    "thislist = [\"apple\", \"banana\", \"cherry\"]\n",
    "del thislist[0]\n",
    "print(thislist)"
   ]
  },
  {
   "cell_type": "code",
   "execution_count": 35,
   "id": "2260369f",
   "metadata": {},
   "outputs": [
    {
     "name": "stdout",
     "output_type": "stream",
     "text": [
      "['apple', 'cherry', 'banana', 'kiwi']\n",
      "['mo', 'hh']\n"
     ]
    }
   ],
   "source": [
    "#remove \n",
    "thislist = [\"apple\", \"banana\", \"cherry\", \"banana\", \"kiwi\"]\n",
    "thislist.remove(\"banana\")\n",
    "print(thislist)\n",
    "\n",
    "\n",
    "mylit=['mo',2,'hh']\n",
    "mylit.remove(2)\n",
    "print(mylit)"
   ]
  },
  {
   "cell_type": "code",
   "execution_count": 36,
   "id": "b6595523",
   "metadata": {},
   "outputs": [
    {
     "name": "stdout",
     "output_type": "stream",
     "text": [
      "[1, 2, 3, 4, 5]\n",
      "[1, 2, 3, 4, 5]\n",
      "[1, 2, 3, 4, 5, 6]\n",
      "[1, 2, 3, 4, 5]\n"
     ]
    }
   ],
   "source": [
    "#copy()\n",
    "#return a shallow copy of the list \n",
    "a=[1,2,3,4,5]\n",
    "c=a.copy()\n",
    "print(a)\n",
    "print(c)\n",
    "\n",
    "a.append(6)\n",
    "print(a)\n",
    "print(c)"
   ]
  },
  {
   "cell_type": "code",
   "execution_count": 37,
   "id": "61af1b98",
   "metadata": {},
   "outputs": [
    {
     "name": "stdout",
     "output_type": "stream",
     "text": [
      "3\n"
     ]
    }
   ],
   "source": [
    "#count()\n",
    "d=[1,2,2,2,3,5,6,78,9,7]\n",
    "print(d.count(2))"
   ]
  },
  {
   "cell_type": "code",
   "execution_count": 38,
   "id": "fb72e9da",
   "metadata": {},
   "outputs": [
    {
     "name": "stdout",
     "output_type": "stream",
     "text": [
      "3\n"
     ]
    }
   ],
   "source": [
    "#index\n",
    "A=['mo','ah','sh','oo']\n",
    "print(A.index(\"oo\"))"
   ]
  },
  {
   "cell_type": "markdown",
   "id": "fbb6a986",
   "metadata": {},
   "source": [
    "#Loop Through a List"
   ]
  },
  {
   "cell_type": "code",
   "execution_count": 39,
   "id": "c42195bb",
   "metadata": {},
   "outputs": [
    {
     "name": "stdout",
     "output_type": "stream",
     "text": [
      "banana\n",
      "apple\n",
      "hohos\n"
     ]
    }
   ],
   "source": [
    "#Print all items in the list, one by one \n",
    "mylist=[\"banana\",\"apple\",\"hohos\"]\n",
    "\n",
    "for x in mylist :\n",
    "    print (x)"
   ]
  },
  {
   "cell_type": "code",
   "execution_count": 40,
   "id": "bb437c3b",
   "metadata": {},
   "outputs": [
    {
     "name": "stdout",
     "output_type": "stream",
     "text": [
      "apple\n",
      "banana\n",
      "cherry\n"
     ]
    }
   ],
   "source": [
    "thislist = [\"apple\", \"banana\", \"cherry\"]\n",
    "for x in range (len(thislist)):\n",
    "    #print(x)---> index \n",
    "    print(thislist[x])"
   ]
  },
  {
   "cell_type": "markdown",
   "id": "e12acb0a",
   "metadata": {},
   "source": [
    "# sort()\n",
    "\n",
    "List objects have a sort() method that will sort the list alphanumerically, ascending, by default\n",
    "\n",
    "Case Insensitive Sort"
   ]
  },
  {
   "cell_type": "code",
   "execution_count": 41,
   "id": "2a748575",
   "metadata": {},
   "outputs": [
    {
     "name": "stdout",
     "output_type": "stream",
     "text": [
      "['apply', 'banana', 'kiwi', 'momo', 'orange']\n"
     ]
    }
   ],
   "source": [
    "mylist=['banana','momo','orange','apply','kiwi']\n",
    "mylist.sort()\n",
    "print(mylist)"
   ]
  },
  {
   "cell_type": "code",
   "execution_count": 42,
   "id": "44a34804",
   "metadata": {},
   "outputs": [
    {
     "name": "stdout",
     "output_type": "stream",
     "text": [
      "[23, 50, 65, 82, 100]\n"
     ]
    }
   ],
   "source": [
    "thislist = [100, 50, 65, 82, 23]\n",
    "thislist.sort()\n",
    "print(thislist)"
   ]
  },
  {
   "cell_type": "code",
   "execution_count": 43,
   "id": "46aa1a02",
   "metadata": {},
   "outputs": [
    {
     "name": "stdout",
     "output_type": "stream",
     "text": [
      "['55', '44', '3', '2', '1']\n"
     ]
    }
   ],
   "source": [
    "#Sort Descending\n",
    "thislist=[\"2\", \"1\", \"3\", \"44\", \"55\"]\n",
    "thislist.sort(reverse=True)\n",
    "print(thislist)"
   ]
  },
  {
   "cell_type": "code",
   "execution_count": 44,
   "id": "dc908b8e",
   "metadata": {},
   "outputs": [
    {
     "name": "stdout",
     "output_type": "stream",
     "text": [
      "['Kiwi', 'Orange', 'banana', 'cherry']\n"
     ]
    }
   ],
   "source": [
    "thislist = [\"banana\", \"Orange\", \"Kiwi\", \"cherry\"]\n",
    "thislist.sort()\n",
    "print(thislist)"
   ]
  },
  {
   "cell_type": "code",
   "execution_count": 45,
   "id": "38a59d1b",
   "metadata": {},
   "outputs": [
    {
     "name": "stdout",
     "output_type": "stream",
     "text": [
      "['banana', 'cherry', 'Kiwi', 'Orange']\n"
     ]
    }
   ],
   "source": [
    "#use str.lower as a key function\n",
    "thislist = [\"banana\", \"Orange\", \"Kiwi\", \"cherry\"]\n",
    "thislist.sort(key=str.lower)\n",
    "print(thislist)"
   ]
  },
  {
   "cell_type": "code",
   "execution_count": 46,
   "id": "635db701",
   "metadata": {},
   "outputs": [
    {
     "name": "stdout",
     "output_type": "stream",
     "text": [
      "[5, 4, 3, 2]\n"
     ]
    }
   ],
   "source": [
    "#reverse the order of thr list \n",
    "\n",
    "thislist = [2, 3, 4, 5]\n",
    "thislist.reverse()\n",
    "print(thislist)"
   ]
  },
  {
   "cell_type": "markdown",
   "id": "d710e897",
   "metadata": {},
   "source": [
    "# Join Two Lists\n"
   ]
  },
  {
   "cell_type": "code",
   "execution_count": 47,
   "id": "9501942d",
   "metadata": {},
   "outputs": [
    {
     "name": "stdout",
     "output_type": "stream",
     "text": [
      "['a', 'b', 'c', 1, 2, 3]\n"
     ]
    }
   ],
   "source": [
    "#here are several ways to join, or concatenate, two or more lists in Python.\n",
    "#One of the easiest ways are by using the + operator.\n",
    "list=[\"a\",\"b\",\"c\"]\n",
    "list2=[1,2,3]\n",
    "list3=list +list2\n",
    "print(list3)"
   ]
  },
  {
   "cell_type": "code",
   "execution_count": 48,
   "id": "8d538106",
   "metadata": {},
   "outputs": [
    {
     "name": "stdout",
     "output_type": "stream",
     "text": [
      "['a', 'b', 'c', 1, 2, 3]\n"
     ]
    }
   ],
   "source": [
    "list=[\"a\",\"b\",\"c\"]\n",
    "list2=[1,2,3]\n",
    "\n",
    "for x in list2: \n",
    "    list.append(x)\n",
    "    \n",
    "print(list)                        "
   ]
  },
  {
   "cell_type": "code",
   "execution_count": 49,
   "id": "5ecaac09",
   "metadata": {},
   "outputs": [
    {
     "name": "stdout",
     "output_type": "stream",
     "text": [
      "[1, 2, 3, 4, 5, 6, 'a', 'b', 'c', 'one', 'two']\n"
     ]
    }
   ],
   "source": [
    "#extend()\n",
    "\n",
    "a=[1,2,3,4,5,6]\n",
    "b=['a','b','c']\n",
    "c=[\"one\",\"two\"]\n",
    "a.extend(b)\n",
    "a.extend(c)\n",
    "print(a)"
   ]
  },
  {
   "cell_type": "code",
   "execution_count": null,
   "id": "9a789a01",
   "metadata": {},
   "outputs": [],
   "source": []
  },
  {
   "cell_type": "markdown",
   "id": "d2fa3ea1",
   "metadata": {},
   "source": [
    "# Tuple + syntax"
   ]
  },
  {
   "cell_type": "code",
   "execution_count": 50,
   "id": "64f01021",
   "metadata": {},
   "outputs": [],
   "source": [
    "#tuple are used to store multiple item in aingle variable.\n",
    "#When we say that tuples are ordered, it means that the items have a defined order, and that order will not change\n",
    "#Tuples are unchangeable, meaning that we cannot change, add or remove items after the tuple has been created.\n",
    "#allow duplicate values "
   ]
  },
  {
   "cell_type": "code",
   "execution_count": 51,
   "id": "79db50af",
   "metadata": {},
   "outputs": [
    {
     "name": "stdout",
     "output_type": "stream",
     "text": [
      "(11, 2, 3, 4, 5, 67, 77, 77)\n"
     ]
    }
   ],
   "source": [
    "thislist=(11,2,3,4,5,67,77,77)\n",
    "print(thislist)"
   ]
  },
  {
   "cell_type": "code",
   "execution_count": 52,
   "id": "bdf1d00b",
   "metadata": {},
   "outputs": [
    {
     "name": "stdout",
     "output_type": "stream",
     "text": [
      "('c', 'b', 'D', 1, 2, 3, 4, 5, 6, 'L')\n",
      "('c', 'b', 'D', 'c', 'b', 'D', 'c', 'b', 'D')\n"
     ]
    }
   ],
   "source": [
    "#tuple concatenation\n",
    "\n",
    "a=(\"c\",\"b\",\"D\")\n",
    "b=(1,2,3,4,5,6)\n",
    "c=a+b+(\"L\",)\n",
    "print(c)\n",
    "z=a*3\n",
    "print(z)"
   ]
  },
  {
   "cell_type": "code",
   "execution_count": 53,
   "id": "c3b3d288",
   "metadata": {},
   "outputs": [
    {
     "name": "stdout",
     "output_type": "stream",
     "text": [
      "your number is 2\n"
     ]
    }
   ],
   "source": [
    "b=(1,2,3,4,5,6)\n",
    "print(f\"your number is {b.index(3)}\")"
   ]
  },
  {
   "cell_type": "code",
   "execution_count": 54,
   "id": "21fab181",
   "metadata": {},
   "outputs": [
    {
     "name": "stdout",
     "output_type": "stream",
     "text": [
      "A\n",
      "b\n",
      "c\n",
      "1\n"
     ]
    }
   ],
   "source": [
    "#tuple destruct\n",
    "a=('A','b','c',1)\n",
    "x,y,z,v=a \n",
    "print(x)\n",
    "print(y)\n",
    "print(z)\n",
    "print(v)"
   ]
  },
  {
   "cell_type": "code",
   "execution_count": 55,
   "id": "aaa53fc7",
   "metadata": {},
   "outputs": [
    {
     "name": "stdout",
     "output_type": "stream",
     "text": [
      "banana\n",
      "(5, 6, 'apple')\n",
      "(2, 3, 4, 5, 6, 'apple', 'banana')\n",
      "(3, 4, 5, 6, 'apple', 'banana')\n",
      "(1, 2, 3, 4, 5, 6, 'apple')\n",
      "(1, 3, 5, 'apple')\n",
      "8\n"
     ]
    }
   ],
   "source": [
    "#Access tuple items\n",
    "thislist=(1,2,3,4,5,6,\"apple\",\"banana\")\n",
    "print(thislist[-1])\n",
    "print(thislist[-4:-1])\n",
    "print(thislist[1:8])\n",
    "print(thislist[2:])\n",
    "print(thislist[:7])\n",
    "print(thislist[:7:2])\n",
    "print(len(thislist))"
   ]
  },
  {
   "cell_type": "code",
   "execution_count": 56,
   "id": "11f06de9",
   "metadata": {},
   "outputs": [
    {
     "name": "stdout",
     "output_type": "stream",
     "text": [
      "<class 'list'>\n",
      "<class 'tuple'>\n"
     ]
    }
   ],
   "source": [
    "# if u trying to build tuple with one item that mean his type not tuple\n",
    "mylist=(\"hhhhh\") #--->  def as list \n",
    "print(type(mylit))\n",
    "\n",
    "this_tuple=(\"oooo\",)\n",
    "print(type(this_tuple))"
   ]
  },
  {
   "cell_type": "code",
   "execution_count": 57,
   "id": "c74d4115",
   "metadata": {},
   "outputs": [],
   "source": [
    "#tuple can be \n",
    "tuple1 = (\"apple\", \"banana\", \"cherry\")\n",
    "tuple2 = (1, 5, 7, 9, 3)\n",
    "tuple3 = (True, False, False)\n",
    "tuple4=(\"app\",1,2,3,True,False)"
   ]
  },
  {
   "cell_type": "code",
   "execution_count": 58,
   "id": "3928efbe",
   "metadata": {},
   "outputs": [
    {
     "name": "stdout",
     "output_type": "stream",
     "text": [
      "('apple', 'banana', 'cherry')\n"
     ]
    }
   ],
   "source": [
    "thistuple = tuple((\"apple\", \"banana\", \"cherry\")) # note the double round-brackets\n",
    "print(thistuple)"
   ]
  },
  {
   "cell_type": "code",
   "execution_count": 59,
   "id": "e0db2e81",
   "metadata": {},
   "outputs": [
    {
     "name": "stdout",
     "output_type": "stream",
     "text": [
      "yes\n"
     ]
    }
   ],
   "source": [
    "#Check if Item Exists\n",
    "thistuple = (\"apple\", \"banana\", \"cherry\")\n",
    "if \"apple\" in thistuple:\n",
    "    print(\"yes\")\n",
    "    "
   ]
  },
  {
   "cell_type": "markdown",
   "id": "ae428486",
   "metadata": {},
   "source": [
    "# Change Tuple Values"
   ]
  },
  {
   "cell_type": "code",
   "execution_count": 60,
   "id": "e8ca3872",
   "metadata": {},
   "outputs": [],
   "source": [
    "#we can't change thuple values cuz tuples are immutable or unchangeable\n",
    "# we are gonna convert tuple into list for this update "
   ]
  },
  {
   "cell_type": "code",
   "execution_count": 61,
   "id": "dbf49170",
   "metadata": {},
   "outputs": [
    {
     "ename": "TypeError",
     "evalue": "'list' object is not callable",
     "output_type": "error",
     "traceback": [
      "\u001b[1;31m---------------------------------------------------------------------------\u001b[0m",
      "\u001b[1;31mTypeError\u001b[0m                                 Traceback (most recent call last)",
      "\u001b[1;32m~\\AppData\\Local\\Temp\\ipykernel_13332\\3133956765.py\u001b[0m in \u001b[0;36m<module>\u001b[1;34m\u001b[0m\n\u001b[0;32m      1\u001b[0m \u001b[0mx\u001b[0m \u001b[1;33m=\u001b[0m \u001b[1;33m(\u001b[0m\u001b[1;34m\"apple\"\u001b[0m\u001b[1;33m,\u001b[0m \u001b[1;34m\"banana\"\u001b[0m\u001b[1;33m,\u001b[0m \u001b[1;34m\"cherry\"\u001b[0m\u001b[1;33m)\u001b[0m\u001b[1;33m\u001b[0m\u001b[1;33m\u001b[0m\u001b[0m\n\u001b[1;32m----> 2\u001b[1;33m \u001b[0my\u001b[0m \u001b[1;33m=\u001b[0m \u001b[0mlist\u001b[0m\u001b[1;33m(\u001b[0m\u001b[0mx\u001b[0m\u001b[1;33m)\u001b[0m\u001b[1;33m\u001b[0m\u001b[1;33m\u001b[0m\u001b[0m\n\u001b[0m\u001b[0;32m      3\u001b[0m \u001b[0my\u001b[0m\u001b[1;33m[\u001b[0m\u001b[1;36m1\u001b[0m\u001b[1;33m]\u001b[0m \u001b[1;33m=\u001b[0m \u001b[1;34m\"kiwi\"\u001b[0m\u001b[1;33m\u001b[0m\u001b[1;33m\u001b[0m\u001b[0m\n\u001b[0;32m      4\u001b[0m \u001b[0mx\u001b[0m \u001b[1;33m=\u001b[0m \u001b[0mtuple\u001b[0m\u001b[1;33m(\u001b[0m\u001b[0my\u001b[0m\u001b[1;33m)\u001b[0m\u001b[1;33m\u001b[0m\u001b[1;33m\u001b[0m\u001b[0m\n\u001b[0;32m      5\u001b[0m \u001b[1;33m\u001b[0m\u001b[0m\n",
      "\u001b[1;31mTypeError\u001b[0m: 'list' object is not callable"
     ]
    }
   ],
   "source": [
    "x = (\"apple\", \"banana\", \"cherry\")\n",
    "y = list(x)\n",
    "y[1] = \"kiwi\"\n",
    "x = tuple(y)\n",
    "\n",
    "print(x)"
   ]
  },
  {
   "cell_type": "code",
   "execution_count": 62,
   "id": "98a455c1",
   "metadata": {},
   "outputs": [
    {
     "ename": "TypeError",
     "evalue": "'list' object is not callable",
     "output_type": "error",
     "traceback": [
      "\u001b[1;31m---------------------------------------------------------------------------\u001b[0m",
      "\u001b[1;31mTypeError\u001b[0m                                 Traceback (most recent call last)",
      "\u001b[1;32m~\\AppData\\Local\\Temp\\ipykernel_13332\\779284497.py\u001b[0m in \u001b[0;36m<module>\u001b[1;34m\u001b[0m\n\u001b[0;32m      1\u001b[0m \u001b[0mthistuple\u001b[0m \u001b[1;33m=\u001b[0m \u001b[1;33m(\u001b[0m\u001b[1;34m\"apple\"\u001b[0m\u001b[1;33m,\u001b[0m \u001b[1;34m\"banana\"\u001b[0m\u001b[1;33m,\u001b[0m \u001b[1;34m\"cherry\"\u001b[0m\u001b[1;33m)\u001b[0m\u001b[1;33m\u001b[0m\u001b[1;33m\u001b[0m\u001b[0m\n\u001b[1;32m----> 2\u001b[1;33m \u001b[0my\u001b[0m \u001b[1;33m=\u001b[0m \u001b[0mlist\u001b[0m\u001b[1;33m(\u001b[0m\u001b[0mthistuple\u001b[0m\u001b[1;33m)\u001b[0m\u001b[1;33m\u001b[0m\u001b[1;33m\u001b[0m\u001b[0m\n\u001b[0m\u001b[0;32m      3\u001b[0m \u001b[0my\u001b[0m\u001b[1;33m.\u001b[0m\u001b[0mappend\u001b[0m\u001b[1;33m(\u001b[0m\u001b[1;34m\"orange\"\u001b[0m\u001b[1;33m)\u001b[0m\u001b[1;33m\u001b[0m\u001b[1;33m\u001b[0m\u001b[0m\n\u001b[0;32m      4\u001b[0m \u001b[0mthistuple\u001b[0m \u001b[1;33m=\u001b[0m \u001b[0mtuple\u001b[0m\u001b[1;33m(\u001b[0m\u001b[0my\u001b[0m\u001b[1;33m)\u001b[0m\u001b[1;33m\u001b[0m\u001b[1;33m\u001b[0m\u001b[0m\n",
      "\u001b[1;31mTypeError\u001b[0m: 'list' object is not callable"
     ]
    }
   ],
   "source": [
    "thistuple = (\"apple\", \"banana\", \"cherry\")\n",
    "y = list(thistuple)\n",
    "y.append(\"orange\")\n",
    "thistuple = tuple(y)"
   ]
  },
  {
   "cell_type": "code",
   "execution_count": 63,
   "id": "e4415405",
   "metadata": {},
   "outputs": [
    {
     "ename": "TypeError",
     "evalue": "'list' object is not callable",
     "output_type": "error",
     "traceback": [
      "\u001b[1;31m---------------------------------------------------------------------------\u001b[0m",
      "\u001b[1;31mTypeError\u001b[0m                                 Traceback (most recent call last)",
      "\u001b[1;32m~\\AppData\\Local\\Temp\\ipykernel_13332\\1708953621.py\u001b[0m in \u001b[0;36m<module>\u001b[1;34m\u001b[0m\n\u001b[0;32m      1\u001b[0m \u001b[0mthistuple\u001b[0m \u001b[1;33m=\u001b[0m \u001b[1;33m(\u001b[0m\u001b[1;34m\"apple\"\u001b[0m\u001b[1;33m,\u001b[0m \u001b[1;34m\"banana\"\u001b[0m\u001b[1;33m,\u001b[0m \u001b[1;34m\"cherry\"\u001b[0m\u001b[1;33m)\u001b[0m\u001b[1;33m\u001b[0m\u001b[1;33m\u001b[0m\u001b[0m\n\u001b[1;32m----> 2\u001b[1;33m \u001b[0my\u001b[0m \u001b[1;33m=\u001b[0m \u001b[0mlist\u001b[0m\u001b[1;33m(\u001b[0m\u001b[0mthistuple\u001b[0m\u001b[1;33m)\u001b[0m\u001b[1;33m\u001b[0m\u001b[1;33m\u001b[0m\u001b[0m\n\u001b[0m\u001b[0;32m      3\u001b[0m \u001b[0my\u001b[0m\u001b[1;33m.\u001b[0m\u001b[0mremove\u001b[0m\u001b[1;33m(\u001b[0m\u001b[1;34m\"apple\"\u001b[0m\u001b[1;33m)\u001b[0m\u001b[1;33m\u001b[0m\u001b[1;33m\u001b[0m\u001b[0m\n\u001b[0;32m      4\u001b[0m \u001b[0mthistuple\u001b[0m \u001b[1;33m=\u001b[0m \u001b[0mtuple\u001b[0m\u001b[1;33m(\u001b[0m\u001b[0my\u001b[0m\u001b[1;33m)\u001b[0m\u001b[1;33m\u001b[0m\u001b[1;33m\u001b[0m\u001b[0m\n",
      "\u001b[1;31mTypeError\u001b[0m: 'list' object is not callable"
     ]
    }
   ],
   "source": [
    "thistuple = (\"apple\", \"banana\", \"cherry\")\n",
    "y = list(thistuple)\n",
    "y.remove(\"apple\")\n",
    "thistuple = tuple(y)"
   ]
  },
  {
   "cell_type": "markdown",
   "id": "9f9ab2ed",
   "metadata": {},
   "source": [
    "count()\tReturns the number of times a specified value occurs in a tuple\n",
    "\n",
    "\n",
    "index()\tSearches the tuple for a specified value and returns the position of where it was found"
   ]
  },
  {
   "cell_type": "markdown",
   "id": "72561f7f",
   "metadata": {},
   "source": [
    "#  Set  "
   ]
  },
  {
   "cell_type": "markdown",
   "id": "49de16a6",
   "metadata": {},
   "source": [
    " A set is a collection which is unordered, unchangeable*, and unindexed.((Duplicates Not Allowed))\n",
    " \n",
    " Sets are used to store multiple items in a single variable.\n",
    " \n",
    " \n",
    " A set can contain different data types:"
   ]
  },
  {
   "cell_type": "markdown",
   "id": "eb7f1251",
   "metadata": {},
   "source": [
    "\n",
    "add()\t -->\tAdds an element to the set\n",
    "\n",
    "clear()\t -->\tRemoves all the elements from the set\n",
    "\n",
    "copy()\t -->\tReturns a copy of the set\n",
    "\n",
    "difference() --> -\tReturns a set containing the difference between two or more sets\n",
    "\n",
    "difference_update()\t--> -=\tRemoves the items in this set that are also included in another, \n",
    "specified set\n",
    "\n",
    "\n",
    "discard()--> Remove the specified item\n",
    "\n",
    "intersection()\t--> &\tReturns a set, that is the intersection of two other sets"
   ]
  },
  {
   "cell_type": "markdown",
   "id": "c1829661",
   "metadata": {},
   "source": [
    "intersection_update()\t&=\tRemoves the items in this set that are not present in other, \n",
    "specified set(s)\n",
    "\n",
    "isdisjoint()\t \tReturns whether two sets have a intersection or not\n",
    "\n",
    "issubset()\t<=\tReturns whether another set contains this set or not\n",
    " \t<\tReturns whether all items in this set is present in other, specified set(s)\n",
    "\n",
    "issuperset()\t>=\tReturns whether this set contains another set or not\n",
    " \t>\tReturns whether all items in other, specified set(s) is present in this set\n",
    "\n",
    "pop()\t \tRemoves an element from the set\n",
    "\n",
    "remove()\t \tRemoves the specified element\n",
    "\n",
    "symmetric_difference()\t^\tReturns a set with the symmetric differences of two sets\n",
    "\n",
    "symmetric_difference_update()\t^=\tInserts the symmetric differences from this set and another\n",
    "\n",
    "union()\t|\tReturn a set containing the union of sets\n",
    "\n",
    "update()\t|=\tUpdate the set with the union of this set and others"
   ]
  },
  {
   "cell_type": "markdown",
   "id": "2a5e34dd",
   "metadata": {},
   "source": [
    "a={1,2,3,4,5,6,6,6,6,6,\"a\",\"b\"}\n",
    "print(a)\n",
    "print(len(a))"
   ]
  },
  {
   "cell_type": "code",
   "execution_count": 64,
   "id": "e4f69e05",
   "metadata": {},
   "outputs": [
    {
     "name": "stdout",
     "output_type": "stream",
     "text": [
      "{False, True, 'banana', 'apple', 'cherry'}\n",
      "5\n",
      "<class 'set'>\n"
     ]
    }
   ],
   "source": [
    "#1==True  0==false\n",
    "thisset = {\"apple\", \"banana\", \"cherry\", False, True, 0,1}\n",
    "\n",
    "print(thisset)\n",
    "print(len(thisset))\n",
    "print(type(thisset))"
   ]
  },
  {
   "cell_type": "code",
   "execution_count": 65,
   "id": "32a33403",
   "metadata": {},
   "outputs": [
    {
     "name": "stdout",
     "output_type": "stream",
     "text": [
      "{'cherry', 'banana', 'apple'}\n"
     ]
    }
   ],
   "source": [
    "thisset = set((\"apple\", \"banana\", \"cherry\")) # note the double round-brackets\n",
    "print(thisset)"
   ]
  },
  {
   "cell_type": "code",
   "execution_count": 66,
   "id": "f87d840a",
   "metadata": {},
   "outputs": [
    {
     "name": "stdout",
     "output_type": "stream",
     "text": [
      "{1, 2, 3, 4, 5, 6, 7, 33, 66, 44}\n",
      "{1, 2, 3, 4, 5, 6, 7, 33, 66, 44}\n",
      "{1, 2, 3, 4}\n",
      "{5, 6, 7}\n",
      "{1, 66, 2, 3, 4, 33, 44}\n",
      "{1, 2, 3, 4, 5, 6, 7}\n",
      "{10000, 1, 2, 3, 4, 5, 6, 7}\n"
     ]
    }
   ],
   "source": [
    "#Union(),difference(),intersection() ,symmetric_difference()\n",
    "#difference_update()----> update orginal set \n",
    "\n",
    "A={1,2,3,4,5,6,7}\n",
    "B={33,44,66,5,6,7}\n",
    "print(A|B)\n",
    "print(A.union(B))\n",
    "print(A.difference(B))\n",
    "print(A.intersection(B))\n",
    "print(A.symmetric_difference(B))\n",
    "print(A)\n",
    "\n",
    "A.add(10000)\n",
    "print(A)"
   ]
  },
  {
   "cell_type": "code",
   "execution_count": 67,
   "id": "44cf18c5",
   "metadata": {},
   "outputs": [
    {
     "name": "stdout",
     "output_type": "stream",
     "text": [
      "{'cherry', 'banana', 'apple', 'orange'}\n"
     ]
    }
   ],
   "source": [
    "#ADD()\n",
    "thisset = {\"apple\", \"banana\", \"cherry\"}\n",
    "\n",
    "thisset.add(\"orange\")\n",
    "\n",
    "print(thisset)"
   ]
  },
  {
   "cell_type": "code",
   "execution_count": 68,
   "id": "5cffc607",
   "metadata": {},
   "outputs": [
    {
     "name": "stdout",
     "output_type": "stream",
     "text": [
      "cherry\n",
      "{'banana', 'apple'}\n"
     ]
    }
   ],
   "source": [
    "#pop()--->Remove a random item by using the pop() method:\n",
    "thisset = {\"apple\", \"banana\", \"cherry\"}\n",
    "\n",
    "x = thisset.pop()\n",
    "\n",
    "print(x)\n",
    "\n",
    "print(thisset)"
   ]
  },
  {
   "cell_type": "code",
   "execution_count": 69,
   "id": "1737624d",
   "metadata": {},
   "outputs": [
    {
     "name": "stdout",
     "output_type": "stream",
     "text": [
      "{1, 2, 3, 4, 5, 6}\n"
     ]
    }
   ],
   "source": [
    "#remove()== discard()\n",
    "A={1,2,3,4,5,6,7}\n",
    "A.discard(7)\n",
    "A.discard(100)#---> no error  \n",
    "print(A)"
   ]
  },
  {
   "cell_type": "code",
   "execution_count": 70,
   "id": "0d80f4e9",
   "metadata": {},
   "outputs": [
    {
     "name": "stdout",
     "output_type": "stream",
     "text": [
      "set()\n"
     ]
    }
   ],
   "source": [
    "#clear()\n",
    "thisset = {\"apple\", \"banana\", \"cherry\"}\n",
    "\n",
    "thisset.clear()\n",
    "\n",
    "print(thisset)"
   ]
  },
  {
   "cell_type": "code",
   "execution_count": 71,
   "id": "cede2ba6",
   "metadata": {},
   "outputs": [
    {
     "ename": "NameError",
     "evalue": "name 'Q' is not defined",
     "output_type": "error",
     "traceback": [
      "\u001b[1;31m---------------------------------------------------------------------------\u001b[0m",
      "\u001b[1;31mNameError\u001b[0m                                 Traceback (most recent call last)",
      "\u001b[1;32m~\\AppData\\Local\\Temp\\ipykernel_13332\\888231058.py\u001b[0m in \u001b[0;36m<module>\u001b[1;34m\u001b[0m\n\u001b[0;32m      4\u001b[0m \u001b[1;32mdel\u001b[0m \u001b[0mQ\u001b[0m\u001b[1;33m\u001b[0m\u001b[1;33m\u001b[0m\u001b[0m\n\u001b[0;32m      5\u001b[0m \u001b[1;33m\u001b[0m\u001b[0m\n\u001b[1;32m----> 6\u001b[1;33m \u001b[0mprint\u001b[0m\u001b[1;33m(\u001b[0m\u001b[0mQ\u001b[0m\u001b[1;33m)\u001b[0m\u001b[1;33m\u001b[0m\u001b[1;33m\u001b[0m\u001b[0m\n\u001b[0m",
      "\u001b[1;31mNameError\u001b[0m: name 'Q' is not defined"
     ]
    }
   ],
   "source": [
    "#The del keyword will delete the set completely:\n",
    "Q = {\"apple\", \"banana\", \"cherry\"}\n",
    "\n",
    "del Q\n",
    "\n",
    "print(Q)"
   ]
  },
  {
   "cell_type": "code",
   "execution_count": 72,
   "id": "2bac3e0f",
   "metadata": {},
   "outputs": [
    {
     "data": {
      "text/plain": [
       "False"
      ]
     },
     "execution_count": 72,
     "metadata": {},
     "output_type": "execute_result"
    }
   ],
   "source": [
    "#issuperset() , issubset(),isdisjoint()\n",
    "A={1,2,3,4,5,6,7}\n",
    "B={33,44,66,5,6,7}\n",
    "A.issuperset(B)"
   ]
  },
  {
   "cell_type": "code",
   "execution_count": 73,
   "id": "518444d6",
   "metadata": {},
   "outputs": [
    {
     "data": {
      "text/plain": [
       "True"
      ]
     },
     "execution_count": 73,
     "metadata": {},
     "output_type": "execute_result"
    }
   ],
   "source": [
    "C={1,2,3,4,5}\n",
    "R={1,2,3,4}\n",
    "C.issuperset(R)"
   ]
  },
  {
   "cell_type": "code",
   "execution_count": 74,
   "id": "47755cab",
   "metadata": {},
   "outputs": [
    {
     "data": {
      "text/plain": [
       "True"
      ]
     },
     "execution_count": 74,
     "metadata": {},
     "output_type": "execute_result"
    }
   ],
   "source": [
    "E={1,2,3,4,5}\n",
    "V={6,7,8,9}\n",
    "E.isdisjoint(V)"
   ]
  },
  {
   "cell_type": "markdown",
   "id": "d7233120",
   "metadata": {},
   "source": [
    "# dictionary"
   ]
  },
  {
   "cell_type": "markdown",
   "id": "a6c43204",
   "metadata": {},
   "source": [
    "A dictionary is a collection which is ordered*, changeable and do not allow duplicates.\n",
    "\n",
    "Dictionaries are used to store data values in key:value pairs.\n"
   ]
  },
  {
   "cell_type": "code",
   "execution_count": 75,
   "id": "910e496d",
   "metadata": {},
   "outputs": [
    {
     "name": "stdout",
     "output_type": "stream",
     "text": [
      "{'brand': 'Ford', 'model': 'Mustang', 'year': [2002, 2001, 2000]}\n",
      "Mustang\n",
      "[2002, 2001, 2000]\n",
      "3\n",
      "dict_keys(['brand', 'model', 'year'])\n",
      "dict_values(['Ford', 'Mustang', [2002, 2001, 2000]])\n"
     ]
    }
   ],
   "source": [
    "thisdict = {\n",
    "  \"brand\": \"Ford\",\n",
    "  \"model\": \"Mustang\",\n",
    "  \"year\": [2002,2001,2000]\n",
    "\n",
    "}\n",
    "\n",
    "print(thisdict)\n",
    "print(thisdict.get(\"model\"))\n",
    "print(thisdict['year'])\n",
    "print(len(thisdict))\n",
    "x=thisdict.keys()\n",
    "y=thisdict.values()\n",
    "print(x)\n",
    "print(y)\n"
   ]
  },
  {
   "cell_type": "code",
   "execution_count": 76,
   "id": "09901bdd",
   "metadata": {},
   "outputs": [
    {
     "name": "stdout",
     "output_type": "stream",
     "text": [
      "<class 'dict'>\n",
      "dict_items([('brand', 'Ford'), ('model', 'Mustang'), ('year', [2002, 2001, 2000])])\n"
     ]
    }
   ],
   "source": [
    "#Get Items\n",
    "my_dict={\n",
    "    \"brand\":\"ford\",\n",
    "    \"electric\":False,\n",
    "    \"year\":2002,\n",
    "    \"colors\":['red','blue','green']    \n",
    "}\n",
    "print(type(my_dict))\n",
    "x = thisdict.items()\n",
    "print(x)"
   ]
  },
  {
   "cell_type": "code",
   "execution_count": 77,
   "id": "68d6b071",
   "metadata": {},
   "outputs": [
    {
     "name": "stdout",
     "output_type": "stream",
     "text": [
      "{'name': 'John', 'age': 36, 'country': 'Norway'}\n"
     ]
    }
   ],
   "source": [
    "#The dict() Constructor ,It is also possible to use the dict() constructor to make a dictionary.\n",
    "thisdict = dict(name = \"John\", age = 36, country = \"Norway\")\n",
    "print(thisdict)"
   ]
  },
  {
   "cell_type": "code",
   "execution_count": 78,
   "id": "a37fd7c5",
   "metadata": {},
   "outputs": [
    {
     "name": "stdout",
     "output_type": "stream",
     "text": [
      "True\n"
     ]
    }
   ],
   "source": [
    "#Check if Key Exists\n",
    "dic={  \"brand\": \"Ford\",\n",
    "  \"model\": \"Mustang\",\n",
    "  \"year\": 1964\n",
    "}\n",
    "\n",
    "if \"model\" in dic : \n",
    "    print(True)"
   ]
  },
  {
   "cell_type": "code",
   "execution_count": 79,
   "id": "029f14e8",
   "metadata": {},
   "outputs": [
    {
     "name": "stdout",
     "output_type": "stream",
     "text": [
      "{'brand': 'Ford', 'model': 'Mustang', 'year': 2002}\n"
     ]
    }
   ],
   "source": [
    "#Change Values\n",
    "thisdict = {\n",
    "  \"brand\": \"Ford\",\n",
    "  \"model\": \"Mustang\",\n",
    "  \"year\": 1964\n",
    "}\n",
    "thisdict['year']=2002\n",
    "print(thisdict)\n"
   ]
  },
  {
   "cell_type": "code",
   "execution_count": 80,
   "id": "db299c2b",
   "metadata": {},
   "outputs": [],
   "source": [
    "#using update \n",
    "thisdict = {\n",
    "  \"brand\": \"Ford\",\n",
    "  \"model\": \"Mustang\",\n",
    "  \"year\": 1964\n",
    "}\n",
    "thisdict.update({\"year\": 2020})"
   ]
  },
  {
   "cell_type": "code",
   "execution_count": 81,
   "id": "53d7d35c",
   "metadata": {},
   "outputs": [
    {
     "name": "stdout",
     "output_type": "stream",
     "text": [
      "None\n"
     ]
    }
   ],
   "source": [
    "z=thisdict.update({\"model\":\"z\"})\n",
    "print(z)"
   ]
  },
  {
   "cell_type": "code",
   "execution_count": 82,
   "id": "389296e3",
   "metadata": {},
   "outputs": [
    {
     "name": "stdout",
     "output_type": "stream",
     "text": [
      "marr\n",
      "{'brand': 'marr', 'model': 'z', 'year': 2020}\n"
     ]
    }
   ],
   "source": [
    "x=thisdict['brand']=\"marr\"\n",
    "print(x)\n",
    "print(thisdict)"
   ]
  },
  {
   "cell_type": "code",
   "execution_count": 83,
   "id": "b224d537",
   "metadata": {},
   "outputs": [
    {
     "name": "stdout",
     "output_type": "stream",
     "text": [
      "{'brand': 'Ford', 'model': 'Mustang', 'year': 1964, 'color': 'red'}\n"
     ]
    }
   ],
   "source": [
    "#ADD items\n",
    "thisdict = {\n",
    "  \"brand\": \"Ford\",\n",
    "  \"model\": \"Mustang\",\n",
    "  \"year\": 1964\n",
    "}\n",
    "\n",
    "x=thisdict['color']='red'\n",
    "print(thisdict)\n"
   ]
  },
  {
   "cell_type": "code",
   "execution_count": 84,
   "id": "b5f0f6fb",
   "metadata": {},
   "outputs": [],
   "source": [
    "#using update \n",
    "thisdict = {\n",
    "  \"brand\": \"Ford\",\n",
    "  \"model\": \"Mustang\",\n",
    "  \"year\": 1964\n",
    "}\n",
    "thisdict.update({\"color\": \"red\"})"
   ]
  },
  {
   "cell_type": "code",
   "execution_count": 85,
   "id": "f6b302ee",
   "metadata": {},
   "outputs": [
    {
     "name": "stdout",
     "output_type": "stream",
     "text": [
      "{'brand': 'Ford', 'year': 1964}\n"
     ]
    }
   ],
   "source": [
    "#Removing Items\n",
    "thisdict = {\n",
    "  \"brand\": \"Ford\",\n",
    "  \"model\": \"Mustang\",\n",
    "  \"year\": 1964\n",
    "}\n",
    "thisdict.pop(\"model\")\n",
    "print(thisdict)"
   ]
  },
  {
   "cell_type": "code",
   "execution_count": 86,
   "id": "b322499b",
   "metadata": {},
   "outputs": [
    {
     "name": "stdout",
     "output_type": "stream",
     "text": [
      "{'brand': 'Ford', 'model': 'Mustang'}\n"
     ]
    }
   ],
   "source": [
    "#pop.item() ---->removeing last item (lasst key ) \n",
    "thisdict = {\n",
    "  \"brand\": \"Ford\",\n",
    "  \"model\": \"Mustang\",\n",
    "  \"year\": 1964\n",
    "}\n",
    "thisdict.popitem()\n",
    "print(thisdict)"
   ]
  },
  {
   "cell_type": "code",
   "execution_count": 87,
   "id": "8993da66",
   "metadata": {},
   "outputs": [
    {
     "name": "stdout",
     "output_type": "stream",
     "text": [
      "{'brand': 'Ford'}\n"
     ]
    }
   ],
   "source": [
    "#using del \n",
    "del thisdict['model']\n",
    "print(thisdict)"
   ]
  },
  {
   "cell_type": "code",
   "execution_count": 88,
   "id": "f0fcfa02",
   "metadata": {},
   "outputs": [
    {
     "ename": "NameError",
     "evalue": "name 'thisdict' is not defined",
     "output_type": "error",
     "traceback": [
      "\u001b[1;31m---------------------------------------------------------------------------\u001b[0m",
      "\u001b[1;31mNameError\u001b[0m                                 Traceback (most recent call last)",
      "\u001b[1;32m~\\AppData\\Local\\Temp\\ipykernel_13332\\1804344215.py\u001b[0m in \u001b[0;36m<module>\u001b[1;34m\u001b[0m\n\u001b[0;32m      1\u001b[0m \u001b[1;31m# delete the dictionary at all\u001b[0m\u001b[1;33m\u001b[0m\u001b[1;33m\u001b[0m\u001b[0m\n\u001b[0;32m      2\u001b[0m \u001b[1;32mdel\u001b[0m \u001b[0mthisdict\u001b[0m\u001b[1;33m\u001b[0m\u001b[1;33m\u001b[0m\u001b[0m\n\u001b[1;32m----> 3\u001b[1;33m \u001b[0mprint\u001b[0m\u001b[1;33m(\u001b[0m\u001b[0mthisdict\u001b[0m\u001b[1;33m)\u001b[0m \u001b[1;31m#this will cause an error because \"thisdict\" no longer exists\u001b[0m\u001b[1;33m\u001b[0m\u001b[1;33m\u001b[0m\u001b[0m\n\u001b[0m",
      "\u001b[1;31mNameError\u001b[0m: name 'thisdict' is not defined"
     ]
    }
   ],
   "source": [
    "# delete the dictionary at all \n",
    "del thisdict\n",
    "print(thisdict) #this will cause an error because \"thisdict\" no longer exists"
   ]
  },
  {
   "cell_type": "code",
   "execution_count": 89,
   "id": "c349c403",
   "metadata": {},
   "outputs": [
    {
     "name": "stdout",
     "output_type": "stream",
     "text": [
      "{}\n"
     ]
    }
   ],
   "source": [
    "#The clear() method empties the dictionary\n",
    "thisdict = {\n",
    "  \"brand\": \"Ford\",\n",
    "  \"model\": \"Mustang\",\n",
    "  \"year\": 1964\n",
    "}\n",
    "thisdict.clear()\n",
    "print(thisdict)"
   ]
  },
  {
   "cell_type": "code",
   "execution_count": 90,
   "id": "9fff817b",
   "metadata": {},
   "outputs": [
    {
     "name": "stdout",
     "output_type": "stream",
     "text": [
      "brand\n",
      "model\n",
      "year\n",
      "Ford\n",
      "Mustang\n",
      "1964\n"
     ]
    }
   ],
   "source": [
    "thisdict = {\n",
    "  \"brand\": \"Ford\",\n",
    "  \"model\": \"Mustang\",\n",
    "  \"year\": 1964} \n",
    "\n",
    "    #print keys\n",
    "for x in thisdict: \n",
    "    print(x)\n",
    "    \n",
    "   #print valuess  \n",
    "for x in thisdict : \n",
    "    print(thisdict[x])\n",
    "    "
   ]
  },
  {
   "cell_type": "code",
   "execution_count": 91,
   "id": "01845cc6",
   "metadata": {},
   "outputs": [
    {
     "name": "stdout",
     "output_type": "stream",
     "text": [
      "Ford\n",
      "Mustang\n",
      "1964\n",
      "brand\n",
      "model\n",
      "year\n"
     ]
    }
   ],
   "source": [
    "thisdict = {\n",
    "  \"brand\": \"Ford\",\n",
    "  \"model\": \"Mustang\",\n",
    "  \"year\": 1964} \n",
    "\n",
    "    #another way \n",
    "for x in thisdict.values():\n",
    "    print(x)\n",
    "    \n",
    "for x in thisdict.keys():\n",
    "    print(x)"
   ]
  },
  {
   "cell_type": "code",
   "execution_count": 92,
   "id": "4bf0025e",
   "metadata": {},
   "outputs": [
    {
     "name": "stdout",
     "output_type": "stream",
     "text": [
      "{'brand': 'Ford', 'model': 'Mustang', 'year': 1964}\n"
     ]
    }
   ],
   "source": [
    "#copy()\n",
    "thisdict = {\n",
    "  \"brand\": \"Ford\",\n",
    "  \"model\": \"Mustang\",\n",
    "  \"year\": 1964\n",
    "}\n",
    "mydict = thisdict.copy()\n",
    "print(mydict)"
   ]
  },
  {
   "cell_type": "code",
   "execution_count": 93,
   "id": "86e84f58",
   "metadata": {},
   "outputs": [
    {
     "name": "stdout",
     "output_type": "stream",
     "text": [
      "{'brand': 'Ford', 'model': 'Mustang', 'year': 1964}\n"
     ]
    }
   ],
   "source": [
    "thisdict = {\n",
    "  \"brand\": \"Ford\",\n",
    "  \"model\": \"Mustang\",\n",
    "  \"year\": 1964\n",
    "}\n",
    "mydict = dict(thisdict)\n",
    "print(mydict)"
   ]
  },
  {
   "cell_type": "markdown",
   "id": "ecfb7611",
   "metadata": {},
   "source": [
    "# Nested Dictionaries"
   ]
  },
  {
   "cell_type": "code",
   "execution_count": 94,
   "id": "e2305a17",
   "metadata": {},
   "outputs": [],
   "source": [
    "myfamily = {\n",
    "  \"child1\" : {\n",
    "    \"name\" : \"Emil\",\n",
    "    \"year\" : 2004\n",
    "  },\n",
    "  \"child2\" : {\n",
    "    \"name\" : \"Tobias\",\n",
    "    \"year\" : 2007\n",
    "  },\n",
    "  \"child3\" : {\n",
    "    \"name\" : \"Linus\",\n",
    "    \"year\" : 2011\n",
    "  }\n",
    "}"
   ]
  },
  {
   "cell_type": "code",
   "execution_count": 95,
   "id": "30f0c8a2",
   "metadata": {},
   "outputs": [],
   "source": [
    "child1 = {\n",
    "  \"name\" : \"Emil\",\n",
    "  \"year\" : 2004\n",
    "}\n",
    "child2 = {\n",
    "  \"name\" : \"Tobias\",\n",
    "  \"year\" : 2007\n",
    "}\n",
    "child3 = {\n",
    "  \"name\" : \"Linus\",\n",
    "  \"year\" : 2011\n",
    "}\n",
    "\n",
    "myfamily = {\n",
    "  \"child1\" : child1,\n",
    "  \"child2\" : child2,\n",
    "  \"child3\" : child3\n",
    "}"
   ]
  },
  {
   "cell_type": "code",
   "execution_count": 96,
   "id": "37bdc43b",
   "metadata": {},
   "outputs": [
    {
     "name": "stdout",
     "output_type": "stream",
     "text": [
      "Tobias\n"
     ]
    }
   ],
   "source": [
    "#Access Items in Nested Dictionaries\n",
    "print(myfamily['child2'][\"name\"])"
   ]
  },
  {
   "cell_type": "markdown",
   "id": "2c96cfae",
   "metadata": {},
   "source": [
    "\n",
    "clear()\tRemoves all the elements from the dictionary\n",
    "\n",
    "copy()\tReturns a copy of the dictionary\n",
    "\n",
    "fromkeys()\tReturns a dictionary with the specified keys and value\n",
    "\n",
    "get()\tReturns the value of the specified key\n",
    "\n",
    "items()\tReturns a list containing a tuple for each key value pair\n",
    "\n",
    "keys()\tReturns a list containing the dictionary's keys\n",
    "\n",
    "pop()\tRemoves the element with the specified key\n",
    "\n",
    "popitem()\tRemoves the last inserted key-value pair\n",
    "\n",
    "setdefault()\tReturns the value of the specified key. If the key does not exist: insert the key, with the specified value\n",
    "\n",
    "update()\tUpdates the dictionary with the specified key-value pairs\n",
    "\n",
    "values()\tReturns a list of all the values in the dictionary"
   ]
  },
  {
   "cell_type": "markdown",
   "id": "475dfd47",
   "metadata": {},
   "source": [
    "# Python If ... Else\n"
   ]
  },
  {
   "cell_type": "markdown",
   "id": "e5030bd3",
   "metadata": {},
   "source": [
    "Equals: a == b\n",
    "\n",
    "Not Equals: a != b\n",
    "\n",
    "Less than: a < b\n",
    "\n",
    "Less than or equal to: a <= b\n",
    "\n",
    "Greater than: a > b\n",
    "\n",
    "Greater than or equal to: a >= b"
   ]
  },
  {
   "cell_type": "code",
   "execution_count": 97,
   "id": "189e1c1b",
   "metadata": {},
   "outputs": [
    {
     "name": "stdout",
     "output_type": "stream",
     "text": [
      "True\n"
     ]
    }
   ],
   "source": [
    "a=12\n",
    "b=99\n",
    "\n",
    "if a<b : \n",
    "    print(True)\n",
    "elif a==b:\n",
    "    print(\"yes\")\n",
    "elif a>b : \n",
    "    print(\"a>b\")\n",
    "else:\n",
    "    print(\"something wrong\")"
   ]
  },
  {
   "cell_type": "code",
   "execution_count": 98,
   "id": "02f1a8a3",
   "metadata": {},
   "outputs": [
    {
     "name": "stdout",
     "output_type": "stream",
     "text": [
      "a is greater than b\n"
     ]
    }
   ],
   "source": [
    "a = 200\n",
    "b = 33\n",
    "if b > a:\n",
    "  print(\"b is greater than a\")\n",
    "elif a == b:\n",
    "  print(\"a and b are equal\")\n",
    "else:\n",
    "  print(\"a is greater than b\")"
   ]
  },
  {
   "cell_type": "markdown",
   "id": "cb8b1ede",
   "metadata": {},
   "source": [
    "# Logic operation "
   ]
  },
  {
   "cell_type": "markdown",
   "id": "e11790d1",
   "metadata": {},
   "source": [
    "AND , Or ,NOT\n"
   ]
  },
  {
   "cell_type": "code",
   "execution_count": 99,
   "id": "929f9e95",
   "metadata": {},
   "outputs": [
    {
     "name": "stdout",
     "output_type": "stream",
     "text": [
      "True\n"
     ]
    }
   ],
   "source": [
    "a=33\n",
    "b==200\n",
    "if not a>b: \n",
    "    print (True)"
   ]
  },
  {
   "cell_type": "markdown",
   "id": "2ad46d75",
   "metadata": {},
   "source": [
    "# Nested If"
   ]
  },
  {
   "cell_type": "code",
   "execution_count": 100,
   "id": "a81ada82",
   "metadata": {},
   "outputs": [
    {
     "name": "stdout",
     "output_type": "stream",
     "text": [
      "Above ten,\n",
      "and also above 20!\n"
     ]
    }
   ],
   "source": [
    "x = 41\n",
    "\n",
    "if x > 10:\n",
    "  print(\"Above ten,\")\n",
    "  if x > 20:\n",
    "    print(\"and also above 20!\")\n",
    "  else:\n",
    "    print(\"but not above 20.\")"
   ]
  },
  {
   "cell_type": "markdown",
   "id": "e3fc7b7a",
   "metadata": {},
   "source": [
    "# The pass Statement"
   ]
  },
  {
   "cell_type": "code",
   "execution_count": 101,
   "id": "5adc6c0f",
   "metadata": {},
   "outputs": [],
   "source": [
    "#pass statement to avoid getting an error.\n",
    "a = 33\n",
    "b = 200\n",
    "\n",
    "if b > a:\n",
    "  pass"
   ]
  },
  {
   "cell_type": "markdown",
   "id": "80ca103c",
   "metadata": {},
   "source": [
    "# Python while Loops + For  Loop "
   ]
  },
  {
   "cell_type": "code",
   "execution_count": 102,
   "id": "af5c0f30",
   "metadata": {},
   "outputs": [
    {
     "name": "stdout",
     "output_type": "stream",
     "text": [
      "0\n",
      "1\n",
      "2\n",
      "3\n",
      "4\n",
      "5\n",
      "6\n",
      "7\n",
      "8\n",
      "9\n"
     ]
    }
   ],
   "source": [
    "i=0\n",
    "while i<10 : \n",
    "    print(i)\n",
    "    i+=1"
   ]
  },
  {
   "cell_type": "code",
   "execution_count": 103,
   "id": "51ee0631",
   "metadata": {},
   "outputs": [
    {
     "name": "stdout",
     "output_type": "stream",
     "text": [
      "1\n",
      "2\n",
      "3\n"
     ]
    }
   ],
   "source": [
    "#With the break statement we can stop the loop even if the while condition is true\n",
    "i = 1\n",
    "while i < 6:\n",
    "  print(i)\n",
    "  if i == 3:\n",
    "    break\n",
    "  i += 1"
   ]
  },
  {
   "cell_type": "code",
   "execution_count": 104,
   "id": "c7bb2d5f",
   "metadata": {},
   "outputs": [
    {
     "name": "stdout",
     "output_type": "stream",
     "text": [
      "0\n",
      "1\n",
      "2\n",
      "3\n",
      "4\n",
      "5\n"
     ]
    }
   ],
   "source": [
    "i=0 \n",
    "while i<10:\n",
    "    print(i)\n",
    "    if i==5: \n",
    "        break\n",
    "    i+=1"
   ]
  },
  {
   "cell_type": "code",
   "execution_count": 105,
   "id": "a959a92d",
   "metadata": {},
   "outputs": [
    {
     "name": "stdout",
     "output_type": "stream",
     "text": [
      "1\n",
      "2\n",
      "4\n",
      "5\n",
      "6\n"
     ]
    }
   ],
   "source": [
    "#With the continue statement we can stop the current iteration, and continue with the next:\n",
    "i = 0\n",
    "while i < 6:\n",
    "  i += 1\n",
    "  if i == 3:\n",
    "    continue\n",
    "  print(i)"
   ]
  },
  {
   "cell_type": "code",
   "execution_count": 106,
   "id": "bbf4eba6",
   "metadata": {},
   "outputs": [
    {
     "name": "stdout",
     "output_type": "stream",
     "text": [
      "1\n",
      "2\n",
      "3\n",
      "4\n",
      "5\n",
      "i is no longer less than 6\n"
     ]
    }
   ],
   "source": [
    "i = 1\n",
    "while i < 6:\n",
    "  print(i)\n",
    "  i += 1\n",
    "else:\n",
    "  print(\"i is no longer less than 6\")\n"
   ]
  },
  {
   "cell_type": "markdown",
   "id": "aaa5816e",
   "metadata": {},
   "source": [
    "# (( FOR LOOPs ))"
   ]
  },
  {
   "cell_type": "markdown",
   "id": "5c973b37",
   "metadata": {},
   "source": [
    "A for loop is used for iterating over a sequence (that is either a list, a tuple, a dictionary, a set, or a string).\n"
   ]
  },
  {
   "cell_type": "code",
   "execution_count": 107,
   "id": "de60225e",
   "metadata": {},
   "outputs": [
    {
     "name": "stdout",
     "output_type": "stream",
     "text": [
      "mohamed\n",
      "mosaad\n",
      "hdyia\n"
     ]
    }
   ],
   "source": [
    "#The variable x is used to hold the value of the current element during each iteration of the loop.\n",
    "names= [\"mohamed\", \"mosaad\", \"hdyia\"]\n",
    "for x in names :\n",
    "    print (x)"
   ]
  },
  {
   "cell_type": "code",
   "execution_count": 108,
   "id": "4ab285dc",
   "metadata": {},
   "outputs": [
    {
     "name": "stdout",
     "output_type": "stream",
     "text": [
      "(1, 'mohamed')\n",
      "(2, 'mosaad')\n",
      "(3, 'hdyia')\n"
     ]
    }
   ],
   "source": [
    "for word in enumerate (names,1):\n",
    "        print(word)"
   ]
  },
  {
   "cell_type": "code",
   "execution_count": 109,
   "id": "5c94f968",
   "metadata": {},
   "outputs": [
    {
     "name": "stdout",
     "output_type": "stream",
     "text": [
      "total: 1\n",
      "total: 2\n",
      "total: 3\n",
      "total: 4\n",
      "total: 5\n",
      "total: 6\n"
     ]
    }
   ],
   "source": [
    "count=0\n",
    "for x in \"mosaad\": \n",
    "    count+=1\n",
    "    print(\"total:\",count)"
   ]
  },
  {
   "cell_type": "code",
   "execution_count": 110,
   "id": "cff1d985",
   "metadata": {},
   "outputs": [
    {
     "name": "stdout",
     "output_type": "stream",
     "text": [
      "M\n",
      "O\n",
      "S\n",
      "A\n",
      "A\n",
      "D\n"
     ]
    }
   ],
   "source": [
    "for x in \"mosaad\": \n",
    "    new_string=x.upper()\n",
    "    print(new_string)"
   ]
  },
  {
   "cell_type": "code",
   "execution_count": 111,
   "id": "7020639a",
   "metadata": {},
   "outputs": [
    {
     "name": "stdout",
     "output_type": "stream",
     "text": [
      "not found\n",
      "not found\n",
      "not found\n",
      "a\n",
      "a\n",
      "not found\n"
     ]
    }
   ],
   "source": [
    "for x in\"mosaad\": \n",
    "    if x==\"a\":\n",
    "        print (x)\n",
    "    else : \n",
    "        print(\"not found\")"
   ]
  },
  {
   "cell_type": "code",
   "execution_count": 112,
   "id": "a34d3a29",
   "metadata": {},
   "outputs": [
    {
     "name": "stdout",
     "output_type": "stream",
     "text": [
      "daasom\n"
     ]
    }
   ],
   "source": [
    "reversed_string = \"\"\n",
    "for x in \"mosaad\":\n",
    "    reversed_string = x + reversed_string\n",
    "print(reversed_string)\n"
   ]
  },
  {
   "cell_type": "markdown",
   "id": "86f88cdf",
   "metadata": {},
   "source": [
    "# List Comprehension"
   ]
  },
  {
   "cell_type": "code",
   "execution_count": 113,
   "id": "4adfa2bb",
   "metadata": {},
   "outputs": [
    {
     "name": "stdout",
     "output_type": "stream",
     "text": [
      "['apple', 'banana', 'mango']\n"
     ]
    }
   ],
   "source": [
    "fruits = [\"apple\", \"banana\", \"cherry\", \"kiwi\", \"mango\"]\n",
    "newlist = []\n",
    "\n",
    "for x in fruits:\n",
    "  if \"a\" in x:\n",
    "    newlist.append(x)\n",
    "\n",
    "print(newlist)"
   ]
  },
  {
   "cell_type": "code",
   "execution_count": 114,
   "id": "c22aa699",
   "metadata": {},
   "outputs": [
    {
     "name": "stdout",
     "output_type": "stream",
     "text": [
      "['apple', 'banana', 'mango']\n"
     ]
    }
   ],
   "source": [
    "fruits = [\"apple\", \"banana\", \"cherry\", \"kiwi\", \"mango\"]\n",
    "\n",
    "newlist = [x for x in fruits if \"a\" in x]\n",
    "\n",
    "print(newlist)"
   ]
  },
  {
   "cell_type": "markdown",
   "id": "493f2b1c",
   "metadata": {},
   "source": [
    "# The break Statement\n"
   ]
  },
  {
   "cell_type": "markdown",
   "id": "44036f0f",
   "metadata": {},
   "source": [
    "With the break statement we can stop the loop before it has looped through all the items"
   ]
  },
  {
   "cell_type": "code",
   "execution_count": 115,
   "id": "0c20ad61",
   "metadata": {},
   "outputs": [
    {
     "name": "stdout",
     "output_type": "stream",
     "text": [
      "mo\n",
      "MOMO\n",
      "mohamed\n",
      "mosaad\n"
     ]
    }
   ],
   "source": [
    "names= [\"mo\",\"MOMO\",\"mohamed\", \"mosaad\", \"hdyia\"]\n",
    "for x in names : \n",
    "    print(x) \n",
    "    if x == \"mosaad\": \n",
    "        break"
   ]
  },
  {
   "cell_type": "code",
   "execution_count": 116,
   "id": "99d730be",
   "metadata": {},
   "outputs": [
    {
     "name": "stdout",
     "output_type": "stream",
     "text": [
      "mo\n",
      "MOMO\n",
      "mohamed\n"
     ]
    }
   ],
   "source": [
    "#but this time the break comes before the print\n",
    "names= [\"mo\",\"MOMO\",\"mohamed\", \"mosaad\", \"hdyia\"]\n",
    "for x in names : \n",
    "  \n",
    "    if x == \"mosaad\": \n",
    "        break\n",
    "    print(x) "
   ]
  },
  {
   "cell_type": "markdown",
   "id": "dea95f53",
   "metadata": {},
   "source": [
    "# The continue Statement"
   ]
  },
  {
   "cell_type": "markdown",
   "id": "04c16fd5",
   "metadata": {},
   "source": [
    "With the continue statement we can stop the current iteration of the loop, and continue with the next:"
   ]
  },
  {
   "cell_type": "code",
   "execution_count": 117,
   "id": "431bd701",
   "metadata": {},
   "outputs": [
    {
     "name": "stdout",
     "output_type": "stream",
     "text": [
      "apple\n",
      "cherry\n"
     ]
    }
   ],
   "source": [
    "fruits = [\"apple\", \"banana\", \"cherry\"]\n",
    "for x in fruits:\n",
    "  if x == \"banana\":\n",
    "    continue\n",
    "  print(x)"
   ]
  },
  {
   "cell_type": "code",
   "execution_count": 118,
   "id": "e1856b26",
   "metadata": {},
   "outputs": [
    {
     "name": "stdout",
     "output_type": "stream",
     "text": [
      "mo\n",
      "MOMO\n",
      "mohamed\n",
      "hdyia\n"
     ]
    }
   ],
   "source": [
    "names= [\"mo\",\"MOMO\",\"mohamed\", \"mosaad\", \"hdyia\"]\n",
    "for x in names : \n",
    "    if x == \"mosaad\": \n",
    "       continue\n",
    "    print(x) "
   ]
  },
  {
   "cell_type": "markdown",
   "id": "7b567c2a",
   "metadata": {},
   "source": [
    "# Pass statement "
   ]
  },
  {
   "cell_type": "code",
   "execution_count": 119,
   "id": "d15dcc07",
   "metadata": {},
   "outputs": [],
   "source": [
    "# بستخدمها لو هعمل فنكشن و مش هكملها دلوقتي و محتاج اكمل بعدها بستخدم باص علشان الايرورز \n",
    "for x in [0, 1, 2]:\n",
    "  pass\n"
   ]
  },
  {
   "cell_type": "markdown",
   "id": "260aebd7",
   "metadata": {},
   "source": [
    "# The range() Function"
   ]
  },
  {
   "cell_type": "raw",
   "id": "ddeb1c8e",
   "metadata": {},
   "source": [
    "to loop through a set of code a specifird number of timess , we can ussse the range() function "
   ]
  },
  {
   "cell_type": "code",
   "execution_count": 120,
   "id": "547a4e7b",
   "metadata": {},
   "outputs": [
    {
     "name": "stdout",
     "output_type": "stream",
     "text": [
      "0\n",
      "1\n",
      "2\n",
      "3\n",
      "4\n",
      "5\n"
     ]
    }
   ],
   "source": [
    "for x in range (6) :\n",
    "    print(x)"
   ]
  },
  {
   "cell_type": "code",
   "execution_count": 121,
   "id": "41cfda25",
   "metadata": {},
   "outputs": [
    {
     "name": "stdout",
     "output_type": "stream",
     "text": [
      "5\n",
      "6\n",
      "7\n",
      "8\n",
      "9\n"
     ]
    }
   ],
   "source": [
    "# adding a parameter , but not including 10\n",
    "#((start 5)) ((end before 10))\n",
    "for x in range (5,10) :\n",
    "    print(x)"
   ]
  },
  {
   "cell_type": "code",
   "execution_count": 122,
   "id": "54f00aeb",
   "metadata": {},
   "outputs": [
    {
     "name": "stdout",
     "output_type": "stream",
     "text": [
      "2\n",
      "5\n",
      "8\n",
      "11\n",
      "14\n",
      "17\n",
      "20\n",
      "23\n",
      "26\n",
      "29\n"
     ]
    }
   ],
   "source": [
    "#start at 2 \n",
    "#end before 30 \n",
    "#step 3\n",
    "\n",
    "for x in range(2, 30, 3):\n",
    "  print(x)"
   ]
  },
  {
   "cell_type": "markdown",
   "id": "1849b3a3",
   "metadata": {},
   "source": [
    "# Else in For Loop"
   ]
  },
  {
   "cell_type": "code",
   "execution_count": 123,
   "id": "5846dec1",
   "metadata": {},
   "outputs": [
    {
     "name": "stdout",
     "output_type": "stream",
     "text": [
      "0\n",
      "1\n",
      "2\n",
      "3\n",
      "4\n",
      "5\n",
      "i am very sad \n"
     ]
    }
   ],
   "source": [
    "for x in range(6):\n",
    "    print(x)\n",
    "else:\n",
    "    print(\"i am very sad \")"
   ]
  },
  {
   "cell_type": "code",
   "execution_count": 124,
   "id": "9508ff9f",
   "metadata": {},
   "outputs": [
    {
     "name": "stdout",
     "output_type": "stream",
     "text": [
      "0\n",
      "1\n",
      "2\n",
      "3\n",
      "4\n"
     ]
    }
   ],
   "source": [
    "for x in range(10): \n",
    "    if x==5 : break\n",
    "    print(x)\n",
    "else:\n",
    "    print('finally i did it ')"
   ]
  },
  {
   "cell_type": "markdown",
   "id": "8432894b",
   "metadata": {},
   "source": [
    "# Nested Loops\n"
   ]
  },
  {
   "cell_type": "markdown",
   "id": "94aa1a62",
   "metadata": {},
   "source": [
    "A nested loop is a loop inside a loop."
   ]
  },
  {
   "cell_type": "code",
   "execution_count": 125,
   "id": "54895d92",
   "metadata": {},
   "outputs": [
    {
     "name": "stdout",
     "output_type": "stream",
     "text": [
      "red apple\n",
      "red banana\n",
      "red cherry\n",
      "big apple\n",
      "big banana\n",
      "big cherry\n",
      "tasty apple\n",
      "tasty banana\n",
      "tasty cherry\n"
     ]
    }
   ],
   "source": [
    "adj = [\"red\", \"big\", \"tasty\"]\n",
    "fruits = [\"apple\", \"banana\", \"cherry\"]\n",
    "\n",
    "for x in adj:\n",
    "  for y in fruits:\n",
    "    print(x, y)"
   ]
  },
  {
   "cell_type": "code",
   "execution_count": 126,
   "id": "a4ea2dfa",
   "metadata": {},
   "outputs": [
    {
     "name": "stdout",
     "output_type": "stream",
     "text": [
      "red apple\n",
      "big banana\n",
      "tasty cherry\n"
     ]
    }
   ],
   "source": [
    "adj = [\"red\", \"big\", \"tasty\"]\n",
    "fruits = [\"apple\", \"banana\", \"cherry\"]\n",
    "\n",
    "# Iterate over the indices and print items where indices match\n",
    "for i in range(len(adj)): \n",
    "    print(adj[i], fruits[i])\n",
    "\n",
    "        \n",
    "        "
   ]
  },
  {
   "cell_type": "code",
   "execution_count": 127,
   "id": "0cd39bcc",
   "metadata": {},
   "outputs": [
    {
     "name": "stdout",
     "output_type": "stream",
     "text": [
      "current value 0\n",
      "current value 1\n",
      "current value 2\n",
      "current value 3\n",
      "current value 4\n",
      "current value 5\n",
      "current value 6\n",
      "current value 7\n",
      "current value 8\n",
      "current value 9\n"
     ]
    }
   ],
   "source": [
    "#Suppose you want to write a program that prints numbers from 1 to 10, formatted like this:\n",
    "for i in range(10):\n",
    "    print(\"current value\",i)"
   ]
  },
  {
   "cell_type": "markdown",
   "id": "18b2ae60",
   "metadata": {},
   "source": [
    "# Python function "
   ]
  },
  {
   "cell_type": "markdown",
   "id": "3ce86408",
   "metadata": {},
   "source": [
    "A function is a block of code which only runs when it is called.\n",
    "\n",
    "You can pass data, known as parameters, into a function.\n",
    "\n",
    "A function can return data as a result.\n",
    "\n"
   ]
  },
  {
   "cell_type": "code",
   "execution_count": 128,
   "id": "c57c5c06",
   "metadata": {},
   "outputs": [
    {
     "name": "stdout",
     "output_type": "stream",
     "text": [
      "my name is \n"
     ]
    }
   ],
   "source": [
    "#creating a function\n",
    "def my_firstfunction():\n",
    "    print(\"my name is \")\n",
    "\n",
    "    \n",
    "    #calling function \n",
    "my_firstfunction()"
   ]
  },
  {
   "cell_type": "code",
   "execution_count": 129,
   "id": "0e5c8a89",
   "metadata": {},
   "outputs": [
    {
     "name": "stdout",
     "output_type": "stream",
     "text": [
      "your fname is : Mohamed\n",
      "your sname is : Mosaad\n",
      "your tname is : Hassan \n"
     ]
    }
   ],
   "source": [
    "mydic={'fname':\"Mohamed\",\n",
    "      'sname':\"Mosaad\",\n",
    "      'tname':\"Hassan \"}\n",
    "\n",
    "for i in mydic: \n",
    "    print(f\"your {i} is : {mydic.get(i)}\")"
   ]
  },
  {
   "cell_type": "markdown",
   "id": "ac1d83e5",
   "metadata": {},
   "source": [
    "# "
   ]
  },
  {
   "cell_type": "markdown",
   "id": "52385c11",
   "metadata": {},
   "source": [
    "# "
   ]
  },
  {
   "cell_type": "markdown",
   "id": "5702de91",
   "metadata": {},
   "source": [
    "# Packing, Unpacking Arguments in functions \n"
   ]
  },
  {
   "cell_type": "markdown",
   "id": "4d3977bb",
   "metadata": {},
   "source": [
    "Information can be passed into functions as arguments.\n",
    "Arguments are specified after the function name\n"
   ]
  },
  {
   "cell_type": "code",
   "execution_count": 130,
   "id": "fb924683",
   "metadata": {},
   "outputs": [
    {
     "name": "stdout",
     "output_type": "stream",
     "text": [
      "my name is mo mossad\n"
     ]
    }
   ],
   "source": [
    "def names (firstname,secondname):\n",
    "    print(\"my name is \" + firstname , secondname )\n",
    "names('mo','mossad')    "
   ]
  },
  {
   "cell_type": "code",
   "execution_count": 131,
   "id": "cfad7928",
   "metadata": {},
   "outputs": [
    {
     "name": "stdout",
     "output_type": "stream",
     "text": [
      "my name is mohamed sallah\n"
     ]
    }
   ],
   "source": [
    "def print_fullname(first,last):\n",
    "    fullname= f\" {first} {last}\"\n",
    "    print(\"my name is\"+fullname)\n",
    "    \n",
    "print_fullname('mohamed','sallah')"
   ]
  },
  {
   "cell_type": "markdown",
   "id": "44a78098",
   "metadata": {},
   "source": [
    "# Argument VS Parameters "
   ]
  },
  {
   "cell_type": "markdown",
   "id": "a832d8fe",
   "metadata": {},
   "source": [
    "parameter and argument can be used for the same thing"
   ]
  },
  {
   "cell_type": "markdown",
   "id": "45a82543",
   "metadata": {},
   "source": [
    "A ((parameter)) is the variable listed inside the parentheses in the function definition"
   ]
  },
  {
   "cell_type": "markdown",
   "id": "1cc432dc",
   "metadata": {},
   "source": [
    "An ((argument)) is the value that is sent to the function when it is called.\n",
    "\n"
   ]
  },
  {
   "cell_type": "markdown",
   "id": "37b543f3",
   "metadata": {},
   "source": [
    "# Arbitrary Arguments, *args"
   ]
  },
  {
   "cell_type": "markdown",
   "id": "9095c57c",
   "metadata": {},
   "source": [
    "If the number of arguments is unknown, add a * before the parameter name"
   ]
  },
  {
   "cell_type": "code",
   "execution_count": 132,
   "id": "6c38d39a",
   "metadata": {},
   "outputs": [
    {
     "name": "stdout",
     "output_type": "stream",
     "text": [
      "The youngest child is ('Ali amir', 11, 'c3')\n"
     ]
    }
   ],
   "source": [
    "def information_school(*kids):\n",
    "    print(f\"The youngest child is {kids}\" )\n",
    "information_school(\"Ali amir\",11,\"c3\")"
   ]
  },
  {
   "cell_type": "code",
   "execution_count": 133,
   "id": "d7065f60",
   "metadata": {},
   "outputs": [
    {
     "name": "stdout",
     "output_type": "stream",
     "text": [
      "The youngest child is Ali amir\n"
     ]
    }
   ],
   "source": [
    "def information_school(*kids):\n",
    "    print(\"The youngest child is \" + kids[0])\n",
    "information_school(\"Ali amir\",11,\"c3\")\n"
   ]
  },
  {
   "cell_type": "code",
   "execution_count": 134,
   "id": "876cc0f0",
   "metadata": {},
   "outputs": [
    {
     "name": "stdout",
     "output_type": "stream",
     "text": [
      "The youngest child in c3\n"
     ]
    }
   ],
   "source": [
    "def information_school(*kids):\n",
    "    print(\"The youngest child in \" + kids[2])\n",
    "information_school(\"Ali amir\",11,\"c3\")"
   ]
  },
  {
   "cell_type": "markdown",
   "id": "c5dd7b36",
   "metadata": {},
   "source": [
    "# Keyword Arguments"
   ]
  },
  {
   "cell_type": "markdown",
   "id": "71e4b6b7",
   "metadata": {},
   "source": [
    "You can also send arguments with the key = value syntax."
   ]
  },
  {
   "cell_type": "code",
   "execution_count": 135,
   "id": "5418da09",
   "metadata": {},
   "outputs": [
    {
     "name": "stdout",
     "output_type": "stream",
     "text": [
      "The youngest child is Linus\n"
     ]
    }
   ],
   "source": [
    "def my_function(child3, child2, child1):\n",
    "  print(\"The youngest child is \" + child3)\n",
    "\n",
    "my_function(child1 = \"Emil\", child2 = \"Tobias\", child3 = \"Linus\")"
   ]
  },
  {
   "cell_type": "markdown",
   "id": "cc3b1438",
   "metadata": {},
   "source": [
    "# Arbitrary Keyword Arguments, **kwargs"
   ]
  },
  {
   "cell_type": "markdown",
   "id": "d3be93c9",
   "metadata": {},
   "source": [
    "If the number of keyword arguments is unknown, add a double ** before the parameter name:\n",
    "    \n",
    "    This way the function will receive a dictionary of arguments\n",
    "    "
   ]
  },
  {
   "cell_type": "code",
   "execution_count": 136,
   "id": "68989f64",
   "metadata": {},
   "outputs": [
    {
     "name": "stdout",
     "output_type": "stream",
     "text": [
      "His last name is Refsnes\n"
     ]
    }
   ],
   "source": [
    "def my_function(**kid):\n",
    "  print(\"His last name is \" + kid[\"lname\"])\n",
    "\n",
    "my_function(fname = \"Tobias\", lname = \"Refsnes\")"
   ]
  },
  {
   "cell_type": "markdown",
   "id": "71c5a417",
   "metadata": {},
   "source": [
    "# Default Parameter Value"
   ]
  },
  {
   "cell_type": "code",
   "execution_count": 137,
   "id": "338594cc",
   "metadata": {},
   "outputs": [
    {
     "name": "stdout",
     "output_type": "stream",
     "text": [
      "I am from Sweden\n",
      "I am from India\n",
      "I am from Norway\n",
      "I am from Brazil\n"
     ]
    }
   ],
   "source": [
    "def my_function(country = \"Norway\"):\n",
    "  print(\"I am from \" + country)\n",
    "\n",
    "my_function(\"Sweden\")\n",
    "my_function(\"India\")\n",
    "my_function()\n",
    "my_function(\"Brazil\")"
   ]
  },
  {
   "cell_type": "markdown",
   "id": "0b149bd0",
   "metadata": {},
   "source": [
    "# Passing a List as an Argument"
   ]
  },
  {
   "cell_type": "markdown",
   "id": "e2950942",
   "metadata": {},
   "source": [
    "You can send any data types of argument to a function (string, number, list, dictionary etc.)"
   ]
  },
  {
   "cell_type": "code",
   "execution_count": 138,
   "id": "ef7e8b12",
   "metadata": {},
   "outputs": [
    {
     "name": "stdout",
     "output_type": "stream",
     "text": [
      "apple\n",
      "banana\n",
      "cherry\n",
      "mohamed\n",
      "mosaad\n",
      "1\n",
      "2\n",
      "3\n",
      "4\n",
      "5\n",
      "6\n"
     ]
    }
   ],
   "source": [
    "#def function\n",
    "def my_function(food):\n",
    "    for x in food: \n",
    "        print(x)\n",
    "        \n",
    "#diff arguments      \n",
    "fruits=['apple','banana','cherry']\n",
    "names={'first':'mohamed','last':\"mosaad\"}\n",
    "num=(1,2,3,4,5,6)\n",
    "\n",
    "#calling \n",
    "my_function(fruits) \n",
    "my_function(names.values())\n",
    "my_function(num)"
   ]
  },
  {
   "cell_type": "markdown",
   "id": "22bd1c55",
   "metadata": {},
   "source": [
    "# Return Values"
   ]
  },
  {
   "cell_type": "code",
   "execution_count": 139,
   "id": "b012589e",
   "metadata": {},
   "outputs": [
    {
     "name": "stdout",
     "output_type": "stream",
     "text": [
      "15\n",
      "25\n",
      "45\n"
     ]
    }
   ],
   "source": [
    "def my_function(x):\n",
    "  return 5 * x\n",
    "\n",
    "print(my_function(3))\n",
    "print(my_function(5))\n",
    "print(my_function(9))"
   ]
  },
  {
   "cell_type": "code",
   "execution_count": 140,
   "id": "e782b322",
   "metadata": {},
   "outputs": [
    {
     "name": "stdout",
     "output_type": "stream",
     "text": [
      "25\n"
     ]
    }
   ],
   "source": [
    "def my_function(x):\n",
    "   print( 5 * x ) \n",
    "\n",
    "my_function(5)"
   ]
  },
  {
   "cell_type": "markdown",
   "id": "880101ab",
   "metadata": {},
   "source": [
    "# Note"
   ]
  },
  {
   "cell_type": "markdown",
   "id": "f7ac1b9e",
   "metadata": {},
   "source": [
    "function definitions cannot be empty.\n",
    "\n",
    "but if you for some reason have a function definition with no content\n",
    "\n",
    "put in the pass statement to avoid getting an error."
   ]
  },
  {
   "cell_type": "code",
   "execution_count": 141,
   "id": "424423a4",
   "metadata": {},
   "outputs": [],
   "source": [
    "def myfunction():\n",
    "  pass"
   ]
  },
  {
   "cell_type": "code",
   "execution_count": 142,
   "id": "01fdc180",
   "metadata": {},
   "outputs": [
    {
     "name": "stdout",
     "output_type": "stream",
     "text": [
      "4\n"
     ]
    }
   ],
   "source": [
    "def my_function(x,/):\n",
    "    print(x)\n",
    "my_function(4)"
   ]
  },
  {
   "cell_type": "code",
   "execution_count": 143,
   "id": "2ea5b710",
   "metadata": {},
   "outputs": [
    {
     "name": "stdout",
     "output_type": "stream",
     "text": [
      "3\n"
     ]
    }
   ],
   "source": [
    "def my_function(x):\n",
    "  print(x)\n",
    "\n",
    "my_function(3)"
   ]
  },
  {
   "cell_type": "code",
   "execution_count": 144,
   "id": "c53fe359",
   "metadata": {},
   "outputs": [
    {
     "ename": "TypeError",
     "evalue": "my_function() got some positional-only arguments passed as keyword arguments: 'x'",
     "output_type": "error",
     "traceback": [
      "\u001b[1;31m---------------------------------------------------------------------------\u001b[0m",
      "\u001b[1;31mTypeError\u001b[0m                                 Traceback (most recent call last)",
      "\u001b[1;32m~\\AppData\\Local\\Temp\\ipykernel_13332\\1400514592.py\u001b[0m in \u001b[0;36m<module>\u001b[1;34m\u001b[0m\n\u001b[0;32m      3\u001b[0m   \u001b[0mprint\u001b[0m\u001b[1;33m(\u001b[0m\u001b[0mx\u001b[0m\u001b[1;33m)\u001b[0m\u001b[1;33m\u001b[0m\u001b[1;33m\u001b[0m\u001b[0m\n\u001b[0;32m      4\u001b[0m \u001b[1;33m\u001b[0m\u001b[0m\n\u001b[1;32m----> 5\u001b[1;33m \u001b[0mmy_function\u001b[0m\u001b[1;33m(\u001b[0m\u001b[0mx\u001b[0m \u001b[1;33m=\u001b[0m \u001b[1;36m3\u001b[0m\u001b[1;33m)\u001b[0m\u001b[1;33m\u001b[0m\u001b[1;33m\u001b[0m\u001b[0m\n\u001b[0m",
      "\u001b[1;31mTypeError\u001b[0m: my_function() got some positional-only arguments passed as keyword arguments: 'x'"
     ]
    }
   ],
   "source": [
    "#ERROR\n",
    "def my_function(x, /):\n",
    "  print(x)\n",
    "\n",
    "my_function(x = 3)"
   ]
  },
  {
   "cell_type": "code",
   "execution_count": 145,
   "id": "4b2c39b0",
   "metadata": {},
   "outputs": [
    {
     "name": "stdout",
     "output_type": "stream",
     "text": [
      "The result is: 8\n"
     ]
    }
   ],
   "source": [
    "x = 0\n",
    "\n",
    "def myfun(x):\n",
    "    x = x * 2\n",
    "    print(f\"The result is: {x}\")\n",
    "    \n",
    "myfun(4)\n"
   ]
  },
  {
   "cell_type": "code",
   "execution_count": 146,
   "id": "1b22cc6e",
   "metadata": {},
   "outputs": [
    {
     "name": "stdout",
     "output_type": "stream",
     "text": [
      "0\n",
      "2\n",
      "4\n",
      "6\n",
      "8\n",
      "10\n",
      "12\n",
      "14\n",
      "16\n",
      "18\n",
      "20\n"
     ]
    }
   ],
   "source": [
    "def madrob(x):\n",
    "     return x*2\n",
    "\n",
    "\n",
    "for i in range(11):\n",
    "    print(madrob(i))"
   ]
  },
  {
   "cell_type": "markdown",
   "id": "94ccbddb",
   "metadata": {},
   "source": [
    "# Keyword-Only Arguments"
   ]
  },
  {
   "cell_type": "markdown",
   "id": "ba8ff0e6",
   "metadata": {},
   "source": [
    "To specify that a function can have only keyword arguments, add *, before the arguments:"
   ]
  },
  {
   "cell_type": "markdown",
   "id": "64077f9a",
   "metadata": {},
   "source": [
    "But when adding the *, / you will get an error if you try to send a positional argument:"
   ]
  },
  {
   "cell_type": "code",
   "execution_count": 147,
   "id": "93b5cba3",
   "metadata": {},
   "outputs": [
    {
     "name": "stdout",
     "output_type": "stream",
     "text": [
      "3\n"
     ]
    }
   ],
   "source": [
    "def my_function(*, x):\n",
    "  print(x)\n",
    "\n",
    "my_function(x=3)\n",
    "\n"
   ]
  },
  {
   "cell_type": "markdown",
   "id": "99176abd",
   "metadata": {},
   "source": [
    "# Combine Positional-Only and Keyword-Only"
   ]
  },
  {
   "cell_type": "markdown",
   "id": "9c422275",
   "metadata": {},
   "source": [
    "Any argument before the / , are positional-only, and any argument after the *, are keyword-only."
   ]
  },
  {
   "cell_type": "code",
   "execution_count": 148,
   "id": "f9459774",
   "metadata": {},
   "outputs": [
    {
     "name": "stdout",
     "output_type": "stream",
     "text": [
      "26\n"
     ]
    }
   ],
   "source": [
    "def my_function(a, b, /, *, c, d):\n",
    "  print(a + b + c + d)\n",
    "\n",
    "my_function(5, 6, c = 7, d = 8)"
   ]
  },
  {
   "cell_type": "raw",
   "id": "49ed8197",
   "metadata": {},
   "source": [
    "that mean I should assign\n",
    "c=8\n",
    "d=6 "
   ]
  },
  {
   "cell_type": "code",
   "execution_count": null,
   "id": "dc210bb3",
   "metadata": {},
   "outputs": [],
   "source": []
  },
  {
   "cell_type": "markdown",
   "id": "09f2d24c",
   "metadata": {},
   "source": [
    "# Recursion"
   ]
  },
  {
   "cell_type": "markdown",
   "id": "7d0e3a5a",
   "metadata": {},
   "source": [
    "1-which means a defined function can call itself\n",
    "\n",
    "2-Recursion is a common mathematical and programming concept.\n",
    "\n",
    "3-This has the benefit of meaning that you can loop through data to reach a result.\n"
   ]
  },
  {
   "cell_type": "code",
   "execution_count": 149,
   "id": "a032bbd0",
   "metadata": {},
   "outputs": [
    {
     "name": "stdout",
     "output_type": "stream",
     "text": [
      "\n",
      "\n",
      "Recursion Example Results\n",
      "1\n",
      "3\n",
      "6\n",
      "10\n",
      "15\n",
      "21\n"
     ]
    },
    {
     "data": {
      "text/plain": [
       "21"
      ]
     },
     "execution_count": 149,
     "metadata": {},
     "output_type": "execute_result"
    }
   ],
   "source": [
    "def tri_recursion(k):\n",
    "  if(k > 0):\n",
    "    result = k + tri_recursion(k - 1)\n",
    "    print(result)\n",
    "  else:\n",
    "    result = 0\n",
    "  return result\n",
    "\n",
    "print(\"\\n\\nRecursion Example Results\")\n",
    "tri_recursion(6)"
   ]
  },
  {
   "cell_type": "markdown",
   "id": "cb2f5c1d",
   "metadata": {},
   "source": [
    "# Python Lambda (small function)\n",
    "lambda arguments : expression"
   ]
  },
  {
   "cell_type": "markdown",
   "id": "8588db62",
   "metadata": {},
   "source": [
    "A lambda function is a small anonymous function.\n",
    "\n",
    "A lambda function can take any number of arguments, but can only have one expression.\n",
    "\n"
   ]
  },
  {
   "cell_type": "markdown",
   "id": "73cf1b7f",
   "metadata": {},
   "source": [
    "The power of lambda is better shown when you use them as an anonymous function inside another function."
   ]
  },
  {
   "cell_type": "markdown",
   "id": "ca5f1f5e",
   "metadata": {},
   "source": [
    "# variable_name= Lambda var :  expression"
   ]
  },
  {
   "cell_type": "code",
   "execution_count": 150,
   "id": "7b46cf67",
   "metadata": {},
   "outputs": [
    {
     "data": {
      "text/plain": [
       "25"
      ]
     },
     "execution_count": 150,
     "metadata": {},
     "output_type": "execute_result"
    }
   ],
   "source": [
    "def power ( x ): \n",
    "   return x**2\n",
    "power(5)"
   ]
  },
  {
   "cell_type": "code",
   "execution_count": 151,
   "id": "10380c75",
   "metadata": {},
   "outputs": [
    {
     "data": {
      "text/plain": [
       "25"
      ]
     },
     "execution_count": 151,
     "metadata": {},
     "output_type": "execute_result"
    }
   ],
   "source": [
    "#x == argument\n",
    "power2= lambda x : x**2\n",
    "power2(5)"
   ]
  },
  {
   "cell_type": "code",
   "execution_count": 152,
   "id": "e61f6d88",
   "metadata": {},
   "outputs": [
    {
     "name": "stdout",
     "output_type": "stream",
     "text": [
      "15\n"
     ]
    }
   ],
   "source": [
    "x = lambda a : a + 10\n",
    "print(x(5))"
   ]
  },
  {
   "cell_type": "code",
   "execution_count": 153,
   "id": "3fef5542",
   "metadata": {},
   "outputs": [
    {
     "data": {
      "text/plain": [
       "12"
      ]
     },
     "execution_count": 153,
     "metadata": {},
     "output_type": "execute_result"
    }
   ],
   "source": [
    "sum=lambda x , y : x+y\n",
    "sum(11,1)"
   ]
  },
  {
   "cell_type": "code",
   "execution_count": 154,
   "id": "fad1df5d",
   "metadata": {},
   "outputs": [
    {
     "data": {
      "text/plain": [
       "6"
      ]
     },
     "execution_count": 154,
     "metadata": {},
     "output_type": "execute_result"
    }
   ],
   "source": [
    "my_func= lambda x,y : x + y(x)\n",
    "my_func(2,lambda x:x*2)"
   ]
  },
  {
   "cell_type": "code",
   "execution_count": 155,
   "id": "64918dff",
   "metadata": {},
   "outputs": [
    {
     "name": "stdout",
     "output_type": "stream",
     "text": [
      "33\n"
     ]
    }
   ],
   "source": [
    "def myfunc(n):\n",
    "  return lambda a : a * n\n",
    "\n",
    "mytripler = myfunc(3)\n",
    "\n",
    "print(mytripler(11))\n"
   ]
  },
  {
   "cell_type": "code",
   "execution_count": 156,
   "id": "a224fbb1",
   "metadata": {},
   "outputs": [
    {
     "name": "stdout",
     "output_type": "stream",
     "text": [
      "22\n",
      "33\n"
     ]
    }
   ],
   "source": [
    "def myfunc(n):\n",
    "  return lambda a : a * n\n",
    "\n",
    "mydoubler = myfunc(2)\n",
    "mytripler = myfunc(3)\n",
    "\n",
    "print(mydoubler(11))\n",
    "print(mytripler(11))"
   ]
  },
  {
   "cell_type": "markdown",
   "id": "25e0e65e",
   "metadata": {},
   "source": [
    "------------------------------------------------------------------------------------------------------------------------------------------------------------------------------------------------------------\n",
    "------------------------------------------------------------------------------------------------------------------------------------------------------------------------------------------------------------\n",
    "### What is a Prime Number?\n",
    "A **prime number** is a number greater than 1 that can only be divided by 1 and itself. For example:\n",
    "- 2 is prime because it is only divisible by 1 and 2.\n",
    "- 3 is prime because it is only divisible by 1 and 3.\n",
    "- 4 is **not** prime because it can be divided by 1, 2, and 4.\n",
    "\n",
    "### Why Do We Check Divisibility Up to the Square Root?\n",
    "When you check if a number is divisible by another, you're seeing if there's a number that, when multiplied by another, equals the original number.\n",
    "\n",
    "For example:\n",
    "- To check if 36 is divisible by any number, you could check up to √36 = 6.\n",
    "- If 36 is divisible by any number larger than 6, the paired divisor will already have been found below 6 (because if 36 = 6 × 6, then swapping them gives you the same result).\n",
    "\n",
    "So for any number \\( N \\), if it’s divisible by a number larger than \\( \\sqrt{N} \\), the corresponding divisor will be smaller than \\( \\sqrt{N} \\).\n",
    "\n",
    "### Example of Prime Checking for 37\n",
    "- Start checking if 37 is divisible by numbers from 2 up to \\( \\sqrt{37} \\approx 6 \\).\n",
    "- 37 divided by 2, 3, 4, 5, and 6 does not result in an integer.\n",
    "- So, 37 is prime because no smaller numbers divide it evenly.\n",
    "\n",
    "### Modified Code Explanation:\n",
    "\n",
    "```python\n",
    "def prime_number():\n",
    "    for i in range(2, 100):  # Start from 2 because 1 is not prime\n",
    "        is_prime = True       # Assume the number is prime initially\n",
    "        for j in range(2, int(i ** 0.5) + 1):  # Check divisibility up to the square root of i\n",
    "            if i % j == 0:  # If i is divisible by j, it's not prime\n",
    "                is_prime = False  # Set to False, meaning i is not prime\n",
    "                break  # No need to check further\n",
    "        if is_prime:\n",
    "            print(i)  # Print the number if it's prime\n",
    "```\n",
    "\n",
    "- `i ** 0.5` computes the square root of `i`.\n",
    "- The inner loop checks if `i` is divisible by any number `j` from 2 to \\( \\sqrt{i} \\). If it is, `i` is not prime, and we stop checking further.\n",
    "- If no divisors are found in that range, the number is prime.\n",
    "\n",
    "### Visual Example:\n",
    "If you're checking if 37 is prime:\n",
    "- Start by checking if 37 is divisible by 2, 3, 4, 5, or 6 (since \\( \\sqrt{37} \\approx 6 \\)).\n",
    "- None of these numbers divide 37 evenly, so 37 is prime.\n",
    "\n",
    "Let me know if this clarifies things!"
   ]
  },
  {
   "cell_type": "markdown",
   "id": "bd0c6e11",
   "metadata": {},
   "source": [
    "# Python Arrays"
   ]
  },
  {
   "cell_type": "markdown",
   "id": "98f28c0c",
   "metadata": {},
   "source": [
    "Arrays are used to store multiple values in one single variable:\n",
    "\n",
    "An array is a special variable, which can hold more than one value at a time.\n",
    "\n",
    "An array can hold many values under a single name, and you can access the values by referring to an index number."
   ]
  },
  {
   "cell_type": "markdown",
   "id": "3a73c3a9",
   "metadata": {},
   "source": [
    "# Access the Elements of an Array"
   ]
  },
  {
   "cell_type": "code",
   "execution_count": 157,
   "id": "463244c3",
   "metadata": {},
   "outputs": [
    {
     "name": "stdout",
     "output_type": "stream",
     "text": [
      "BMW\n"
     ]
    }
   ],
   "source": [
    "cars=['Mar','BMW','Honda','Matrix']\n",
    "x = cars[1]\n",
    "print(x)"
   ]
  },
  {
   "cell_type": "code",
   "execution_count": 158,
   "id": "5788c888",
   "metadata": {},
   "outputs": [
    {
     "name": "stdout",
     "output_type": "stream",
     "text": [
      "['Mar', 'Toyota', 'Honda', 'Matrix']\n"
     ]
    }
   ],
   "source": [
    "#Modify the value of the first array item:\n",
    "cars[1] = \"Toyota\"\n",
    "print(cars)"
   ]
  },
  {
   "cell_type": "code",
   "execution_count": 159,
   "id": "1f637326",
   "metadata": {},
   "outputs": [
    {
     "name": "stdout",
     "output_type": "stream",
     "text": [
      "4\n"
     ]
    }
   ],
   "source": [
    "#The Length of an Array\n",
    "\n",
    "x = len(cars)\n",
    "print(x)"
   ]
  },
  {
   "cell_type": "code",
   "execution_count": 160,
   "id": "5f48a634",
   "metadata": {},
   "outputs": [
    {
     "name": "stdout",
     "output_type": "stream",
     "text": [
      "Mar\n",
      "Toyota\n",
      "Honda\n",
      "Matrix\n"
     ]
    }
   ],
   "source": [
    "for x in cars:\n",
    "  print(x)"
   ]
  },
  {
   "cell_type": "code",
   "execution_count": 161,
   "id": "d2794eac",
   "metadata": {},
   "outputs": [
    {
     "name": "stdout",
     "output_type": "stream",
     "text": [
      "['Mar', 'Toyota', 'Honda', 'Matrix', 'NIS']\n"
     ]
    }
   ],
   "source": [
    "cars.append(\"NIS\")\n",
    "print (cars)"
   ]
  },
  {
   "cell_type": "code",
   "execution_count": 162,
   "id": "74f93b01",
   "metadata": {},
   "outputs": [
    {
     "name": "stdout",
     "output_type": "stream",
     "text": [
      "['Mar', 'Honda', 'Matrix', 'NIS']\n"
     ]
    }
   ],
   "source": [
    "# Removes the element at the specified position --->Toyota\n",
    "cars.pop(1)\n",
    "print(cars)"
   ]
  },
  {
   "cell_type": "raw",
   "id": "0003764d",
   "metadata": {},
   "source": [
    "\n",
    "append() Adds an element at the end of the list\n",
    "\n",
    "clear()\t Removes all the elements from the list\n",
    "\n",
    "copy()\t Returns a copy of the list\n",
    "\n",
    "count()\t Returns the number of elements with the specified value\n",
    "\n",
    "extend() Add the elements of a list (or any iterable), to the end of \n",
    "            the current list\n",
    "\n",
    "index()\t Returns the index of the first element with the specified value\n",
    "\n",
    "insert() Adds an element at the specified position\n",
    "\n",
    "pop()\t Removes the element at the specified position\n",
    "\n",
    "remove() Removes the first item with the specified value\n",
    "\n",
    "reverse() Reverses the order of the list\n",
    "\n",
    "sort()\t Sorts the list"
   ]
  },
  {
   "cell_type": "markdown",
   "id": "2fd33c15",
   "metadata": {},
   "source": [
    "# "
   ]
  },
  {
   "cell_type": "markdown",
   "id": "9d849c74",
   "metadata": {},
   "source": [
    "# "
   ]
  },
  {
   "cell_type": "markdown",
   "id": "bf9ac7bb",
   "metadata": {},
   "source": [
    "# "
   ]
  },
  {
   "cell_type": "markdown",
   "id": "d5fa955f",
   "metadata": {},
   "source": [
    "# Input User\n",
    "\n",
    "strip(): remove space in input user "
   ]
  },
  {
   "cell_type": "code",
   "execution_count": 167,
   "id": "013e480d",
   "metadata": {},
   "outputs": [
    {
     "name": "stdout",
     "output_type": "stream",
     "text": [
      "what's your fnamemohamed \n",
      "what's your second namemosad\n",
      "Hello Mohamed M happy to see you \n"
     ]
    }
   ],
   "source": [
    "first_name=input('what\\'s your fname').strip().capitalize()\n",
    "second_name=input('what\\'s your second name').strip().capitalize()\n",
    "\n",
    "print(f\"Hello {first_name} {second_name:.1s} happy to see you \")"
   ]
  },
  {
   "cell_type": "code",
   "execution_count": 168,
   "id": "234f0f7c",
   "metadata": {},
   "outputs": [
    {
     "name": "stdout",
     "output_type": "stream",
     "text": [
      "mohamed_Mosaad\n"
     ]
    }
   ],
   "source": [
    "email='mohamed_Mosaad@Gmail.com'\n",
    "print(email[0:email.index('@')])"
   ]
  },
  {
   "cell_type": "markdown",
   "id": "d3f06097",
   "metadata": {},
   "source": [
    "# 1-Practical \n",
    "\n",
    "email[0:email.index(\"@\")]---> get just email name "
   ]
  },
  {
   "cell_type": "code",
   "execution_count": 169,
   "id": "0db42326",
   "metadata": {},
   "outputs": [
    {
     "name": "stdout",
     "output_type": "stream",
     "text": [
      "What is your first name: mohamed\n",
      "What is your second name: mosad\n",
      "What is your email: mohamed_Mosaad @mo.com\n",
      "Your account is mohamed_Mosaad @mo.com, starts with mohamed_Mosaad  \n",
      " and your domain is mo.com\n",
      "Welcome MrMohamed Mosad , thanks for join our website\n"
     ]
    }
   ],
   "source": [
    "fname = input('What is your first name: ').strip().capitalize()\n",
    "sname = input('What is your second name: ').strip().capitalize()\n",
    "email = input('What is your email: ')\n",
    "\n",
    "print(f'Your account is {email}, starts with {email[0:email.index(\"@\")]} \\n and your domain is {email[email.index(\"@\") + 1:]}')\n",
    "print(f'Welcome Mr{fname} {sname} , thanks for join our website')"
   ]
  },
  {
   "cell_type": "markdown",
   "id": "f9cf2c31",
   "metadata": {},
   "source": [
    "# 2-practical"
   ]
  },
  {
   "cell_type": "code",
   "execution_count": 170,
   "id": "e2b74d7f",
   "metadata": {},
   "outputs": [
    {
     "name": "stdout",
     "output_type": "stream",
     "text": [
      "what is your age : 20\n",
      "your age is 20 \n",
      "  your lived 240 months \n",
      "   and you lived 7300 days  \n"
     ]
    }
   ],
   "source": [
    "#get info about age \n",
    "age=int(input('what is your age : '))\n",
    "\n",
    "#get age in all time months, weeks , days \n",
    "months =age*12 \n",
    "weeks=months *4\n",
    "days=age*365\n",
    "\n",
    "#print \n",
    "print(f\"your age is {age} \\n  your lived {months} months \\n   and you lived {days} days  \")"
   ]
  },
  {
   "cell_type": "markdown",
   "id": "479fafc6",
   "metadata": {},
   "source": [
    "# 3-practical "
   ]
  },
  {
   "cell_type": "code",
   "execution_count": 172,
   "id": "f67be4ee",
   "metadata": {},
   "outputs": [
    {
     "name": "stdout",
     "output_type": "stream",
     "text": [
      "what's your age? 22\n",
      "plz enter your time unite months, weeks , days: weeks\n",
      "2640\n"
     ]
    }
   ],
   "source": [
    "# make user choose from options \n",
    "age=int(input('what\\'s your age? ').strip())\n",
    "\n",
    "#collect time unit data \n",
    "unite=input(\"plz enter your time unite months, weeks , days: \") .strip().lower()\n",
    "\n",
    "#condition using if \n",
    "\n",
    "if unite =='months' or unite == 'm':\n",
    "    months =age*12 \n",
    "    print(f\"your lived {months} months\")\n",
    "elif unite =='days':\n",
    "    days=age*365\n",
    "    print(f\"your lived {days} days \")\n",
    "elif unite == 'weeks':\n",
    "    weeks=age*30*4\n",
    "    print(weeks)\n",
    "else: \n",
    "    print(\"your enter is wrong \")\n",
    "    \n"
   ]
  },
  {
   "cell_type": "markdown",
   "id": "a75a60ae",
   "metadata": {},
   "source": [
    "# 4-membershipe control practical "
   ]
  },
  {
   "cell_type": "code",
   "execution_count": 173,
   "id": "3bad6e68",
   "metadata": {},
   "outputs": [
    {
     "name": "stdout",
     "output_type": "stream",
     "text": [
      "Please enter your name: mohamed\n",
      "Welcome back Mohamed\n",
      "Do you want to update or delete your name? U\n",
      "Please enter new name: MOSAAD \n",
      "Your new name is updated to Mosaad\n",
      "['Mosaad', 'Mosaad', 'Hassan', 'Hydia']\n"
     ]
    }
   ],
   "source": [
    "# admins list \n",
    "admins = ['Mohamed', 'Mosaad', 'Hassan', 'Hydia']\n",
    "\n",
    "# user name as input \n",
    "name = input('Please enter your name: ').strip().capitalize()\n",
    "\n",
    "if name in admins: \n",
    "    print(f'Welcome back {name}')\n",
    "    option = input('Do you want to update or delete your name? ').strip().capitalize()\n",
    "\n",
    "    # update condition\n",
    "    if option == 'Update' or option == 'U': \n",
    "        thenewname = input('Please enter new name: ').strip().capitalize()\n",
    "        print(f'Your new name is updated to {thenewname}')\n",
    "        admins[admins.index(name)] = thenewname\n",
    "        print(admins)\n",
    "\n",
    "    # delete condition  \n",
    "    elif option == 'Delete' or option == 'D': \n",
    "        admins.remove(name)\n",
    "        print(f'Your name has been deleted. Updated admins list: {admins}')\n",
    "\n",
    "    # wrong option  \n",
    "    else: \n",
    "        print('Invalid option')\n",
    "\n",
    "else: \n",
    "    print('You are not an admin.')\n",
    "    state = input('Do you want to be added as an admin? (Y or N) ').strip().capitalize()\n",
    "    \n",
    "    if state == \"Yes\" or state == \"Y\": \n",
    "        admins.append(name)\n",
    "        print(\"You are now an admin:\", admins)\n",
    "        print(\"Numbers of admins \",len(admins))\n",
    "    else: \n",
    "        print(\"You were not added as an admin.\")\n"
   ]
  },
  {
   "cell_type": "markdown",
   "id": "a3531faa",
   "metadata": {},
   "source": [
    "# 5-practial simple password guess "
   ]
  },
  {
   "cell_type": "code",
   "execution_count": 174,
   "id": "4dfe6327",
   "metadata": {},
   "outputs": [
    {
     "name": "stdout",
     "output_type": "stream",
     "text": [
      "entre your password : mo@123\n",
      "Filed\n",
      "your tries left 4\n",
      "entre your password : mo@213\n",
      "Filed\n",
      "your tries left 3\n",
      "entre your password : 123@mo\n"
     ]
    }
   ],
   "source": [
    "#num of tries\n",
    "tries=5 \n",
    "Password ='123@mo'\n",
    "input_pass=input(\"entre your password : \")\n",
    "\n",
    "\n",
    "#passed \n",
    "if Password==input_pass: \n",
    "        print (\"welcome back \")\n",
    "        \n",
    "        \n",
    "#failed  \n",
    "while Password != input_pass : \n",
    "    print(\"Filed\")\n",
    "    tries =tries-1\n",
    "    print(f\"your tries left {'Last' if tries==0 else tries}\") \n",
    "    input_pass=input(\"entre your password : \")\n",
    "    \n",
    "#number of tries\n",
    "    if tries==1 :\n",
    "        print(\"you cant entry, try again after 5 min\")\n",
    "        break\n",
    "    "
   ]
  },
  {
   "cell_type": "markdown",
   "id": "639a91d4",
   "metadata": {},
   "source": [
    "#### "
   ]
  },
  {
   "cell_type": "markdown",
   "id": "96a13b2a",
   "metadata": {},
   "source": [
    "# "
   ]
  },
  {
   "cell_type": "markdown",
   "id": "82df8074",
   "metadata": {},
   "source": [
    "# "
   ]
  },
  {
   "cell_type": "code",
   "execution_count": 175,
   "id": "4acee398",
   "metadata": {},
   "outputs": [
    {
     "name": "stdout",
     "output_type": "stream",
     "text": [
      "Enter your password: ········\n",
      "Welcome back\n"
     ]
    }
   ],
   "source": [
    "#getpass is library make Password hide \n",
    "import getpass\n",
    "\n",
    "tries = 5\n",
    "Password = '123@mo'\n",
    "input_pass = getpass.getpass(\"Enter your password: \")\n",
    "\n",
    "# passed\n",
    "if Password == input_pass:\n",
    "    print(\"Welcome back\")\n",
    "\n",
    "# failed\n",
    "while Password != input_pass:\n",
    "    print(\"Failed\")\n",
    "    tries = tries -1\n",
    "    print(f'Your tries left: {tries}')\n",
    "        \n",
    "    # number of tries\n",
    "    if tries == 1:\n",
    "        print(\"You can't enter, try again after 5 minutes.\")\n",
    "        break\n"
   ]
  },
  {
   "cell_type": "markdown",
   "id": "7faf3eda",
   "metadata": {},
   "source": [
    "# "
   ]
  },
  {
   "cell_type": "markdown",
   "id": "79bc31b5",
   "metadata": {},
   "source": [
    "# "
   ]
  },
  {
   "cell_type": "markdown",
   "id": "b1f6f8f0",
   "metadata": {},
   "source": [
    "# "
   ]
  },
  {
   "cell_type": "markdown",
   "id": "0fa79702",
   "metadata": {},
   "source": [
    "# file handling"
   ]
  },
  {
   "cell_type": "markdown",
   "id": "f94ffe4a",
   "metadata": {},
   "source": [
    "The four primary functions used for file handling in Python are: \n",
    "\n",
    "\n",
    " open()  : Opens a file and returns a file object. \n",
    " \n",
    " read()  : Reads data from a file. \n",
    " \n",
    " write()  : Writes data to a file. \n",
    " \n",
    " close()  : Closes the file, releasing its resources. \n",
    " "
   ]
  },
  {
   "cell_type": "code",
   "execution_count": 176,
   "id": "a2e37df1",
   "metadata": {},
   "outputs": [
    {
     "name": "stdout",
     "output_type": "stream",
     "text": [
      "C:\\Users\\PC\\pythons\n"
     ]
    }
   ],
   "source": [
    "# to get current working directory \n",
    "import os \n",
    "print(os.getcwd())"
   ]
  },
  {
   "cell_type": "raw",
   "id": "24ef42f9",
   "metadata": {},
   "source": [
    "# file =open(\"C:\\Users\\PC\\pythons\\nfile\")-----> error cuz \\n \n",
    "# so we can handle this error by \n",
    "file =open(r\"C:\\Users\\PC\\pythons\\nfile\")"
   ]
  },
  {
   "cell_type": "code",
   "execution_count": 189,
   "id": "97666a1e",
   "metadata": {},
   "outputs": [
    {
     "name": "stdout",
     "output_type": "stream",
     "text": [
      "<_io.TextIOWrapper name='C:\\\\Users\\\\PC\\\\OneDrive\\\\Desktop\\\\GIThub.txt' mode='r' encoding='cp1252'>\n",
      "C:\\Users\\PC\\OneDrive\\Desktop\\GIThub.txt\n",
      "r\n"
     ]
    }
   ],
   "source": [
    "my_file=open(r\"C:\\Users\\PC\\OneDrive\\Desktop\\GIThub.txt\",\"r\")\n",
    "print(my_file)\n",
    "print(my_file.name)\n",
    "print(my_file.mode)"
   ]
  },
  {
   "cell_type": "code",
   "execution_count": null,
   "id": "2594a029",
   "metadata": {},
   "outputs": [],
   "source": []
  },
  {
   "cell_type": "code",
   "execution_count": null,
   "id": "b2c45de7",
   "metadata": {},
   "outputs": [],
   "source": [
    "# a file named \"geek\", will be opened with the reading mode.\n",
    "file = open('geek.txt', 'r')\n",
    "\n",
    "# This will print every line one by one in the file\n",
    "for each in file:\n",
    "    print (each)\n",
    "\n",
    "    \n",
    "#output\n",
    "Hello world\n",
    "GeeksforGeeks\n",
    "123 456"
   ]
  },
  {
   "cell_type": "markdown",
   "id": "592459a7",
   "metadata": {},
   "source": [
    "# With"
   ]
  },
  {
   "cell_type": "code",
   "execution_count": null,
   "id": "3d12a0e3",
   "metadata": {},
   "outputs": [],
   "source": [
    "with open('example.txt', 'r') as file:\n",
    "    content = file.read()\n",
    "# The file is automatically closed after the with block is exited."
   ]
  },
  {
   "cell_type": "code",
   "execution_count": null,
   "id": "78b317b1",
   "metadata": {},
   "outputs": [],
   "source": [
    "# Python code to illustrate with()\n",
    "with open(\"geeks.txt\") as file:  \n",
    "    data = file.read() \n",
    "\n",
    "print(data)\n",
    "\n",
    "\n",
    "#output\n",
    "Hello world\n",
    "GeeksforGeeks\n",
    "123 456"
   ]
  },
  {
   "cell_type": "code",
   "execution_count": null,
   "id": "91e89d23",
   "metadata": {},
   "outputs": [],
   "source": [
    "# Python code to illustrate split() function\n",
    "with open(\"geeks.txt\", \"r\") as file:\n",
    "    data = file.readlines()\n",
    "    for line in data:\n",
    "        word = line.split()\n",
    "        print (word)\n",
    "        \n",
    "        \n",
    "        \n",
    "#output\n",
    "['Hello', 'world']\n",
    "['GeeksforGeeks']\n",
    "['123', '456']"
   ]
  },
  {
   "cell_type": "markdown",
   "id": "6b4ceb61",
   "metadata": {},
   "source": [
    "# Implementing all the functions in File Handling"
   ]
  },
  {
   "cell_type": "code",
   "execution_count": null,
   "id": "453711ee",
   "metadata": {},
   "outputs": [],
   "source": [
    "import os\n",
    "\n",
    "def create_file(filename):\n",
    "    try:\n",
    "        with open(filename, 'w') as f:\n",
    "            f.write('Hello, world!\\n')\n",
    "        print(\"File \" + filename + \" created successfully.\")\n",
    "    except IOError:\n",
    "        print(\"Error: could not create file \" + filename)\n",
    "\n",
    "def read_file(filename):\n",
    "    try:\n",
    "        with open(filename, 'r') as f:\n",
    "            contents = f.read()\n",
    "            print(contents)\n",
    "    except IOError:\n",
    "        print(\"Error: could not read file \" + filename)\n",
    "\n",
    "def append_file(filename, text):\n",
    "    try:\n",
    "        with open(filename, 'a') as f:\n",
    "            f.write(text)\n",
    "        print(\"Text appended to file \" + filename + \" successfully.\")\n",
    "    except IOError:\n",
    "        print(\"Error: could not append to file \" + filename)\n",
    "\n",
    "def rename_file(filename, new_filename):\n",
    "    try:\n",
    "        os.rename(filename, new_filename)\n",
    "        print(\"File \" + filename + \" renamed to \" + new_filename + \" successfully.\")\n",
    "    except IOError:\n",
    "        print(\"Error: could not rename file \" + filename)\n",
    "\n",
    "def delete_file(filename):\n",
    "    try:\n",
    "        os.remove(filename)\n",
    "        print(\"File \" + filename + \" deleted successfully.\")\n",
    "    except IOError:\n",
    "        print(\"Error: could not delete file \" + filename)\n",
    "\n",
    "\n",
    "if __name__ == '__main__':\n",
    "    filename = \"example.txt\"\n",
    "    new_filename = \"new_example.txt\"\n",
    "\n",
    "    create_file(filename)\n",
    "    read_file(filename)\n",
    "    append_file(filename, \"This is some additional text.\\n\")\n",
    "    read_file(filename)\n",
    "    rename_file(filename, new_filename)\n",
    "    read_file(new_filename)\n",
    "    delete_file(new_filename)\n"
   ]
  },
  {
   "cell_type": "markdown",
   "id": "88107b6a",
   "metadata": {},
   "source": [
    "output"
   ]
  },
  {
   "cell_type": "raw",
   "id": "35f03656",
   "metadata": {},
   "source": [
    "File example.txt created successfully.\n",
    "Hello, world!\n",
    "Text appended to file example.txt successfully.\n",
    "Hello, world!\n",
    "This is some additional text.\n",
    "File example.txt renamed to new_example.txt successfully.\n",
    "Hello, world!\n",
    "This is some additional text.\n",
    "File new_example.txt deleted successfully."
   ]
  },
  {
   "cell_type": "markdown",
   "id": "abdd5996",
   "metadata": {},
   "source": [
    "# "
   ]
  },
  {
   "cell_type": "markdown",
   "id": "0e61ce89",
   "metadata": {},
   "source": [
    "# "
   ]
  },
  {
   "cell_type": "markdown",
   "id": "ff721839",
   "metadata": {},
   "source": [
    "# "
   ]
  },
  {
   "cell_type": "markdown",
   "id": "ed4ae0c3",
   "metadata": {},
   "source": [
    "# Built in functions"
   ]
  },
  {
   "cell_type": "raw",
   "id": "731c5dc7",
   "metadata": {},
   "source": [
    "Function\tDescription\n",
    "abs()\tReturns the absolute value of a number + positive numbers only \n",
    "\n",
    "all()\tReturns True if all items in an iterable object are true\n",
    "\n",
    "any()\tReturns True if any item in an iterable object is true\n",
    "\n",
    "ascii()\tReturns a readable version of an object. Replaces none-ascii characters with escape character\n",
    "\n",
    "bin()\tReturns the binary version of a number\n",
    "\n",
    "bool()\tReturns the boolean value of the specified object\n",
    "\n",
    "bytearray()\tReturns an array of bytes\n",
    "\n",
    "bytes()\tReturns a bytes object\n",
    "\n",
    "callable()\tReturns True if the specified object is callable, otherwise False\n",
    "\n",
    "chr()\tReturns a character from the specified Unicode code.\n",
    "\n",
    "classmethod()\tConverts a method into a class method\n",
    "\n",
    "compile()\tReturns the specified source as an object, ready to be executed\n",
    "\n",
    "complex()\tReturns a complex number\n",
    "\n",
    "delattr()\tDeletes the specified attribute (property or method) from the specified object\n",
    "\n",
    "dict()\tReturns a dictionary (Array)\n",
    "\n",
    "dir()\tReturns a list of the specified object's properties and methods\n",
    "\n",
    "divmod()\tReturns the quotient and the remainder when argument1 is divided by argument2\n",
    "\n",
    "enumerate()\tTakes a collection (e.g. a tuple) and returns it as an enumerate object\n",
    "\n",
    "eval()\tEvaluates and executes an expression\n",
    "\n",
    "exec()\tExecutes the specified code (or object)\n",
    "\n",
    "filter()\tUse a filter function to exclude items in an iterable object\n",
    "\n",
    "float()\tReturns a floating point number\n",
    "\n",
    "format()\tFormats a specified value\n",
    "\n",
    "frozenset()\tReturns a frozenset object\n",
    "\n",
    "getattr()\tReturns the value of the specified attribute (property or method)\n",
    "\n",
    "globals()\tReturns the current global symbol table as a dictionary\n",
    "\n",
    "hasattr()\tReturns True if the specified object has the specified attribute (property/method)\n",
    "\n",
    "hash()\tReturns the hash value of a specified object\n",
    "\n",
    "help()\tExecutes the built-in help system\n",
    "\n",
    "hex()\tConverts a number into a hexadecimal value\n",
    "\n",
    "id()\tReturns the id of an object\n",
    "\n",
    "input()\tAllowing user input\n",
    "\n",
    "int()\tReturns an integer number\n",
    "\n",
    "isinstance()\tReturns True if a specified object is an instance of a specified object\n",
    "\n",
    "issubclass()\tReturns True if a specified class is a subclass of a specified object\n",
    "\n",
    "iter()\tReturns an iterator object\n",
    "\n",
    "len()\tReturns the length of an object\n",
    "\n",
    "list()\tReturns a list\n",
    "\n",
    "locals()\tReturns an updated dictionary of the current local symbol table\n",
    "\n",
    "map()\tReturns the specified iterator with the specified function applied to each item | | map(function, iterables)\n",
    "\n",
    "max()\tReturns the largest item in an iterable\n",
    "\n",
    "memoryview()\tReturns a memory view object\n",
    "\n",
    "min()\tReturns the smallest item in an iterable\n",
    "\n",
    "next()\tReturns the next item in an iterable\n",
    "\n",
    "object()\tReturns a new object\n",
    "\n",
    "oct()\tConverts a number into an octal\n",
    "\n",
    "open()\tOpens a file and returns a file object\n",
    "\n",
    "ord()\tConvert an integer representing the Unicode of the specified character\n",
    "\n",
    "pow()\tReturns the value of x to the power of y | | pow(base,exp,mode)\n",
    "\n",
    "print()\tPrints to the standard output device\n",
    "\n",
    "property()\tGets, sets, deletes a property\n",
    "\n",
    "range()\tReturns a sequence of numbers, starting from 0 and increments by 1 (by default) | | range(start, end , step )\n",
    "\n",
    "repr()\tReturns a readable version of an object\n",
    "\n",
    "reversed()\tReturns a reversed iterator\n",
    "\n",
    "round()\tRounds a numbers\n",
    "\n",
    "set()\tReturns a new set object\n",
    "\n",
    "setattr()\tSets an attribute (property/method) of an object\n",
    "\n",
    "slice()\tReturns a slice object\n",
    "\n",
    "sorted()\tReturns a sorted list\n",
    "\n",
    "staticmethod()\tConverts a method into a static method\n",
    "\n",
    "str()\tReturns a string object\n",
    "\n",
    "sum()\tSums the items of an iterator\n",
    "\n",
    "super()\tReturns an object that represents the parent class\n",
    "\n",
    "tuple()\tReturns a tuple\n",
    "\n",
    "type()\tReturns the type of an object\n",
    "\n",
    "vars()\tReturns the __dict__ property of an object\n",
    "\n",
    "zip()\tReturns an iterator, from two or more [iterators ==> list ,dict,tuple,set] \n",
    "        if u want to loop on than 1 more iterables \n"
   ]
  },
  {
   "cell_type": "markdown",
   "id": "c5319d4b",
   "metadata": {},
   "source": [
    "# "
   ]
  },
  {
   "cell_type": "markdown",
   "id": "6028f40e",
   "metadata": {},
   "source": [
    "# "
   ]
  },
  {
   "cell_type": "markdown",
   "id": "9c02057f",
   "metadata": {},
   "source": [
    "# "
   ]
  },
  {
   "cell_type": "markdown",
   "id": "89f0ce97",
   "metadata": {},
   "source": [
    "# Modules"
   ]
  },
  {
   "cell_type": "code",
   "execution_count": 14,
   "id": "0f3f86c9",
   "metadata": {},
   "outputs": [
    {
     "name": "stdout",
     "output_type": "stream",
     "text": [
      "print random float num 0.5597559903178628\n"
     ]
    }
   ],
   "source": [
    "import random\n",
    "\n",
    "#random--->is module \n",
    "\n",
    "print(f\"print random float num {random.random()}\")\n",
    "# note  random module has method random   \n"
   ]
  },
  {
   "cell_type": "code",
   "execution_count": 15,
   "id": "96c7dcee",
   "metadata": {},
   "outputs": [
    {
     "name": "stdout",
     "output_type": "stream",
     "text": [
      "['BPF', 'LOG4', 'NV_MAGICCONST', 'RECIP_BPF', 'Random', 'SG_MAGICCONST', 'SystemRandom', 'TWOPI', '_Sequence', '_Set', '__all__', '__builtins__', '__cached__', '__doc__', '__file__', '__loader__', '__name__', '__package__', '__spec__', '_accumulate', '_acos', '_bisect', '_ceil', '_cos', '_e', '_exp', '_floor', '_inst', '_log', '_os', '_pi', '_random', '_repeat', '_sha512', '_sin', '_sqrt', '_test', '_test_generator', '_urandom', '_warn', 'betavariate', 'choice', 'choices', 'expovariate', 'gammavariate', 'gauss', 'getrandbits', 'getstate', 'lognormvariate', 'normalvariate', 'paretovariate', 'randbytes', 'randint', 'random', 'randrange', 'sample', 'seed', 'setstate', 'shuffle', 'triangular', 'uniform', 'vonmisesvariate', 'weibullvariate']\n"
     ]
    }
   ],
   "source": [
    "# i used built in function ((dir)) to show me all function in module random\n",
    "print(dir(random))"
   ]
  },
  {
   "cell_type": "code",
   "execution_count": 18,
   "id": "90ceb608",
   "metadata": {},
   "outputs": [],
   "source": [
    "#import function from module \n",
    "from random import randint , uniform ,_pi\n",
    "\n",
    "# random== module \n",
    "# randint, uniform, _pi  == function in this module \n",
    "\n"
   ]
  },
  {
   "cell_type": "markdown",
   "id": "19ad6687",
   "metadata": {},
   "source": [
    "# modules VS package "
   ]
  },
  {
   "cell_type": "markdown",
   "id": "6a3abd2a",
   "metadata": {},
   "source": [
    " ((module)): is a single file containing Python code"
   ]
  },
  {
   "cell_type": "markdown",
   "id": "61d8d87a",
   "metadata": {},
   "source": [
    "((package)): is a collection of modules that are organized in a directory hierarchy"
   ]
  },
  {
   "cell_type": "raw",
   "id": "117b5513",
   "metadata": {},
   "source": [
    "package ---> __init__.py \n",
    "\n",
    "module ---> name.py"
   ]
  },
  {
   "cell_type": "raw",
   "id": "e8d18f93",
   "metadata": {},
   "source": [
    "to download package we using  ----> pip install  \\\\\\\\\\    from website ----> pypi"
   ]
  },
  {
   "cell_type": "markdown",
   "id": "df2f3126",
   "metadata": {},
   "source": [
    "# Date"
   ]
  },
  {
   "cell_type": "code",
   "execution_count": 2,
   "id": "d39ce439",
   "metadata": {},
   "outputs": [
    {
     "name": "stdout",
     "output_type": "stream",
     "text": [
      "Collecting datetime\n",
      "  Downloading DateTime-5.5-py3-none-any.whl.metadata (33 kB)\n",
      "Requirement already satisfied: zope.interface in c:\\users\\pc\\anaconda3\\lib\\site-packages (from datetime) (5.4.0)\n",
      "Requirement already satisfied: pytz in c:\\users\\pc\\anaconda3\\lib\\site-packages (from datetime) (2023.3.post1)\n",
      "Requirement already satisfied: setuptools in c:\\users\\pc\\anaconda3\\lib\\site-packages (from zope.interface->datetime) (68.2.2)\n",
      "Downloading DateTime-5.5-py3-none-any.whl (52 kB)\n",
      "   ---------------------------------------- 0.0/52.6 kB ? eta -:--:--\n",
      "   ------------------------------- -------- 41.0/52.6 kB 653.6 kB/s eta 0:00:01\n",
      "   ---------------------------------------- 52.6/52.6 kB 902.3 kB/s eta 0:00:00\n",
      "Installing collected packages: datetime\n",
      "Successfully installed datetime-5.5\n",
      "Note: you may need to restart the kernel to use updated packages.\n"
     ]
    }
   ],
   "source": [
    "pip install datetime"
   ]
  },
  {
   "cell_type": "code",
   "execution_count": 2,
   "id": "f17c6b97",
   "metadata": {},
   "outputs": [],
   "source": [
    "import datetime"
   ]
  },
  {
   "cell_type": "code",
   "execution_count": 3,
   "id": "3d3499f7",
   "metadata": {},
   "outputs": [
    {
     "name": "stdout",
     "output_type": "stream",
     "text": [
      "['MAXYEAR', 'MINYEAR', '__all__', '__builtins__', '__cached__', '__doc__', '__file__', '__loader__', '__name__', '__package__', '__spec__', 'date', 'datetime', 'datetime_CAPI', 'sys', 'time', 'timedelta', 'timezone', 'tzinfo']\n"
     ]
    }
   ],
   "source": [
    "print(dir(datetime))"
   ]
  },
  {
   "cell_type": "code",
   "execution_count": 4,
   "id": "cedb8627",
   "metadata": {},
   "outputs": [
    {
     "name": "stdout",
     "output_type": "stream",
     "text": [
      "2002-01-20 00:00:00\n"
     ]
    }
   ],
   "source": [
    "MBD=datetime.datetime(2002,1,20)\n",
    "print(MBD)"
   ]
  },
  {
   "cell_type": "code",
   "execution_count": 6,
   "id": "970a00f8",
   "metadata": {},
   "outputs": [
    {
     "name": "stdout",
     "output_type": "stream",
     "text": [
      "['__add__', '__class__', '__delattr__', '__dir__', '__doc__', '__eq__', '__format__', '__ge__', '__getattribute__', '__gt__', '__hash__', '__init__', '__init_subclass__', '__le__', '__lt__', '__ne__', '__new__', '__radd__', '__reduce__', '__reduce_ex__', '__repr__', '__rsub__', '__setattr__', '__sizeof__', '__str__', '__sub__', '__subclasshook__', 'astimezone', 'combine', 'ctime', 'date', 'day', 'dst', 'fold', 'fromisocalendar', 'fromisoformat', 'fromordinal', 'fromtimestamp', 'hour', 'isocalendar', 'isoformat', 'isoweekday', 'max', 'microsecond', 'min', 'minute', 'month', 'now', 'replace', 'resolution', 'second', 'strftime', 'strptime', 'time', 'timestamp', 'timetuple', 'timetz', 'today', 'toordinal', 'tzinfo', 'tzname', 'utcfromtimestamp', 'utcnow', 'utcoffset', 'utctimetuple', 'weekday', 'year']\n"
     ]
    }
   ],
   "source": [
    "print(dir(datetime.datetime))"
   ]
  },
  {
   "cell_type": "code",
   "execution_count": 7,
   "id": "242abb6e",
   "metadata": {},
   "outputs": [
    {
     "name": "stdout",
     "output_type": "stream",
     "text": [
      "January\n"
     ]
    }
   ],
   "source": [
    "print(MBD.strftime(\"%B\"))"
   ]
  },
  {
   "cell_type": "code",
   "execution_count": 8,
   "id": "dfa6a5cf",
   "metadata": {},
   "outputs": [],
   "source": [
    "# this website for all time ⌚  parameters \n",
    "# https://strftime.org/\n",
    "# https://docs.python.org/3/library/datetime.html"
   ]
  },
  {
   "cell_type": "markdown",
   "id": "471b5977",
   "metadata": {},
   "source": [
    "# \n",
    "\n"
   ]
  },
  {
   "cell_type": "markdown",
   "id": "5a78ab40",
   "metadata": {},
   "source": [
    "# "
   ]
  },
  {
   "cell_type": "markdown",
   "id": "9369c053",
   "metadata": {},
   "source": [
    "# "
   ]
  },
  {
   "cell_type": "markdown",
   "id": "88c127fe",
   "metadata": {},
   "source": [
    "# Iterable Vs Iterator"
   ]
  },
  {
   "cell_type": "code",
   "execution_count": null,
   "id": "0bfabbba",
   "metadata": {},
   "outputs": [],
   "source": []
  },
  {
   "cell_type": "raw",
   "id": "547cfb0b",
   "metadata": {},
   "source": [
    "An Iterable is any Python object capable of returning its members one at a time, which allows it to be looped over in a for loop or by other iteration contexts. The key feature of an iterable is that it implements the __iter__() method, which returns an Iterator.\n",
    "\n",
    "Examples of iterables: lists, tuples, sets, dictionaries, strings, etc."
   ]
  },
  {
   "cell_type": "code",
   "execution_count": 9,
   "id": "d613f684",
   "metadata": {},
   "outputs": [
    {
     "name": "stdout",
     "output_type": "stream",
     "text": [
      "1\n",
      "2\n",
      "3\n",
      "4\n"
     ]
    }
   ],
   "source": [
    "# Example of an iterable\n",
    "my_list = [1, 2, 3, 4]\n",
    "for element in my_list:\n",
    "    print(element)\n",
    "    \n",
    "# my_list is an Iterable, and we can loop through it using a for loop.\n"
   ]
  },
  {
   "cell_type": "raw",
   "id": "25275c87",
   "metadata": {},
   "source": [
    "An Iterator is an object that represents a stream of data, which can be iterated (looped) over. It keeps track of its current position. An iterator object must implement two methods:\n",
    "\n",
    "__iter__(): Returns the iterator object itself.\n",
    "__next__(): Returns the next item from the stream. When there are no more items to return, it raises the \n",
    "            ** StopIteration exception**."
   ]
  },
  {
   "cell_type": "code",
   "execution_count": 11,
   "id": "4e917b88",
   "metadata": {},
   "outputs": [
    {
     "name": "stdout",
     "output_type": "stream",
     "text": [
      "1\n",
      "2\n",
      "3\n"
     ]
    }
   ],
   "source": [
    "# Example of an iterator\n",
    "my_list = [1, 2, 3]\n",
    "my_iterator = iter(my_list)  #  iterator تحويل القائمة إلى\n",
    "\n",
    "print(next(my_iterator))  # طباعة العنصر الأول\n",
    "print(next(my_iterator))  # طباعة العنصر الثاني\n",
    "print(next(my_iterator))  # طباعة العنصر الثالث\n",
    "\n",
    "\n",
    "#In this example, my_iterator is the Iterator of the list my_list, and next() retrieves elements one by one."
   ]
  },
  {
   "cell_type": "markdown",
   "id": "c4fe94a0",
   "metadata": {},
   "source": [
    "# "
   ]
  },
  {
   "cell_type": "markdown",
   "id": "c0ba3c18",
   "metadata": {},
   "source": [
    "# "
   ]
  },
  {
   "cell_type": "markdown",
   "id": "f00fa868",
   "metadata": {},
   "source": [
    "# "
   ]
  },
  {
   "cell_type": "markdown",
   "id": "12689d74",
   "metadata": {},
   "source": [
    "# Generator Function"
   ]
  },
  {
   "cell_type": "raw",
   "id": "654b75d2",
   "metadata": {},
   "source": [
    "A Generator in Python is a function that returns an iterator using the Yield keyword.\n",
    "Iterator ----> ارجاع متكرر و بيقف لوحده لما الداله بتخلص "
   ]
  },
  {
   "cell_type": "code",
   "execution_count": 12,
   "id": "65c76df5",
   "metadata": {},
   "outputs": [],
   "source": [
    "def function_name():\n",
    "    yield statement "
   ]
  },
  {
   "cell_type": "code",
   "execution_count": 13,
   "id": "ad444403",
   "metadata": {},
   "outputs": [
    {
     "name": "stdout",
     "output_type": "stream",
     "text": [
      "1\n",
      "2\n",
      "3\n"
     ]
    }
   ],
   "source": [
    "# A generator function that yields 1 for first time,\n",
    "# 2 second time and 3 third time\n",
    "def simpleGeneratorFun():\n",
    "    yield 1            \n",
    "    yield 2            \n",
    "    yield 3            \n",
    " \n",
    "# Driver code to check above generator function\n",
    "for value in simpleGeneratorFun(): \n",
    "    print(value)\n"
   ]
  },
  {
   "cell_type": "code",
   "execution_count": 14,
   "id": "efa21071",
   "metadata": {},
   "outputs": [
    {
     "name": "stdout",
     "output_type": "stream",
     "text": [
      "1\n",
      "1\n",
      "2\n",
      "3\n",
      "5\n",
      "8\n",
      "13\n",
      "21\n",
      "34\n",
      "55\n",
      "89\n",
      "144\n"
     ]
    }
   ],
   "source": [
    "def fib(limit):\n",
    "    a, b = 0, 1\n",
    "    while b < limit:\n",
    "        yield b\n",
    "        a, b = b, a + b\n",
    "\n",
    "# Create a generator object\n",
    "x = fib(200)\n",
    "\n",
    "# Iterate over the generator object and print each value\n",
    "for i in x:\n",
    "    print(i)\n"
   ]
  },
  {
   "cell_type": "markdown",
   "id": "1a82b21f",
   "metadata": {},
   "source": [
    "# "
   ]
  },
  {
   "cell_type": "markdown",
   "id": "cd4d956f",
   "metadata": {},
   "source": [
    "# \n"
   ]
  },
  {
   "cell_type": "markdown",
   "id": "e67be778",
   "metadata": {},
   "source": [
    "# "
   ]
  },
  {
   "cell_type": "markdown",
   "id": "1b5628ca",
   "metadata": {},
   "source": [
    "# Decorators in Python"
   ]
  },
  {
   "cell_type": "markdown",
   "id": "c31a907f",
   "metadata": {},
   "source": [
    " Decorators in Python allow us to create  functions inside of another function and we can returned the function created inside"
   ]
  },
  {
   "cell_type": "code",
   "execution_count": 4,
   "id": "0c447551",
   "metadata": {},
   "outputs": [],
   "source": [
    " # we have created a function inside of another function and then have returned the function created inside."
   ]
  },
  {
   "cell_type": "markdown",
   "id": "c29f5b9d",
   "metadata": {},
   "source": [
    "\n",
    "[1] Sometimes Called Meta Programming in another progrramming language \n",
    "\n",
    "[2] Everything in Python is Object Even Functions\n",
    "\n",
    "[3] Decorator Take A Function and Add Some Functionality and Return It\n",
    "\n",
    "[4] Decorator Wrap Other Function and Enhance Their Behaviour\n",
    "\n",
    "[5] Decorator is Higher Order Function (Function Accept Function As Parameter)A function is an instance of the Object type.\n",
    "\n",
    "You can store the function in a variable.\n",
    "\n",
    "You can pass the function as a parameter to another function.\n",
    "\n",
    "You can return the function from a function.\n",
    "\n",
    "You can store them in data structures such as hash tables, lists, …"
   ]
  },
  {
   "cell_type": "code",
   "execution_count": 42,
   "id": "a257812b",
   "metadata": {},
   "outputs": [
    {
     "name": "stdout",
     "output_type": "stream",
     "text": [
      "Before\n",
      "Hello From Say Hello Function\n",
      "After\n"
     ]
    }
   ],
   "source": [
    "def myDecorator(func):  # Decorator\n",
    "\n",
    "  def nestedFunc():  # Any Name Its Just For Decoration\n",
    "\n",
    "    print(\"Before\")  # Message From Decorator\n",
    "\n",
    "    func()  # Execute Function\n",
    "\n",
    "    print(\"After\")  # Message From Decorator\n",
    "\n",
    "  return nestedFunc  # Return All Data\n",
    "\n",
    "@myDecorator\n",
    "\n",
    "def sayHello():\n",
    "\n",
    "  print(\"Hello From Say Hello Function\")\n",
    "\n",
    "sayHello()\n",
    "\n",
    "\n",
    "#we can use this way also.   \n",
    "# afterDecoration = myDecorator(sayHello)\n",
    "# afterDecoration() "
   ]
  },
  {
   "cell_type": "code",
   "execution_count": 1,
   "id": "9451fe0e",
   "metadata": {},
   "outputs": [
    {
     "name": "stdout",
     "output_type": "stream",
     "text": [
      "HI, I AM CREATED BY A FUNCTION PASSED AS AN ARGUMENT.\n",
      "hi, i am created by a function passed as an argument.\n"
     ]
    }
   ],
   "source": [
    "# Python program to illustrate functions \n",
    "# can be passed as arguments to other functions \n",
    "def shout(text): \n",
    "    return text.upper() \n",
    "\n",
    "def whisper(text): \n",
    "    return text.lower() \n",
    "\n",
    "def greet(func): \n",
    "    # storing the function in a variable \n",
    "    greeting = func(\"\"\"Hi, I am created by a function passed as an argument.\"\"\") \n",
    "    print (greeting) \n",
    "\n",
    "greet(shout) \n",
    "greet(whisper) \n",
    "\n",
    "\n",
    "\n",
    "\n",
    "# the greet function takes another function as a parameter (shout and whisper in this case).\n",
    "# The function passed as an argument is then called inside the function greet."
   ]
  },
  {
   "cell_type": "code",
   "execution_count": 2,
   "id": "cc5681ae",
   "metadata": {},
   "outputs": [
    {
     "name": "stdout",
     "output_type": "stream",
     "text": [
      "25\n"
     ]
    }
   ],
   "source": [
    "# Python program to illustrate functions \n",
    "# Functions can return another function \n",
    "\n",
    "def create_adder(x): \n",
    "    def adder(y): \n",
    "        return x+y \n",
    "\n",
    "    return adder \n",
    "\n",
    "add_15 = create_adder(15) \n",
    "\n",
    "print(add_15(10)) \n"
   ]
  },
  {
   "cell_type": "markdown",
   "id": "db7aad34",
   "metadata": {},
   "source": [
    "# syntax decorators "
   ]
  },
  {
   "cell_type": "code",
   "execution_count": 5,
   "id": "b4622962",
   "metadata": {},
   "outputs": [
    {
     "name": "stdout",
     "output_type": "stream",
     "text": [
      "Something before the function runs\n",
      "Hello!\n",
      "Something after the function runs\n"
     ]
    }
   ],
   "source": [
    "def my_deco(func):\n",
    "    def wrapper():\n",
    "        print(\"Something before the function runs\")\n",
    "        func()\n",
    "        print(\"Something after the function runs\")\n",
    "    return wrapper\n",
    "\n",
    "@my_deco\n",
    "def say_hello():\n",
    "    print(\"Hello!\")\n",
    "\n",
    "# Call the function\n",
    "say_hello()\n"
   ]
  },
  {
   "cell_type": "markdown",
   "id": "1d8abd22",
   "metadata": {},
   "source": [
    "# Decorators with Arguments"
   ]
  },
  {
   "cell_type": "code",
   "execution_count": 6,
   "id": "5c72e864",
   "metadata": {},
   "outputs": [
    {
     "name": "stdout",
     "output_type": "stream",
     "text": [
      "Hello Mohamed!\n",
      "Hello Mohamed!\n",
      "Hello Mohamed!\n"
     ]
    }
   ],
   "source": [
    "def repeat(num_times):\n",
    "    def decorator_repeat(func):\n",
    "        def wrapper(*args, **kwargs):\n",
    "            for _ in range(num_times):\n",
    "                func(*args, **kwargs)\n",
    "        return wrapper\n",
    "    return decorator_repeat\n",
    "\n",
    "@repeat(num_times=3)\n",
    "def greet(name):\n",
    "    print(f\"Hello {name}!\")\n",
    "\n",
    "greet(\"Mohamed\")\n"
   ]
  },
  {
   "cell_type": "raw",
   "id": "f46eba01",
   "metadata": {},
   "source": [
    "Use case for decorators : \n",
    "    1-Authentication & Authorization: Checking if a user is logged in before allowing access to a function.\n",
    "        2-Logging\n",
    "            3-Caching/Memoization"
   ]
  },
  {
   "cell_type": "markdown",
   "id": "2a2093f3",
   "metadata": {},
   "source": [
    "# Example_1"
   ]
  },
  {
   "cell_type": "code",
   "execution_count": 38,
   "id": "2452ee88",
   "metadata": {},
   "outputs": [
    {
     "name": "stdout",
     "output_type": "stream",
     "text": [
      "1\n",
      "2\n",
      "3\n",
      "4\n",
      "5\n",
      "6\n",
      "7\n",
      "8\n",
      "9\n",
      "10\n",
      "11\n",
      "12\n",
      "13\n",
      "14\n",
      "15\n",
      "16\n",
      "17\n",
      "18\n",
      "19\n",
      "20\n",
      "21\n",
      "22\n",
      "23\n",
      "24\n",
      "25\n",
      "26\n",
      "27\n",
      "28\n",
      "29\n",
      "30\n",
      "31\n",
      "32\n",
      "33\n",
      "34\n",
      "35\n",
      "36\n",
      "37\n",
      "38\n",
      "39\n",
      "40\n",
      "41\n",
      "42\n",
      "43\n",
      "44\n",
      "45\n",
      "46\n",
      "47\n",
      "48\n",
      "49\n",
      "50\n",
      "51\n",
      "52\n",
      "53\n",
      "54\n",
      "55\n",
      "56\n",
      "57\n",
      "58\n",
      "59\n",
      "60\n",
      "61\n",
      "62\n",
      "63\n",
      "64\n",
      "65\n",
      "66\n",
      "67\n",
      "68\n",
      "69\n",
      "70\n",
      "71\n",
      "72\n",
      "73\n",
      "74\n",
      "75\n",
      "76\n",
      "77\n",
      "78\n",
      "79\n",
      "80\n",
      "81\n",
      "82\n",
      "83\n",
      "84\n",
      "85\n",
      "86\n",
      "87\n",
      "88\n",
      "89\n",
      "90\n",
      "91\n",
      "92\n",
      "93\n",
      "94\n",
      "95\n",
      "96\n",
      "97\n",
      "98\n",
      "99\n",
      "100\n",
      "101\n",
      "102\n",
      "103\n",
      "104\n",
      "105\n",
      "106\n",
      "107\n",
      "108\n",
      "109\n",
      "110\n",
      "111\n",
      "112\n",
      "113\n",
      "114\n",
      "115\n",
      "116\n",
      "117\n",
      "118\n",
      "119\n",
      "120\n",
      "121\n",
      "122\n",
      "123\n",
      "124\n",
      "125\n",
      "126\n",
      "127\n",
      "128\n",
      "129\n",
      "130\n",
      "131\n",
      "132\n",
      "133\n",
      "134\n",
      "135\n",
      "136\n",
      "137\n",
      "138\n",
      "139\n",
      "140\n",
      "141\n",
      "142\n",
      "143\n",
      "144\n",
      "145\n",
      "146\n",
      "147\n",
      "148\n",
      "149\n",
      "150\n",
      "151\n",
      "152\n",
      "153\n",
      "154\n",
      "155\n",
      "156\n",
      "157\n",
      "158\n",
      "159\n",
      "160\n",
      "161\n",
      "162\n",
      "163\n",
      "164\n",
      "165\n",
      "166\n",
      "167\n",
      "168\n",
      "169\n",
      "170\n",
      "171\n",
      "172\n",
      "173\n",
      "174\n",
      "175\n",
      "176\n",
      "177\n",
      "178\n",
      "179\n",
      "180\n",
      "181\n",
      "182\n",
      "183\n",
      "184\n",
      "185\n",
      "186\n",
      "187\n",
      "188\n",
      "189\n",
      "190\n",
      "191\n",
      "192\n",
      "193\n",
      "194\n",
      "195\n",
      "196\n",
      "197\n",
      "198\n",
      "199\n",
      "200\n",
      "201\n",
      "202\n",
      "203\n",
      "204\n",
      "205\n",
      "206\n",
      "207\n",
      "208\n",
      "209\n",
      "210\n",
      "211\n",
      "212\n",
      "213\n",
      "214\n",
      "215\n",
      "216\n",
      "217\n",
      "218\n",
      "219\n",
      "220\n",
      "221\n",
      "222\n",
      "223\n",
      "224\n",
      "225\n",
      "226\n",
      "227\n",
      "228\n",
      "229\n",
      "230\n",
      "231\n",
      "232\n",
      "233\n",
      "234\n",
      "235\n",
      "236\n",
      "237\n",
      "238\n",
      "239\n",
      "240\n",
      "241\n",
      "242\n",
      "243\n",
      "244\n",
      "245\n",
      "246\n",
      "247\n",
      "248\n",
      "249\n",
      "250\n",
      "251\n",
      "252\n",
      "253\n",
      "254\n",
      "255\n",
      "256\n",
      "257\n",
      "258\n",
      "259\n",
      "260\n",
      "261\n",
      "262\n",
      "263\n",
      "264\n",
      "265\n",
      "266\n",
      "267\n",
      "268\n",
      "269\n",
      "270\n",
      "271\n",
      "272\n",
      "273\n",
      "274\n",
      "275\n",
      "276\n",
      "277\n",
      "278\n",
      "279\n",
      "280\n",
      "281\n",
      "282\n",
      "283\n",
      "284\n",
      "285\n",
      "286\n",
      "287\n",
      "288\n",
      "289\n",
      "290\n",
      "291\n",
      "292\n",
      "293\n",
      "294\n",
      "295\n",
      "296\n",
      "297\n",
      "298\n",
      "299\n",
      "300\n",
      "301\n",
      "302\n",
      "303\n",
      "304\n",
      "305\n",
      "306\n",
      "307\n",
      "308\n",
      "309\n",
      "310\n",
      "311\n",
      "312\n",
      "313\n",
      "314\n",
      "315\n",
      "316\n",
      "317\n",
      "318\n",
      "319\n",
      "320\n",
      "321\n",
      "322\n",
      "323\n",
      "324\n",
      "325\n",
      "326\n",
      "327\n",
      "328\n",
      "329\n",
      "Running time is: 0.000997304916381836\n"
     ]
    }
   ],
   "source": [
    "from time import time  \n",
    "\n",
    "\n",
    "def speedtime (func): \n",
    "    def wrapper():\n",
    "        \n",
    "        start=time()\n",
    "        \n",
    "        func()\n",
    "        \n",
    "        end=time()\n",
    "        \n",
    "        print(f\"Running time is: {end - start}\")\n",
    "    return wrapper \n",
    "\n",
    "@speedtime\n",
    "def _loop() :\n",
    "    for number in range(1,330): \n",
    "        print(number)\n",
    "        \n",
    "\n",
    "_loop()      "
   ]
  },
  {
   "cell_type": "markdown",
   "id": "b487aa71",
   "metadata": {},
   "source": [
    "# Property Decorator \n",
    "\n",
    "property decorator make function as attributes when we call it , so we can deal with function as variable  "
   ]
  },
  {
   "cell_type": "code",
   "execution_count": 44,
   "id": "91f6e06d",
   "metadata": {},
   "outputs": [
    {
     "name": "stdout",
     "output_type": "stream",
     "text": [
      "Ahmed\n",
      "40\n",
      "Hello Ahmed\n",
      "14600\n"
     ]
    }
   ],
   "source": [
    "class Member:\n",
    "\n",
    "  def __init__(self, name, age):\n",
    "\n",
    "    self.name = name\n",
    "\n",
    "    self.age = age\n",
    "\n",
    "  def say_hello(self):\n",
    "\n",
    "    return f\"Hello {self.name}\"\n",
    "\n",
    "  @property  \n",
    "  def age_in_days(self):\n",
    "\n",
    "    return self.age * 365\n",
    "\n",
    "one = Member(\"Ahmed\", 40)\n",
    "\n",
    "print(one.name)\n",
    "print(one.age)\n",
    "print(one.say_hello()) #==> calling \n",
    "\n",
    "\n",
    "# print(one.age_in_days()) here we call function as functtion (method)\n",
    "print(one.age_in_days) #==> here we call function as attribute "
   ]
  },
  {
   "cell_type": "markdown",
   "id": "589b98cb",
   "metadata": {},
   "source": [
    "# "
   ]
  },
  {
   "cell_type": "markdown",
   "id": "afb8b353",
   "metadata": {},
   "source": [
    "# "
   ]
  },
  {
   "cell_type": "markdown",
   "id": "1a685f8d",
   "metadata": {},
   "source": [
    "# "
   ]
  },
  {
   "cell_type": "markdown",
   "id": "ebc3f8ff",
   "metadata": {},
   "source": [
    "# Exceptions [ try , except, else, finally]"
   ]
  },
  {
   "cell_type": "markdown",
   "id": "cf4cfa13",
   "metadata": {},
   "source": [
    "Exception:is run time error ,exceptions are raised when an error occurs during the execution of a program\n",
    "           \n",
    "\n",
    "Traceback: giving you line , that line something wrong with it  "
   ]
  },
  {
   "cell_type": "code",
   "execution_count": 14,
   "id": "a3313e94",
   "metadata": {},
   "outputs": [],
   "source": [
    "# https://docs.python.org/3/library/exceptions.html"
   ]
  },
  {
   "cell_type": "code",
   "execution_count": 15,
   "id": "3ffb5a8c",
   "metadata": {},
   "outputs": [
    {
     "name": "stdout",
     "output_type": "stream",
     "text": [
      "Error occurred: Cannot divide by zero!\n"
     ]
    }
   ],
   "source": [
    "# You can raise exceptions manually using the raise keyword.\n",
    "\n",
    "def divide(a, b):\n",
    "    if b == 0:\n",
    "        raise ValueError(\"Cannot divide by zero!\")\n",
    "    return a / b\n",
    "\n",
    "try:\n",
    "    result = divide(10, 0)\n",
    "except ValueError as e:\n",
    "    print(f\"Error occurred: {e}\")\n"
   ]
  },
  {
   "cell_type": "code",
   "execution_count": 30,
   "id": "6f74078f",
   "metadata": {},
   "outputs": [
    {
     "name": "stdout",
     "output_type": "stream",
     "text": [
      "Type Error: Only integers are allowed\n",
      "\n",
      "whatever happened \n"
     ]
    }
   ],
   "source": [
    "#Raising Multiple Exceptions\n",
    "def check_value(value):\n",
    "    if not isinstance(value, int):\n",
    "        raise TypeError(\"Only integers are allowed\")\n",
    "    if value < 0:\n",
    "        raise ValueError(\"Negative values are not allowed\")\n",
    "        \n",
    "        \n",
    "        \n",
    "        \n",
    "        \n",
    "\"\"\"\n",
    "try   : try the code and test errors \n",
    "\n",
    "except: handle the code \n",
    "\n",
    "\"\"\"\n",
    "\n",
    "try:\n",
    "    check_value(\"test\")\n",
    "except TypeError as e: #The ((as e))  syntax allows you to access the exception object and its attributes.\n",
    "    print(f\"Type Error: {e}\")\n",
    "except ValueError as e:\n",
    "    print(f\"Value Error: {e}\")\n",
    "else: \n",
    "    print('nothing wrong')\n",
    "finally: #print in all time \n",
    "    print(\"\\nwhatever happened \")"
   ]
  },
  {
   "cell_type": "markdown",
   "id": "d17537ad",
   "metadata": {},
   "source": [
    "# "
   ]
  },
  {
   "cell_type": "markdown",
   "id": "b14e3af5",
   "metadata": {},
   "source": [
    "# "
   ]
  },
  {
   "cell_type": "markdown",
   "id": "e25055f4",
   "metadata": {},
   "source": [
    "# "
   ]
  },
  {
   "cell_type": "markdown",
   "id": "28e0440a",
   "metadata": {},
   "source": [
    "# Debugging  code : identifying and resolving errors or bugs in your code."
   ]
  },
  {
   "cell_type": "raw",
   "id": "9d9e93e1",
   "metadata": {},
   "source": [
    "Debugging in Python involves identifying and resolving errors or bugs in your code. One efficient technique is using concurrency for tasks that can be run in parallel, such as fetching data from multiple APIs, processing files, or handling multiple user requests. When working with concurrency, debugging becomes slightly more complex due to potential issues like race conditions. You can manage these with threads and locks."
   ]
  },
  {
   "cell_type": "markdown",
   "id": "1e1a6331",
   "metadata": {},
   "source": [
    "# "
   ]
  },
  {
   "cell_type": "markdown",
   "id": "8e7e8921",
   "metadata": {},
   "source": [
    "# "
   ]
  },
  {
   "cell_type": "markdown",
   "id": "92e9afd9",
   "metadata": {},
   "source": [
    "# Type Hinting : \n",
    "Type hinting in Python allows you to indicate the expected types of variables\n",
    "\n",
    "helping improve code readability, debugging, and supporting"
   ]
  },
  {
   "cell_type": "code",
   "execution_count": 31,
   "id": "7e3b80b3",
   "metadata": {},
   "outputs": [],
   "source": [
    "#Variable Type Hinting:\n",
    "\n",
    "age: int = 25\n",
    "name: str = \"John\"\n",
    "is_active: bool = True\n",
    "scores: list = [85, 90, 92]\n"
   ]
  },
  {
   "cell_type": "code",
   "execution_count": 33,
   "id": "c3d78d0c",
   "metadata": {},
   "outputs": [],
   "source": [
    "#Function Type Hinting:\n",
    "\n",
    "def my_name(name) -> str : \n",
    "    return f\"Hello, {name}!\""
   ]
  },
  {
   "cell_type": "code",
   "execution_count": 34,
   "id": "1303528e",
   "metadata": {},
   "outputs": [],
   "source": [
    "#Hinting Multiple Argument Types\n",
    "\n",
    "def add(a: int, b: int) -> int:\n",
    "    return a + b\n"
   ]
  },
  {
   "cell_type": "code",
   "execution_count": 39,
   "id": "20d2cb39",
   "metadata": {},
   "outputs": [],
   "source": [
    "#Type Hinting for Lists, Tuples, Dicts (using typing module):\n",
    "\n",
    "from typing import List, Tuple, Dict\n",
    "\n",
    "def process_scores(scores: List[int]) -> float:\n",
    "    return sum(scores) / len(scores)\n",
    "\n",
    "def get_coordinates() -> Tuple[float, float]:\n",
    "    return 52.5163, 13.3777\n",
    "\n",
    "def get_user_info() -> Dict[str, int]:\n",
    "    return {\"John\": 28, \"Alice\": 30}\n"
   ]
  },
  {
   "cell_type": "code",
   "execution_count": 53,
   "id": "3dbf1173",
   "metadata": {},
   "outputs": [
    {
     "name": "stdout",
     "output_type": "stream",
     "text": [
      "[2.5, 5.0, 7.5]\n"
     ]
    }
   ],
   "source": [
    "# Type Aliases: You can define type aliases for more complex types to make the code clearer.\n",
    "from typing import List\n",
    "\n",
    "#list [float]  this is type hinting \n",
    "Vector = List[float]\n",
    "\n",
    "def scale_vector(scalar: float, vector: Vector) -> Vector:\n",
    "    \"\"\"Scales a vector by a scalar value.\n",
    "\n",
    "    Args:\n",
    "        scalar: The scalar value to multiply the vector by.\n",
    "        vector: The vector to be scaled.\n",
    "\n",
    "    Returns:\n",
    "        A new vector that is the result of scaling the input vector by the scalar.\n",
    "    \"\"\"\n",
    "    \n",
    "    return [scalar * num for num in vector]\n",
    "\n",
    "\n",
    "# Sample usage:\n",
    "scalar_value = 2.5\n",
    "input_vector = [1.0, 2.0, 3.0]\n",
    "\n",
    "scaled_vector = scale_vector(scalar_value, input_vector)\n",
    "print(scaled_vector)"
   ]
  },
  {
   "cell_type": "markdown",
   "id": "4d42df82",
   "metadata": {},
   "source": [
    "# More clarification"
   ]
  },
  {
   "cell_type": "code",
   "execution_count": 52,
   "id": "3e4a4e7c",
   "metadata": {},
   "outputs": [
    {
     "name": "stdout",
     "output_type": "stream",
     "text": [
      "[2.5, 5.0, 7.5]\n"
     ]
    }
   ],
   "source": [
    "#here Vector should be as list of  float values\n",
    "Vector = List[float]\n",
    "\n",
    "def scale_vector(scalar: float,  Vector):\n",
    "    \"\"\"Scales a vector by a scalar value.\n",
    "\n",
    "    Args:\n",
    "        scalar: The scalar value to multiply the vector by.\n",
    "        vector: The vector to be scaled.\n",
    "\n",
    "    Returns:\n",
    "        A new vector that is the result of scaling the input vector by the scalar.\n",
    "    \"\"\"\n",
    "    \n",
    "    return [scalar * num for num in Vector]\n",
    "# Sample usage:\n",
    "scalar_value = 2.5\n",
    "input_vector = [1.0, 2.0, 3.0]\n",
    "\n",
    "scaled_vector = scale_vector(scalar_value, input_vector)\n",
    "print(scaled_vector)"
   ]
  },
  {
   "cell_type": "markdown",
   "id": "23913c7b",
   "metadata": {},
   "source": [
    "# "
   ]
  },
  {
   "cell_type": "markdown",
   "id": "a82a3aa8",
   "metadata": {},
   "source": [
    "# "
   ]
  },
  {
   "cell_type": "markdown",
   "id": "481cd384",
   "metadata": {},
   "source": [
    "# "
   ]
  },
  {
   "cell_type": "markdown",
   "id": "512b8537",
   "metadata": {},
   "source": [
    "# OOP Python "
   ]
  },
  {
   "cell_type": "markdown",
   "id": "5da2d9ce",
   "metadata": {},
   "source": [
    "object oriented programming \n",
    "\n",
    "OOP Is A Paradigm Or Coding Style\n",
    "\n",
    "Python Classes/Objects\n",
    "\n",
    "Python is an object oriented programming language.\n",
    "\n",
    "Almost everything in Python is an object, with its properties and methods.\n",
    "\n",
    "A Class is like an object constructor, or a \"blueprint\" for creating objects.\n",
    "\n",
    "Classes are blueprints for creating objects that can hold data (attributes) and have specific functionality (methods)\n",
    "python\n",
    "\n",
    "def __init__: this is the constructor method. It's automatically called when an object is created from the class."
   ]
  },
  {
   "cell_type": "markdown",
   "id": "d5d880c6",
   "metadata": {},
   "source": [
    "##\n",
    "Key OOP Terms:\n",
    "\n",
    "\n",
    "Class: A blueprint for creating objects (instances).\n",
    "\n",
    "**Object: An instance of a class.**\n",
    "\n",
    "Method: A function defined inside a class that operates on the attributes of the object.\n",
    "\n",
    "Attributes: Variables that hold the data for the object."
   ]
  },
  {
   "cell_type": "markdown",
   "id": "2d4ad0c3",
   "metadata": {},
   "source": [
    "##\n",
    "**Type of OOP**\n",
    "\n",
    "    1-Inheritance\n",
    "    \n",
    "    2-Polymorphism\n",
    "    \n",
    "    4-Encapsulation\n",
    "    \n",
    "    3-Abstraction"
   ]
  },
  {
   "cell_type": "raw",
   "id": "db959588",
   "metadata": {},
   "source": [
    "[1]class instantiate means create instance of a class\n",
    "\n",
    "[2]instance => object created from class and have their method and attributes\n",
    "\n",
    "[3] class defined with keyword class\n",
    "\n",
    "[4] class name written with PascalCase  [UpperCamelCase] Style\n",
    "\n",
    "[5]Class may containe methods and Attribute \n",
    "\n",
    "[6]when we creating object python loof for the buit in {__init__} method\n",
    "\n",
    "[7]{__init__} method called every time you create object from class \n",
    "\n",
    "[8]{__init__} method is initialized the  data for the object \n",
    "\n",
    "[9] any method with 2 underscore in the start and end call dunder or magic method \n",
    "\n",
    "[10](self) refer to the current intance created from the class and must be first param\n",
    "\n",
    "[11](self) can be named anything \n",
    "\n",
    "\n",
    "[12]in python we dont need to call new() keyword to creat object "
   ]
  },
  {
   "cell_type": "markdown",
   "id": "5f563f2b",
   "metadata": {},
   "source": [
    "# Syntax Class and Implement "
   ]
  },
  {
   "cell_type": "raw",
   "id": "b9de2987",
   "metadata": {},
   "source": [
    "class name : \n",
    "    constructor => do instantiation [create instant from class ] \n",
    "    each instance is separate object \n",
    "    \n",
    "        def __init__(self,other data):\n",
    "            body function \n",
    "    "
   ]
  },
  {
   "cell_type": "code",
   "execution_count": null,
   "id": "12982295",
   "metadata": {},
   "outputs": [],
   "source": [
    "class member : \n",
    "    def __init__(self):\n",
    "        print('ooooo')"
   ]
  },
  {
   "cell_type": "markdown",
   "id": "470bd713",
   "metadata": {},
   "source": [
    "# Object Oriented Programming => Instance Attributes and Methods \n"
   ]
  },
  {
   "cell_type": "code",
   "execution_count": null,
   "id": "0c3d8351",
   "metadata": {},
   "outputs": [],
   "source": [
    "# Self: Point To Instance Created From Class \n",
    "#self: a reference to the current instance of the class\n",
    "# Instance Attributes: Instance Attributes Defined Inside The Constructor\n",
    "# -----------------------------------------------------------------------\n",
    "# Instance Methods: Take Self Parameter Which Point To Instance Created From Class\n",
    "# Instance Methods Can Have More Than One Parameter Like Any Function\n",
    "# Instance Methods Can Freely Access Attributes And Methods On The Same Object\n",
    "# Instance Methods Can Access The Class Itself"
   ]
  },
  {
   "cell_type": "code",
   "execution_count": 59,
   "id": "e901d9f9",
   "metadata": {},
   "outputs": [
    {
     "name": "stdout",
     "output_type": "stream",
     "text": [
      "new concept\n",
      "['__class__', '__delattr__', '__dict__', '__dir__', '__doc__', '__eq__', '__format__', '__ge__', '__getattribute__', '__gt__', '__hash__', '__init__', '__init_subclass__', '__le__', '__lt__', '__module__', '__ne__', '__new__', '__reduce__', '__reduce_ex__', '__repr__', '__setattr__', '__sizeof__', '__str__', '__subclasshook__', '__weakref__']\n"
     ]
    }
   ],
   "source": [
    "OOP()    \n",
    "print(dir(OOP))"
   ]
  },
  {
   "cell_type": "code",
   "execution_count": 60,
   "id": "f874d55e",
   "metadata": {},
   "outputs": [
    {
     "name": "stdout",
     "output_type": "stream",
     "text": [
      "John\n",
      "36\n"
     ]
    }
   ],
   "source": [
    "class Person:                     #define class \n",
    "    \n",
    "             #def __init__: this is the constructor method. It's automatically called when an object is created from the class.\n",
    "  def __init__(self, name, age): # construct function (magic function)\n",
    "    \n",
    "    self.name = name            #instance attribute \n",
    "    self.age = age             #instance attribute \n",
    "\n",
    "p1 = Person(\"John\", 36)       #object calling\n",
    "\n",
    "print(p1.name)\n",
    "print(p1.age)"
   ]
  },
  {
   "cell_type": "markdown",
   "id": "36d04837",
   "metadata": {},
   "source": [
    "# Example 1 : "
   ]
  },
  {
   "cell_type": "code",
   "execution_count": null,
   "id": "749077e3",
   "metadata": {},
   "outputs": [],
   "source": [
    "class Member:\n",
    "  def __init__(self, first_name, middle_name, last_name, gender):\n",
    "    self.fname = first_name\n",
    "    self.mname = middle_name\n",
    "    self.lname = last_name\n",
    "    self.gender = gender\n",
    "\n",
    "  def full_name(self):                                                  #method 1\n",
    "    return f\"{self.fname} {self.mname} {self.lname}\"\n",
    "\n",
    "  def name_with_title(self):                                           #method 2\n",
    "        \n",
    "    if self.gender == \"Male\":\n",
    "      return f\"Hello Mr {self.fname}\"\n",
    "    elif self.gender == \"Female\":\n",
    "      return f\"Hello Miss {self.fname}\"\n",
    "    else:\n",
    "      return f\"Hello {self.fname}\"\n",
    "\n",
    "  def get_all_info(self):                                            #method 3\n",
    "        \n",
    "    return f\"{self.name_with_title()}, Your Full Name Is: {self.full_name()}\"\n",
    "\n",
    "#member_one, member_two, member_three: these are instances of the Member class representing different people.\n",
    "member_one = Member(\"Osama\", \"Mohamed\", \"Elsayed\", \"Male\")       # creates a Member object\n",
    "member_two = Member(\"Ahmed\", \"Ali\", \"Mahmoud\", \"Male\")           # creates a Member object\n",
    "member_three = Member(\"Mona\", \"Ali\", \"Mahmoud\", \"Female\")        # creates a Member object\n",
    "\n",
    "# print(dir(member_one))\n",
    "\n",
    "# print(member_one.fname, member_one.mname, member_one.lname)     #calling attribute \n",
    "# print(member_two.fname)                                         #calling attribute \n",
    "# print(member_three.fname)                                       #calling attribute \n",
    "\n",
    "\n",
    "\n",
    "# print(member_two.full_name())                                  # access  or calling method 1\n",
    "# print(member_two.name_with_title())                           #calling method 2\n",
    "print(member_one.get_all_info())                               #calling method 3"
   ]
  },
  {
   "cell_type": "markdown",
   "id": "69c21cb1",
   "metadata": {},
   "source": [
    "# Class Attributes"
   ]
  },
  {
   "cell_type": "markdown",
   "id": "d62140d7",
   "metadata": {},
   "source": [
    " Class Attributes: Attributes Defined Outside The Constructor"
   ]
  },
  {
   "cell_type": "code",
   "execution_count": null,
   "id": "7d660b2a",
   "metadata": {},
   "outputs": [],
   "source": [
    "#the new part out of the comment (#) \n",
    "# الشرح الجديد للكلاس اتربيوت هو ال مش معملوه كومينت \n"
   ]
  },
  {
   "cell_type": "code",
   "execution_count": null,
   "id": "e023de37",
   "metadata": {},
   "outputs": [],
   "source": [
    "class Member:\n",
    "\n",
    "                 not_allowed_names = [\"Hell\", \"Shit\", \"Baloot\"] #class attribute \n",
    "\n",
    "                    users_num = 0                                  #class attribute \n",
    "\n",
    "#   def __init__(self, first_name, middle_name, last_name, gender):\n",
    "\n",
    "#     self.fname = first_name\n",
    "\n",
    "#     self.mname = middle_name\n",
    "\n",
    "#     self.lname = last_name\n",
    "\n",
    "#     self.gender = gender\n",
    "\n",
    "#     Member.users_num += 1  # Member.users_num = Member.users_num + 1\n",
    "\n",
    "#   def full_name(self):\n",
    "\n",
    "#     if self.fname in Member.not_allowed_names:\n",
    "\n",
    "#       raise ValueError(\"Name Not Allowed\")\n",
    "\n",
    "#     else:\n",
    "\n",
    "#       return f\"{self.fname} {self.mname} {self.lname}\"\n",
    "\n",
    "#   def name_with_title(self):\n",
    "\n",
    "#     if self.gender == \"Male\":\n",
    "\n",
    "#       return f\"Hello Mr {self.fname}\"\n",
    "\n",
    "#     elif self.gender == \"Female\":\n",
    "\n",
    "#       return f\"Hello Miss {self.fname}\"\n",
    "\n",
    "#     else:\n",
    "\n",
    "#       return f\"Hello {self.fname}\"\n",
    "\n",
    "#   def get_all_info(self):\n",
    "\n",
    "#     return f\"{self.name_with_title()}, Your Full Name Is: {self.full_name()}\"\n",
    "\n",
    "  def delete_user(self):\n",
    "\n",
    "    Member.users_num -= 1  # Member.users_num = Member.users_num -1\n",
    "\n",
    "    return f\"User {self.fname} Is Deleted.\"\n",
    "\n",
    "\n",
    "# print(Member.users_num)\n",
    "\n",
    "# member_one = Member(\"Osama\", \"Mohamed\", \"Elsayed\", \"Male\")\n",
    "# member_two = Member(\"Ahmed\", \"Ali\", \"Mahmoud\", \"Male\")\n",
    "# member_three = Member(\"Mona\", \"Ali\", \"Mahmoud\", \"Female\")\n",
    "# member_four = Member(\"Shit\", \"Hell\", \"Metal\", \"DD\")\n",
    "\n",
    "print(Member.users_num)\n",
    "\n",
    "print(member_four.delete_user())\n",
    "\n",
    "print(Member.users_num)  \n",
    "\n",
    "print(dir(member_one))\n",
    "\n",
    "# print(member_one.fname, member_one.mname, member_one.lname)\n",
    "# print(member_two.fname)\n",
    "# print(member_three.fname)\n",
    "\n",
    "# print(member_two.full_name())\n",
    "# print(member_two.name_with_title())\n",
    "\n",
    "# print(member_three.get_all_info())\n",
    "\n",
    "# print(dir(Member))"
   ]
  },
  {
   "cell_type": "markdown",
   "id": "0e401de5",
   "metadata": {},
   "source": [
    "# "
   ]
  },
  {
   "cell_type": "markdown",
   "id": "a397b37f",
   "metadata": {},
   "source": [
    "# Class Methods And Static Methods"
   ]
  },
  {
   "cell_type": "markdown",
   "id": "6a070759",
   "metadata": {},
   "source": [
    "# "
   ]
  },
  {
   "cell_type": "markdown",
   "id": "7e44aa62",
   "metadata": {},
   "source": [
    "# "
   ]
  },
  {
   "cell_type": "markdown",
   "id": "f4b5af9d",
   "metadata": {},
   "source": [
    "# class method "
   ]
  },
  {
   "cell_type": "markdown",
   "id": "3cef253f",
   "metadata": {},
   "source": [
    "1-a class method is a method that is bound to the class rather than the instance of the class.\n",
    "    \n",
    "2-declared using the  **(@classmethod)**  decorator.\n",
    "    \n",
    "3-the first parameter of a class method is typically **(cls)**.\n",
    "    \n",
    "4-class methods do not run automatically every time a class is defined or used.\n",
    "    \n",
    "5-run when they are explicitly called, just like regular methods.\n",
    "\n",
    "class method is not a global method,it does not run automatically ,\n",
    "It must be invoked explicitly by the class or an instance of the class.\n",
    "    "
   ]
  },
  {
   "cell_type": "code",
   "execution_count": 1,
   "id": "0c00bb64",
   "metadata": {},
   "outputs": [
    {
     "name": "stdout",
     "output_type": "stream",
     "text": [
      "1\n"
     ]
    }
   ],
   "source": [
    "class MyClass:\n",
    "    class_variable = 0\n",
    "\n",
    "    @classmethod\n",
    "    def increment_class_variable(cls):\n",
    "        cls.class_variable += 1\n",
    "\n",
    "# Calling the class method explicitly\n",
    "MyClass.increment_class_variable()\n",
    "print(MyClass.class_variable)  # Output: 1\n"
   ]
  },
  {
   "cell_type": "markdown",
   "id": "deb33ed8",
   "metadata": {},
   "source": [
    "# "
   ]
  },
  {
   "cell_type": "markdown",
   "id": "c873df68",
   "metadata": {},
   "source": [
    "# "
   ]
  },
  {
   "cell_type": "markdown",
   "id": "a61adf54",
   "metadata": {},
   "source": [
    "# static method :"
   ]
  },
  {
   "cell_type": "markdown",
   "id": "b77c5055",
   "metadata": {},
   "source": [
    "1-A static method in Python is similar to a class method .\n",
    "\n",
    "2-but with one key difference: it does not take a cls or self parameter.\n",
    "\n",
    "3-This means that static methods do not have access to the class or instance attributes.\n",
    "\n",
    "4-they behave like regular functions that belong to a class’s namespace.\n",
    "\n",
    "5-Static methods are defined using the **(@staticmethod)** decorator \n",
    "\n",
    "6-**can be called using either the class name or an instance of the class.**\n",
    "\n",
    "7-they are not automatically run—they need to be explicitly called, just like class methods.\n",
    "\n"
   ]
  },
  {
   "cell_type": "markdown",
   "id": "4de26f86",
   "metadata": {},
   "source": [
    "In summary, a static method is not global, nor does it run automatically. It must be explicitly called, and it doesn't have access to the class or instance data unless passed explicitly."
   ]
  },
  {
   "cell_type": "code",
   "execution_count": 5,
   "id": "305fcc82",
   "metadata": {},
   "outputs": [
    {
     "name": "stdout",
     "output_type": "stream",
     "text": [
      "This is a static method.\n",
      "This is a static method.\n"
     ]
    }
   ],
   "source": [
    "class MyClass:\n",
    "    @staticmethod\n",
    "    def static_method(): # note doesn't take a cls or self parameter\n",
    "        print(\"This is a static method.\")\n",
    "  \n",
    "\n",
    "# Calling the static method explicitly\n",
    "MyClass.static_method()  # Output: This is a static method.\n",
    "\n",
    "# Static methods can also be called via an instance of the class\n",
    "instance = MyClass()\n",
    "instance.static_method()  # Output: This is a static method.\n"
   ]
  },
  {
   "cell_type": "markdown",
   "id": "d9bf56a7",
   "metadata": {},
   "source": [
    "# Magic Methods"
   ]
  },
  {
   "cell_type": "markdown",
   "id": "4eca4b15",
   "metadata": {},
   "source": [
    "Magic methods (also known as dunder methods because they have double underscores at the beginning and end of their names) in Python are special methods that allow you to define how objects of your class behave in specific situations. These methods are \"magic\" because they are invoked automatically by Python under certain conditions, such as when an object is created, printed, or involved in mathematical operations."
   ]
  },
  {
   "cell_type": "markdown",
   "id": "e05cd3e8",
   "metadata": {},
   "source": [
    "**Magic methods:** \n",
    "\n",
    "    1- __init__ (Constructor)\n",
    "    \n",
    "    2- __str__ , __repr__ (String Representation)\n",
    "    \n",
    "    3- __len__ (Length)\n",
    "    \n",
    "    4- __getitem__, __setitem__, __delitem__ (Indexing)\n",
    "    \n",
    "    5- __add__, __sub__, __mul__, etc. (Arithmetic Operations)\n",
    "    \n",
    "    6- __call__ (Callable Objects)\n",
    "    \n",
    "    7- __enter__ , __exit__ (Context Management)\n",
    "    \n",
    "    8- __eq__, __lt__, __gt__, etc. (Comparison Operations)\n",
    "    \n",
    "    9- __new__ (Object Creation)\n",
    "    \n",
    "    \n",
    "**They give you great control over the behavior of your custom objects, allowing for custom implementations of standard behavior.**"
   ]
  },
  {
   "cell_type": "markdown",
   "id": "f0fcad5c",
   "metadata": {},
   "source": [
    "# "
   ]
  },
  {
   "cell_type": "code",
   "execution_count": 9,
   "id": "7f48242b",
   "metadata": {},
   "outputs": [
    {
     "name": "stdout",
     "output_type": "stream",
     "text": [
      "Python\n"
     ]
    }
   ],
   "source": [
    "#__init__ \n",
    "\n",
    "class MyClass:\n",
    "    def __init__(self, name):\n",
    "        self.name = name\n",
    "\n",
    "obj = MyClass(\"Python\")\n",
    "print(obj.name)  \n"
   ]
  },
  {
   "cell_type": "markdown",
   "id": "30aad732",
   "metadata": {},
   "source": [
    "# "
   ]
  },
  {
   "cell_type": "code",
   "execution_count": 11,
   "id": "20dad127",
   "metadata": {},
   "outputs": [
    {
     "name": "stdout",
     "output_type": "stream",
     "text": [
      "Myclass with name:Python\n"
     ]
    },
    {
     "data": {
      "text/plain": [
       "\"MyClass('Hello world')\""
      ]
     },
     "execution_count": 11,
     "metadata": {},
     "output_type": "execute_result"
    }
   ],
   "source": [
    "#__str__: Defines the human-readable representation of an object (when printed).\n",
    "#__repr__: Defines the \"official\" string representation of the object, often used for debugging.\n",
    "\n",
    "class MyClass :\n",
    "     def __init__(self,name): \n",
    "            self.name=name\n",
    "     def __str__(self): \n",
    "        return f\"Myclass with name:{self.name}\" \n",
    "    \n",
    "     def __repr__(self):\n",
    "        return f\"MyClass('{self.name}')\"\n",
    "    \n",
    "obj = MyClass(\"Python\")\n",
    "obj2= MyClass(\"Hello world\")\n",
    "print(obj)  \n",
    "repr(obj2) "
   ]
  },
  {
   "cell_type": "markdown",
   "id": "783c42bd",
   "metadata": {},
   "source": [
    "# "
   ]
  },
  {
   "cell_type": "code",
   "execution_count": 13,
   "id": "e666353d",
   "metadata": {},
   "outputs": [
    {
     "name": "stdout",
     "output_type": "stream",
     "text": [
      "3\n"
     ]
    }
   ],
   "source": [
    "#__len__\n",
    "#Defines behavior for the len() function.\n",
    "class MyClass:\n",
    "    def __init__(self, items):\n",
    "        self.items = items\n",
    "\n",
    "    def __len__(self):\n",
    "        return len(self.items)\n",
    "\n",
    "obj = MyClass([1, 2, 3])\n",
    "print(len(obj))  # Output: 3\n"
   ]
  },
  {
   "cell_type": "markdown",
   "id": "ae9441e1",
   "metadata": {},
   "source": [
    "# "
   ]
  },
  {
   "cell_type": "code",
   "execution_count": 14,
   "id": "33c7b299",
   "metadata": {},
   "outputs": [
    {
     "name": "stdout",
     "output_type": "stream",
     "text": [
      "Python\n",
      "Python\n"
     ]
    }
   ],
   "source": [
    "class MyClass:\n",
    "    def __init__(self):\n",
    "        self.data = {}\n",
    "\n",
    "    def __getitem__(self, key):\n",
    "        return self.data[key]\n",
    "\n",
    "    def __setitem__(self, key, value):\n",
    "        self.data[key] = value\n",
    "\n",
    "obj = MyClass()\n",
    "obj[\"name\"] = \"Python\"\n",
    "print(obj[\"name\"])  # Output: Python\n",
    "class MyClass:\n",
    "    def __init__(self):\n",
    "        self.data = {}\n",
    "\n",
    "    def __getitem__(self, key):\n",
    "        return self.data[key]\n",
    "\n",
    "    def __setitem__(self, key, value):\n",
    "        self.data[key] = value\n",
    "\n",
    "obj = MyClass()\n",
    "obj[\"name\"] = \"Python\"\n",
    "print(obj[\"name\"])  # Output: Python\n"
   ]
  },
  {
   "cell_type": "markdown",
   "id": "72d9119e",
   "metadata": {},
   "source": [
    "# "
   ]
  },
  {
   "cell_type": "code",
   "execution_count": 15,
   "id": "81315c83",
   "metadata": {},
   "outputs": [
    {
     "name": "stdout",
     "output_type": "stream",
     "text": [
      "30\n"
     ]
    }
   ],
   "source": [
    "#__add__, __sub__, __mul__\n",
    "class MyClass:\n",
    "    def __init__(self, value):\n",
    "        self.value = value\n",
    "\n",
    "    def __add__(self, other):\n",
    "        return self.value + other.value\n",
    "\n",
    "obj1 = MyClass(10)\n",
    "obj2 = MyClass(20)\n",
    "print(obj1 + obj2)  # Output: 30\n"
   ]
  },
  {
   "cell_type": "markdown",
   "id": "5960fc9d",
   "metadata": {},
   "source": [
    "# "
   ]
  },
  {
   "cell_type": "code",
   "execution_count": 16,
   "id": "f60429d5",
   "metadata": {},
   "outputs": [
    {
     "name": "stdout",
     "output_type": "stream",
     "text": [
      "Entering the context\n",
      "Inside the with block\n",
      "Exiting the context\n"
     ]
    }
   ],
   "source": [
    "#__enter__ and __exit__ \n",
    "#Context managers are often used with with statements to handle resource management\n",
    "#such as opening and closing files or managing database connections, in a clean and safe way.\n",
    "#cuz clean and efficient way to manage resources\n",
    "class MyClass:\n",
    "    def __enter__(self):\n",
    "        print(\"Entering the context\")\n",
    "        return self\n",
    "\n",
    "    def __exit__(self, exc_type, exc_value, traceback):\n",
    "        print(\"Exiting the context\")\n",
    "\n",
    "        \n",
    "with MyClass():\n",
    "    print(\"Inside the with block\")"
   ]
  },
  {
   "cell_type": "markdown",
   "id": "fa419787",
   "metadata": {},
   "source": [
    "The **((with))** statement calls the ((__enter__)) method when it starts, then runs the block of code inside it, and finally calls the ((__exit__)) method when it finishes or if an exception occurs."
   ]
  },
  {
   "cell_type": "markdown",
   "id": "42845c1e",
   "metadata": {},
   "source": [
    "# "
   ]
  },
  {
   "cell_type": "code",
   "execution_count": 17,
   "id": "39dbd8a6",
   "metadata": {},
   "outputs": [
    {
     "name": "stdout",
     "output_type": "stream",
     "text": [
      "True\n"
     ]
    }
   ],
   "source": [
    "# __eq__, __lt__, __gt__, etc. (Comparison Operations)\n",
    "class MyClass:\n",
    "    def __init__(self, value):\n",
    "        self.value = value\n",
    "\n",
    "    def __eq__(self, other):\n",
    "        return self.value == other.value\n",
    "\n",
    "obj1 = MyClass(10)\n",
    "obj2 = MyClass(10)\n",
    "print(obj1 == obj2)  # Output: True\n"
   ]
  },
  {
   "cell_type": "markdown",
   "id": "49f0218a",
   "metadata": {},
   "source": [
    "# "
   ]
  },
  {
   "cell_type": "code",
   "execution_count": 18,
   "id": "579fbff0",
   "metadata": {},
   "outputs": [
    {
     "name": "stdout",
     "output_type": "stream",
     "text": [
      "Creating a new instance\n",
      "Initializing the instance\n"
     ]
    }
   ],
   "source": [
    "# __new__ (Object Creation)\n",
    "'''Defines how new instances of the class are created. It is called before __init__ and is rarely overridden,\n",
    "    but it's important when dealing with immutable objects like int or str.'''\n",
    "\n",
    "class MyClass:\n",
    "    def __new__(cls, *args, **kwargs):\n",
    "        print(\"Creating a new instance\")\n",
    "        return super(MyClass, cls).__new__(cls)\n",
    "\n",
    "    def __init__(self):\n",
    "        print(\"Initializing the instance\")\n",
    "\n",
    "obj = MyClass()"
   ]
  },
  {
   "cell_type": "markdown",
   "id": "99b2f655",
   "metadata": {},
   "source": [
    "# Inheritance OoP"
   ]
  },
  {
   "cell_type": "raw",
   "id": "47d2ac32",
   "metadata": {},
   "source": [
    "Inheritance in Python is a feature of object-oriented programming that allows a class (child class) to inherit attributes and methods from another class (parent class). It make code reusability and allows for the creation of a hierarchical relationship between classes."
   ]
  },
  {
   "cell_type": "markdown",
   "id": "4bfbcc3c",
   "metadata": {},
   "source": [
    "# Syntax inheritance class "
   ]
  },
  {
   "cell_type": "raw",
   "id": "3323cbd3",
   "metadata": {},
   "source": [
    "Class BaseClass:\n",
    "    {Body}\n",
    "Class DerivedClass(BaseClass):\n",
    "    {Body}"
   ]
  },
  {
   "cell_type": "markdown",
   "id": "951a0eb4",
   "metadata": {},
   "source": [
    "# Implement Inheritance in Python Classes"
   ]
  },
  {
   "cell_type": "code",
   "execution_count": 19,
   "id": "8a0a68bc",
   "metadata": {},
   "outputs": [
    {
     "name": "stdout",
     "output_type": "stream",
     "text": [
      "Buddy say woof!\n"
     ]
    }
   ],
   "source": [
    "class Animal:                              #parent class\n",
    "    def __init__(self,name): \n",
    "        self.name = name\n",
    "        \n",
    "    def speak (self):\n",
    "        pass \n",
    "    \n",
    "    \n",
    "class dog (Animal):                         #child class\n",
    "    def speak (self): \n",
    "        return f\"{self.name} say woof!\" \n",
    "\n",
    "#crreating an instance of the dog class \n",
    "dog=dog('Buddy')\n",
    "print(dog.speak())"
   ]
  },
  {
   "cell_type": "markdown",
   "id": "4493caf0",
   "metadata": {},
   "source": [
    "# Types of Inheritance"
   ]
  },
  {
   "cell_type": "markdown",
   "id": "5f4cb05e",
   "metadata": {},
   "source": [
    "1- single inheritance : When a child class inherits from only one parent class\n",
    "\n",
    "2- multiple inheritance : When a child class inherits from multiple parent classes\n",
    "\n",
    "3- multilevel inheritance : When we have a child and grandchild relationship => base --->child 🧒 ---> grandchild\n",
    "\n",
    "4- Hierarchical Inheritance : Multiple child classes inherit from the same parent class.\n",
    "\n",
    "5-Hybrid inheritance :combines more than one form of inheritance\n",
    "\n"
   ]
  },
  {
   "cell_type": "markdown",
   "id": "48deda47",
   "metadata": {},
   "source": [
    "# Use super() in Python"
   ]
  },
  {
   "cell_type": "markdown",
   "id": "c99fb1f9",
   "metadata": {},
   "source": [
    "The super() function is used to call a method from the parent class.\n",
    "\n",
    "The super() function is a built-in function that returns the objects that represent the parent class. It allows to access the parent class’s methods and attributes in the child class.\n",
    "\n",
    " It is especially useful in the context of inheritance, where you might want to extend or modify the behavior of inherited methods without explicitly naming the parent class."
   ]
  },
  {
   "cell_type": "code",
   "execution_count": 23,
   "id": "26650432",
   "metadata": {},
   "outputs": [
    {
     "name": "stdout",
     "output_type": "stream",
     "text": [
      "Rahul 23\n",
      "Mayank 23\n"
     ]
    }
   ],
   "source": [
    "# parent class\n",
    "class Person():\n",
    "  def __init__(self, name, age):\n",
    "    self.name = name\n",
    "    self.age = age\n",
    "\n",
    "  def display(self):\n",
    "    print(self.name, self.age)\n",
    "\n",
    "# child class\n",
    "class Student(Person):\n",
    "  def __init__(self, name, age):\n",
    "    self.sName = name\n",
    "    self.sAge = age\n",
    "    # inheriting the properties of parent class\n",
    "    super().__init__(\"Rahul\", age)\n",
    "\n",
    "  def displayInfo(self):\n",
    "    print(self.sName, self.sAge)\n",
    "\n",
    "obj = Student(\"Mayank\", 23)\n",
    "obj.display()\n",
    "obj.displayInfo()\n"
   ]
  },
  {
   "cell_type": "code",
   "execution_count": null,
   "id": "567a2e01",
   "metadata": {},
   "outputs": [],
   "source": []
  },
  {
   "cell_type": "code",
   "execution_count": 21,
   "id": "3cc3426f",
   "metadata": {},
   "outputs": [
    {
     "name": "stdout",
     "output_type": "stream",
     "text": [
      "Buddy\n",
      "Golden Retriever\n"
     ]
    }
   ],
   "source": [
    "class Animal:\n",
    "    def __init__(self, name):\n",
    "        self.name = name\n",
    "\n",
    "        \n",
    "        \n",
    "        \n",
    "class Dog(Animal):\n",
    "    def __init__(self, name, breed):\n",
    "        super().__init__(name)  \n",
    "        self.breed = breed\n",
    "\n",
    "        \n",
    "        \n",
    "        \n",
    "# Creating an instance of the Dog class\n",
    "dog = Dog(\"Buddy\", \"Golden Retriever\")\n",
    "print(dog.name)   \n",
    "print(dog.breed)  "
   ]
  },
  {
   "cell_type": "markdown",
   "id": "e58337da",
   "metadata": {},
   "source": [
    "In this example, super() . __init__(name) calls the __init__ method of the Animal class to initialize the name attribute."
   ]
  },
  {
   "cell_type": "markdown",
   "id": "c9d85d1c",
   "metadata": {},
   "source": [
    "# What is Method Overriding in Python?"
   ]
  },
  {
   "cell_type": "markdown",
   "id": "b4742ae6",
   "metadata": {},
   "source": [
    "\n",
    "Method overriding occurs when a child class provides a specific implementation for a method **that is already defined in its parent class**. The implementation in the child class replaces the one in the parent class when the method is called on an instance of the child class.\n",
    "\n"
   ]
  },
  {
   "cell_type": "code",
   "execution_count": 22,
   "id": "5e58ed5b",
   "metadata": {},
   "outputs": [
    {
     "name": "stdout",
     "output_type": "stream",
     "text": [
      "Woof!\n"
     ]
    }
   ],
   "source": [
    "class Animal:\n",
    "    def speak(self):\n",
    "        return \"Some sound\"\n",
    "\n",
    "class Dog(Animal):\n",
    "    def speak(self):\n",
    "        return \"Woof!\"\n",
    "\n",
    "# Creating an instance of the Dog class\n",
    "dog = Dog()\n",
    "print(dog.speak())  "
   ]
  },
  {
   "cell_type": "markdown",
   "id": "c2667aeb",
   "metadata": {},
   "source": [
    "In this example, the Dog class overrides the speak method of the Animal class."
   ]
  },
  {
   "cell_type": "markdown",
   "id": "c27b6769",
   "metadata": {},
   "source": [
    "# Multiple inheritances & multi_level inheritance"
   ]
  },
  {
   "cell_type": "code",
   "execution_count": 1,
   "id": "d7392f74",
   "metadata": {},
   "outputs": [],
   "source": [
    "#multiple inheritance implemention\n",
    "class base1: \n",
    "        pass \n",
    "    \n",
    "class base2:\n",
    "        pass\n",
    "        \n",
    "class child(base1,base2): \n",
    "        pass\n",
    "\n",
    "# mro ==> method resolution orders     \n",
    "#print(child.mro()) "
   ]
  },
  {
   "cell_type": "code",
   "execution_count": 5,
   "id": "d2d8f3be",
   "metadata": {},
   "outputs": [
    {
     "name": "stdout",
     "output_type": "stream",
     "text": [
      "Base1\n",
      "Base2\n",
      "Derived\n",
      "Geek1 Geek2\n",
      "[<class '__main__.Derived'>, <class '__main__.Base1'>, <class '__main__.Base2'>, <class 'object'>]\n"
     ]
    }
   ],
   "source": [
    "class Base1(object):\n",
    "    def __init__(self):\n",
    "        self.str1 = \"Geek1\"\n",
    "        print(\"Base1\")\n",
    "\n",
    "\n",
    "class Base2(object):\n",
    "    def __init__(self):\n",
    "        self.str2 = \"Geek2\"\n",
    "        print(\"Base2\")\n",
    "\n",
    "\n",
    "class Derived(Base1, Base2):\n",
    "    def __init__(self):\n",
    "\n",
    "        # Calling constructors of Base1\n",
    "        # and Base2 classes\n",
    "        Base1.__init__(self)\n",
    "        Base2.__init__(self)\n",
    "        print(\"Derived\")\n",
    "\n",
    "    def printStrs(self):\n",
    "        print(self.str1, self.str2)\n",
    "\n",
    "\n",
    "ob = Derived()\n",
    "ob.printStrs()\n",
    "\n",
    "print(Derived.mro())"
   ]
  },
  {
   "cell_type": "code",
   "execution_count": 6,
   "id": "30954e2c",
   "metadata": {},
   "outputs": [],
   "source": [
    "#multi_level implementation \n",
    "\n",
    "class Dad: \n",
    "    pass\n",
    "class child(Dad):\n",
    "    pass\n",
    "class grandchild(child):\n",
    "    pass\n"
   ]
  },
  {
   "cell_type": "code",
   "execution_count": 9,
   "id": "bccc03c5",
   "metadata": {},
   "outputs": [
    {
     "name": "stdout",
     "output_type": "stream",
     "text": [
      "Geek1 23 Noida\n"
     ]
    }
   ],
   "source": [
    "# A Python program to demonstrate inheritance\n",
    "\n",
    "# Base or Super class. Note object in bracket.\n",
    "# (Generally, object is made ancestor of all classes)\n",
    "# In Python 3.x \"class Person\" is\n",
    "# equivalent to \"class Person(object)\"\n",
    "\n",
    "class Base(object):\n",
    "\n",
    "    # Constructor\n",
    "    def __init__(self, name):\n",
    "        self.name = name\n",
    "\n",
    "    # To get name\n",
    "    def getName(self):\n",
    "        return self.name\n",
    "\n",
    "\n",
    "# Inherited or Sub class (Note Person in bracket)\n",
    "class Child(Base):\n",
    "\n",
    "    # Constructor\n",
    "    def __init__(self, name, age):\n",
    "        Base.__init__(self, name)\n",
    "        self.age = age\n",
    "\n",
    "    # To get name\n",
    "    def getAge(self):\n",
    "        return self.age\n",
    "\n",
    "# Inherited or Sub class (Note Person in bracket)\n",
    "\n",
    "\n",
    "class GrandChild(Child):\n",
    "\n",
    "    # Constructor\n",
    "    def __init__(self, name, age, address):\n",
    "        Child.__init__(self, name, age)\n",
    "        self.address = address\n",
    "\n",
    "    # To get address\n",
    "    def getAddress(self):\n",
    "        return self.address\n",
    "\n",
    "\n",
    "# Driver code\n",
    "# g is instance of the class GrandChild \n",
    "g = GrandChild(\"Geek1\", 23, \"Noida\")\n",
    "#g.getName() method calling \n",
    "print(g.getName(), g.getAge(), g.getAddress())\n"
   ]
  },
  {
   "cell_type": "markdown",
   "id": "a7700280",
   "metadata": {},
   "source": [
    "# Hierarchical Inheritance & Hybrid Inheritance"
   ]
  },
  {
   "cell_type": "code",
   "execution_count": 13,
   "id": "992d7749",
   "metadata": {},
   "outputs": [],
   "source": [
    "#Hierarchical\n",
    "class Parent:\n",
    "    pass\n",
    "\n",
    "class Child1(Parent):\n",
    "    pass\n",
    "\n",
    "class Child2(Parent):\n",
    "    pass\n",
    "\n",
    "\n",
    "\n",
    "########################################################################################################################\n",
    "\n",
    "\n",
    "#Hybrid \n",
    "class Parent1:\n",
    "    pass\n",
    "\n",
    "class Parent2:\n",
    "    pass\n",
    "\n",
    "class Child1(Parent1):\n",
    "    pass\n",
    "\n",
    "class Child2(Parent1, Parent2):\n",
    "    pass\n"
   ]
  },
  {
   "cell_type": "markdown",
   "id": "029a7bb4",
   "metadata": {},
   "source": [
    "# Private members of the parent class \n",
    "\n",
    "if u dont want share every member of the parent class, which won’t be available to the child class , \n",
    "\n",
    "\n",
    "\n",
    "you can add **(double underscores before its name)** . \n",
    "\n",
    "instance variable private "
   ]
  },
  {
   "cell_type": "code",
   "execution_count": 10,
   "id": "dae31027",
   "metadata": {},
   "outputs": [
    {
     "name": "stdout",
     "output_type": "stream",
     "text": [
      "21\n"
     ]
    },
    {
     "ename": "AttributeError",
     "evalue": "'D' object has no attribute '__d'",
     "output_type": "error",
     "traceback": [
      "\u001b[1;31m---------------------------------------------------------------------------\u001b[0m",
      "\u001b[1;31mAttributeError\u001b[0m                            Traceback (most recent call last)",
      "\u001b[1;32m~\\AppData\\Local\\Temp\\ipykernel_15024\\3973507147.py\u001b[0m in \u001b[0;36m<module>\u001b[1;34m\u001b[0m\n\u001b[0;32m     19\u001b[0m \u001b[1;31m# produces an error as d is private instance variable\u001b[0m\u001b[1;33m\u001b[0m\u001b[1;33m\u001b[0m\u001b[0m\n\u001b[0;32m     20\u001b[0m \u001b[0mprint\u001b[0m\u001b[1;33m(\u001b[0m\u001b[0mobject1\u001b[0m\u001b[1;33m.\u001b[0m\u001b[0mc\u001b[0m\u001b[1;33m)\u001b[0m\u001b[1;33m\u001b[0m\u001b[1;33m\u001b[0m\u001b[0m\n\u001b[1;32m---> 21\u001b[1;33m \u001b[0mprint\u001b[0m\u001b[1;33m(\u001b[0m\u001b[0mobject1\u001b[0m\u001b[1;33m.\u001b[0m\u001b[0m__d\u001b[0m\u001b[1;33m)\u001b[0m\u001b[1;33m\u001b[0m\u001b[1;33m\u001b[0m\u001b[0m\n\u001b[0m",
      "\u001b[1;31mAttributeError\u001b[0m: 'D' object has no attribute '__d'"
     ]
    }
   ],
   "source": [
    "# Python program to demonstrate private members\n",
    "# of the parent class\n",
    "\n",
    "class C(object):\n",
    "    def __init__(self):\n",
    "        self.c = 21\n",
    "\n",
    "        # d is private instance variable\n",
    "        self.__d = 42\n",
    "\n",
    "\n",
    "class D(C):\n",
    "    def __init__(self):\n",
    "        self.e = 84\n",
    "        C.__init__(self)\n",
    "\n",
    "object1 = D()\n",
    "\n",
    "# produces an error as d is private instance variable\n",
    "print(object1.c)\n",
    "print(object1.__d)\n"
   ]
  },
  {
   "cell_type": "markdown",
   "id": "0470797e",
   "metadata": {},
   "source": [
    "# "
   ]
  },
  {
   "cell_type": "markdown",
   "id": "96a10236",
   "metadata": {},
   "source": [
    "# "
   ]
  },
  {
   "cell_type": "markdown",
   "id": "4c02cbc5",
   "metadata": {},
   "source": [
    "# "
   ]
  },
  {
   "cell_type": "markdown",
   "id": "0733a6e2",
   "metadata": {},
   "source": [
    "# Polymorphism Oop  "
   ]
  },
  {
   "cell_type": "markdown",
   "id": "c87ecc0a",
   "metadata": {},
   "source": [
    "What is Polymorphism: The word polymorphism means having many forms تعدد الاشكال. In programming, polymorphism means the same function name (but different signatures) being used for different types. The key difference is the data types and number of arguments used in function."
   ]
  },
  {
   "cell_type": "markdown",
   "id": "602eb5b3",
   "metadata": {},
   "source": [
    "**polymorphism in Python using inheritance and method overriding**"
   ]
  },
  {
   "cell_type": "markdown",
   "id": "bbb205ef",
   "metadata": {},
   "source": [
    "Polymorphism that mean i can use :  functions & methods in the calss\n",
    "\n",
    "Types of Polymorphism in Python :\n",
    "    \n",
    "            1-Duck Typing (Dynamic Typing)\n",
    "            2-Method Overriding (Run-time Polymorphism)\n",
    "            3-Operator Overloading (Compile-time Polymorphism)\n",
    "            "
   ]
  },
  {
   "cell_type": "markdown",
   "id": "25f0463c",
   "metadata": {},
   "source": [
    "Polymorphism allows you to write more flexible and maintainable code by enabling you to use a single interface to represent different underlying forms (data types)."
   ]
  },
  {
   "cell_type": "code",
   "execution_count": 14,
   "id": "3020976f",
   "metadata": {},
   "outputs": [
    {
     "name": "stdout",
     "output_type": "stream",
     "text": [
      "5\n",
      "3\n"
     ]
    }
   ],
   "source": [
    "# Python program to demonstrate in-built poly-\n",
    "# morphic functions\n",
    "\n",
    "# len() being used for a string\n",
    "print(len(\"geeks\"))\n",
    "\n",
    "# len() being used for a list\n",
    "print(len([10, 20, 30]))\n"
   ]
  },
  {
   "cell_type": "code",
   "execution_count": 17,
   "id": "47ae586f",
   "metadata": {},
   "outputs": [
    {
     "name": "stdout",
     "output_type": "stream",
     "text": [
      "5\n",
      "9\n"
     ]
    }
   ],
   "source": [
    "# A simple Python function to demonstrate \n",
    "# Polymorphism\n",
    "\n",
    "def add(x, y, z = 0): \n",
    "    return x + y+z\n",
    "\n",
    "# Driver code \n",
    "print(add(2, 3))\n",
    "print(add(2, 3, 4))\n"
   ]
  },
  {
   "cell_type": "code",
   "execution_count": 19,
   "id": "e7416918",
   "metadata": {},
   "outputs": [
    {
     "name": "stdout",
     "output_type": "stream",
     "text": [
      "Woof!\n",
      "Meow!\n"
     ]
    }
   ],
   "source": [
    "#Duck Typing \n",
    "class Dog:\n",
    "    def speak(self):\n",
    "        return \"Woof!\"\n",
    "\n",
    "class Cat:\n",
    "    def speak(self):\n",
    "        return \"Meow!\"\n",
    "\n",
    "def animal_sound(animal):\n",
    "    print(animal.speak())\n",
    "\n",
    "dog = Dog()\n",
    "cat = Cat()\n",
    "\n",
    "animal_sound(dog)  \n",
    "animal_sound(cat) \n"
   ]
  },
  {
   "cell_type": "code",
   "execution_count": 20,
   "id": "c73baaa0",
   "metadata": {},
   "outputs": [
    {
     "name": "stdout",
     "output_type": "stream",
     "text": [
      "Woof!\n",
      "Meow!\n",
      "Some generic animal sound\n"
     ]
    }
   ],
   "source": [
    "#Method Overriding\n",
    "class Animal:\n",
    "    def sound(self):\n",
    "        return \"Some generic animal sound\"\n",
    "\n",
    "class Dog(Animal):\n",
    "    def sound(self):\n",
    "        return \"Woof!\"\n",
    "\n",
    "class Cat(Animal):\n",
    "    def sound(self):\n",
    "        return \"Meow!\"\n",
    "\n",
    "animals = [Dog(), Cat(), Animal()]\n",
    "\n",
    "for animal in animals:\n",
    "    print(animal.sound())\n"
   ]
  },
  {
   "cell_type": "code",
   "execution_count": 21,
   "id": "378c6409",
   "metadata": {},
   "outputs": [
    {
     "name": "stdout",
     "output_type": "stream",
     "text": [
      "(4, 6)\n"
     ]
    }
   ],
   "source": [
    "#Operator Overloading \n",
    "class Point:\n",
    "    def __init__(self, x, y):\n",
    "        self.x = x\n",
    "        self.y = y\n",
    "\n",
    "    def __add__(self, other):\n",
    "        return Point(self.x + other.x, self.y + other.y)\n",
    "\n",
    "    def __str__(self):\n",
    "        return f\"({self.x}, {self.y})\"\n",
    "\n",
    "p1 = Point(1, 2)\n",
    "p2 = Point(3, 4)\n",
    "p3 = p1 + p2\n",
    "\n",
    "print(p3)  # Output: (4, 6)\n"
   ]
  },
  {
   "cell_type": "markdown",
   "id": "ffa80fb8",
   "metadata": {},
   "source": [
    "# "
   ]
  },
  {
   "cell_type": "markdown",
   "id": "4e6280e4",
   "metadata": {},
   "source": [
    "# "
   ]
  },
  {
   "cell_type": "markdown",
   "id": "b97cdd4f",
   "metadata": {},
   "source": [
    "# "
   ]
  },
  {
   "cell_type": "markdown",
   "id": "238eb737",
   "metadata": {},
   "source": [
    "# Encapsulation OoP"
   ]
  },
  {
   "cell_type": "markdown",
   "id": "9129ca92",
   "metadata": {},
   "source": [
    "Encapsulation\n",
    "- It protects your classes from accidental changes or deletions and promotes code reusability and maintainability.\n",
    "- Restrict Access To The Data Stored in Attirbutes and Methods\n",
    "\n",
    "\n",
    "**1- Public**\n",
    "-  By default, Every Attribute and Method That We Used So Far Is Public\n",
    "- Attributes and Methods Can Be Modified and Run From Everywhere\n",
    "- Inside Our Outside The Class\n",
    "\n",
    "\n",
    "**2- Protected**\n",
    "- Attributes and Methods Can Be Accessed From Within The Class And Sub Classes\n",
    "- Attributes and Methods Prefixed With One Underscore _\n",
    "\n",
    "\n",
    "**3- Private**\n",
    "- Attributes and Methods Can Be Accessed From Within The Class Or Object Only\n",
    "- Attributes Cannot Be Modified From Outside The Class\n",
    "- Attributes and Methods Prefixed With Two Underscores __\n",
    "---------------------------------------------------------\n",
    "- Attributes = Variables = Properties"
   ]
  },
  {
   "cell_type": "code",
   "execution_count": 31,
   "id": "d5b80181",
   "metadata": {},
   "outputs": [
    {
     "name": "stdout",
     "output_type": "stream",
     "text": [
      "Ahmed\n",
      "Sayed\n",
      "Ahmed\n",
      "Sayed\n",
      "Hello Ahmed\n"
     ]
    }
   ],
   "source": [
    "class Member:\n",
    "\n",
    "  def __init__(self, name):\n",
    "\n",
    "    self.name = name  # Public\n",
    "\n",
    "one = Member(\"Ahmed\")\n",
    "print(one.name)\n",
    "one.name = \"Sayed\"\n",
    "print(one.name)\n",
    "\n",
    "class Member:\n",
    "\n",
    "  def __init__(self, name):\n",
    "\n",
    "    self._name = name  # Protected\n",
    "\n",
    "one = Member(\"Ahmed\")\n",
    "print(one._name)\n",
    "one._name = \"Sayed\"\n",
    "print(one._name)\n",
    "\n",
    "class Member:\n",
    "\n",
    "  def __init__(self, name):\n",
    "\n",
    "    self.__name = name  # Private\n",
    "\n",
    "  def say_hello(self):\n",
    "\n",
    "    return f\"Hello {self.__name}\"\n",
    "\n",
    "one = Member(\"Ahmed\")\n",
    "# print(one.__name)\n",
    "print(one.say_hello())"
   ]
  },
  {
   "cell_type": "code",
   "execution_count": 32,
   "id": "0533a509",
   "metadata": {},
   "outputs": [
    {
     "name": "stdout",
     "output_type": "stream",
     "text": [
      "Ahmed\n"
     ]
    }
   ],
   "source": [
    "#note here  I access private attribute \n",
    "# put in your head  this way just for knowledge between you and others Software engineering \n",
    "#cuz python didn't provide this concept very well (Encapsulation OoP)\n",
    "# so when u put double underscores before its name you share this attribute is private \n",
    "print(one._Member__name)"
   ]
  },
  {
   "cell_type": "markdown",
   "id": "72a5fca5",
   "metadata": {},
   "source": [
    "# Getters And Setters "
   ]
  },
  {
   "cell_type": "markdown",
   "id": "a6839a6a",
   "metadata": {},
   "source": [
    "- We use getters & setters to add validation logic around getting and setting a value.\n",
    "\n",
    "- To avoid direct access of a class field \n",
    "\n",
    "- بنستخدمها علشان نغير و نعدل علي الاتتربيوت البرايفت بطريقه المبرمجين يفهموها طريقه متعارف عليها "
   ]
  },
  {
   "cell_type": "code",
   "execution_count": 33,
   "id": "f52f91fe",
   "metadata": {},
   "outputs": [
    {
     "name": "stdout",
     "output_type": "stream",
     "text": [
      "21\n",
      "21\n"
     ]
    }
   ],
   "source": [
    "# Python program showing a use \n",
    "# of get() and set() method in \n",
    "# normal function \n",
    "\n",
    "class Geek: \n",
    "\tdef __init__(self, age = 0): \n",
    "\t\tself._age = age \n",
    "\t\n",
    "\t# getter method \n",
    "\tdef get_age(self): \n",
    "\t\treturn self._age \n",
    "\t\n",
    "\t# setter method \n",
    "\tdef set_age(self, x): \n",
    "\t\tself._age = x \n",
    "\n",
    "raj = Geek() \n",
    "\n",
    "# setting the age using setter \n",
    "raj.set_age(21) \n",
    "\n",
    "# retrieving age using getter \n",
    "print(raj.get_age()) \n",
    "\n",
    "print(raj._age) \n"
   ]
  },
  {
   "cell_type": "markdown",
   "id": "b89b8be9",
   "metadata": {},
   "source": [
    "# "
   ]
  },
  {
   "cell_type": "markdown",
   "id": "9eb681c4",
   "metadata": {},
   "source": [
    "# "
   ]
  },
  {
   "cell_type": "markdown",
   "id": "89c81461",
   "metadata": {},
   "source": [
    "# "
   ]
  },
  {
   "cell_type": "markdown",
   "id": "5a29d31d",
   "metadata": {},
   "source": [
    "# ABCs Abstract Base Class \n",
    "ABCs are classes that cannot be instantiated directly. They serve as blueprints or templates for other classes to inherit from.\n",
    "They serve as blueprints or templates for other classes to inherit from."
   ]
  },
  {
   "cell_type": "markdown",
   "id": "8137c058",
   "metadata": {},
   "source": [
    "why ABC ? \n",
    "\n",
    "   - ABCs are used when you want to define a common interface for a group of classes. By using an ABC, you ensure that any subclass provides concrete implementations for the abstract methods, thus enforcing a contract between the base class and the subclasses."
   ]
  },
  {
   "cell_type": "markdown",
   "id": "ced3598e",
   "metadata": {},
   "source": [
    "Use Case:\n",
    "- ABCs are commonly used when designing large systems that require multiple classes with similar behaviors, such as plugin systems, frameworks, or any scenario where you want to guarantee a certain structure."
   ]
  },
  {
   "cell_type": "code",
   "execution_count": 46,
   "id": "d13ed33f",
   "metadata": {},
   "outputs": [
    {
     "name": "stdout",
     "output_type": "stream",
     "text": [
      "Woof!\n",
      "Meow!\n"
     ]
    }
   ],
   "source": [
    "from abc import ABC, abstractmethod\n",
    "\n",
    "# Define an abstract base class\n",
    "class Animal(ABC):\n",
    "\n",
    "    # Abstract method (must be implemented by subclass)\n",
    "    @abstractmethod\n",
    "    def sound(self):\n",
    "        pass\n",
    "\n",
    "# Subclass that inherits from Animal\n",
    "class Dog(Animal):\n",
    "\n",
    "    # Concrete implementation of the abstract method\n",
    "    def sound(self):\n",
    "        return \"Woof!\"\n",
    "\n",
    "class Cat(Animal):\n",
    "\n",
    "    # Concrete implementation of the abstract method\n",
    "    def sound(self):\n",
    "        return \"Meow!\"\n",
    "\n",
    "# This will raise an error, as Animal cannot be instantiated directly\n",
    "# animal = Animal()\n",
    "\n",
    "# Create instances of Dog and Cat\n",
    "dog = Dog()\n",
    "cat = Cat()\n",
    "\n",
    "print(dog.sound())  # Output: Woof!\n",
    "print(cat.sound())  # Output: Meow!\n"
   ]
  },
  {
   "cell_type": "code",
   "execution_count": null,
   "id": "d3462a84",
   "metadata": {},
   "outputs": [],
   "source": []
  }
 ],
 "metadata": {
  "kernelspec": {
   "display_name": "Python 3 (ipykernel)",
   "language": "python",
   "name": "python3"
  },
  "language_info": {
   "codemirror_mode": {
    "name": "ipython",
    "version": 3
   },
   "file_extension": ".py",
   "mimetype": "text/x-python",
   "name": "python",
   "nbconvert_exporter": "python",
   "pygments_lexer": "ipython3",
   "version": "3.9.18"
  }
 },
 "nbformat": 4,
 "nbformat_minor": 5
}
